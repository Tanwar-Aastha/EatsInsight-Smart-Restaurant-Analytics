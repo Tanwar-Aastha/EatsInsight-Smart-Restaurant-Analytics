{
 "cells": [
  {
   "cell_type": "markdown",
   "metadata": {
    "id": "Asyyg1NlYlpS"
   },
   "source": [
    "# Task - 1"
   ]
  },
  {
   "cell_type": "code",
   "execution_count": null,
   "metadata": {
    "executionInfo": {
     "elapsed": 7284,
     "status": "ok",
     "timestamp": 1741025838656,
     "user": {
      "displayName": "Aastha Rajput",
      "userId": "08267813752553560513"
     },
     "user_tz": -330
    },
    "id": "1D_GxnaUYcXr"
   },
   "outputs": [],
   "source": [
    "import pandas as pd\n",
    "import numpy as np\n",
    "import matplotlib.pyplot as plt\n",
    "import seaborn as sns\n",
    "import openpyxl\n",
    "from tabulate import tabulate\n",
    "import os\n",
    "import pickle\n",
    "\n",
    "\n",
    "from sklearn.preprocessing import MultiLabelBinarizer, FunctionTransformer\n",
    "from sklearn.preprocessing import OneHotEncoder, StandardScaler, OrdinalEncoder\n",
    "from sklearn.impute import SimpleImputer\n",
    "from sklearn.compose import ColumnTransformer\n",
    "from sklearn.pipeline import Pipeline\n",
    "from category_encoders import TargetEncoder\n",
    "import category_encoders as ce\n",
    "\n",
    "\n",
    "from sklearn.model_selection import train_test_split, KFold, cross_val_score\n",
    "from sklearn.linear_model import LinearRegression, Ridge, Lasso\n",
    "from sklearn.svm import SVR\n",
    "from sklearn.tree import DecisionTreeRegressor\n",
    "from sklearn.ensemble import RandomForestRegressor, GradientBoostingRegressor, AdaBoostRegressor, ExtraTreesRegressor\n",
    "from sklearn.tree import DecisionTreeRegressor\n",
    "from sklearn.feature_selection import RFE\n",
    "from sklearn.inspection import permutation_importance\n",
    "from sklearn.metrics import r2_score, mean_absolute_error, mean_squared_error\n",
    "from sklearn.model_selection import GridSearchCV\n",
    "\n",
    "import warnings\n",
    "warnings.filterwarnings('ignore')"
   ]
  },
  {
   "cell_type": "markdown",
   "metadata": {
    "id": "pFcszz0aZBtC"
   },
   "source": [
    "## Step -1"
   ]
  },
  {
   "cell_type": "markdown",
   "metadata": {
    "id": "DlyjQ_KkZFDs"
   },
   "source": [
    "### Loading Data"
   ]
  },
  {
   "cell_type": "code",
   "execution_count": 3,
   "metadata": {
    "executionInfo": {
     "elapsed": 175,
     "status": "ok",
     "timestamp": 1741025880274,
     "user": {
      "displayName": "Aastha Rajput",
      "userId": "08267813752553560513"
     },
     "user_tz": -330
    },
    "id": "SQV7eVSBYygK"
   },
   "outputs": [],
   "source": [
    "df = pd.read_csv('../Dataset.csv')\n",
    "country_code = pd.read_excel('../Country Code.xlsx')\n",
    "\n",
    "# merging both the datasets\n",
    "df = pd.merge(df, country_code, on='Country Code',how='left')"
   ]
  },
  {
   "cell_type": "code",
   "execution_count": 4,
   "metadata": {
    "colab": {
     "base_uri": "https://localhost:8080/",
     "height": 404
    },
    "executionInfo": {
     "elapsed": 82,
     "status": "ok",
     "timestamp": 1741025881372,
     "user": {
      "displayName": "Aastha Rajput",
      "userId": "08267813752553560513"
     },
     "user_tz": -330
    },
    "id": "d1_gXhXlY3hx",
    "outputId": "f9fa8a4f-7b94-47b7-e7cf-732497323898"
   },
   "outputs": [
    {
     "data": {
      "application/vnd.microsoft.datawrangler.viewer.v0+json": {
       "columns": [
        {
         "name": "index",
         "rawType": "int64",
         "type": "integer"
        },
        {
         "name": "Restaurant ID",
         "rawType": "int64",
         "type": "integer"
        },
        {
         "name": "Restaurant Name",
         "rawType": "object",
         "type": "string"
        },
        {
         "name": "Country Code",
         "rawType": "int64",
         "type": "integer"
        },
        {
         "name": "City",
         "rawType": "object",
         "type": "string"
        },
        {
         "name": "Address",
         "rawType": "object",
         "type": "string"
        },
        {
         "name": "Locality",
         "rawType": "object",
         "type": "string"
        },
        {
         "name": "Locality Verbose",
         "rawType": "object",
         "type": "string"
        },
        {
         "name": "Longitude",
         "rawType": "float64",
         "type": "float"
        },
        {
         "name": "Latitude",
         "rawType": "float64",
         "type": "float"
        },
        {
         "name": "Cuisines",
         "rawType": "object",
         "type": "string"
        },
        {
         "name": "Average Cost for two",
         "rawType": "int64",
         "type": "integer"
        },
        {
         "name": "Currency",
         "rawType": "object",
         "type": "string"
        },
        {
         "name": "Has Table booking",
         "rawType": "object",
         "type": "string"
        },
        {
         "name": "Has Online delivery",
         "rawType": "object",
         "type": "string"
        },
        {
         "name": "Is delivering now",
         "rawType": "object",
         "type": "string"
        },
        {
         "name": "Switch to order menu",
         "rawType": "object",
         "type": "string"
        },
        {
         "name": "Price range",
         "rawType": "int64",
         "type": "integer"
        },
        {
         "name": "Aggregate rating",
         "rawType": "float64",
         "type": "float"
        },
        {
         "name": "Rating color",
         "rawType": "object",
         "type": "string"
        },
        {
         "name": "Rating text",
         "rawType": "object",
         "type": "string"
        },
        {
         "name": "Votes",
         "rawType": "int64",
         "type": "integer"
        },
        {
         "name": "Country",
         "rawType": "object",
         "type": "string"
        }
       ],
       "conversionMethod": "pd.DataFrame",
       "ref": "f74fedee-5a0a-4ca2-8999-06b8e8521504",
       "rows": [
        [
         "0",
         "6317637",
         "Le Petit Souffle",
         "162",
         "Makati City",
         "Third Floor, Century City Mall, Kalayaan Avenue, Poblacion, Makati City",
         "Century City Mall, Poblacion, Makati City",
         "Century City Mall, Poblacion, Makati City, Makati City",
         "121.027535",
         "14.565443",
         "French, Japanese, Desserts",
         "1100",
         "Botswana Pula(P)",
         "Yes",
         "No",
         "No",
         "No",
         "3",
         "4.8",
         "Dark Green",
         "Excellent",
         "314",
         "Phillipines"
        ],
        [
         "1",
         "6304287",
         "Izakaya Kikufuji",
         "162",
         "Makati City",
         "Little Tokyo, 2277 Chino Roces Avenue, Legaspi Village, Makati City",
         "Little Tokyo, Legaspi Village, Makati City",
         "Little Tokyo, Legaspi Village, Makati City, Makati City",
         "121.014101",
         "14.553708",
         "Japanese",
         "1200",
         "Botswana Pula(P)",
         "Yes",
         "No",
         "No",
         "No",
         "3",
         "4.5",
         "Dark Green",
         "Excellent",
         "591",
         "Phillipines"
        ]
       ],
       "shape": {
        "columns": 22,
        "rows": 2
       }
      },
      "text/html": [
       "<div>\n",
       "<style scoped>\n",
       "    .dataframe tbody tr th:only-of-type {\n",
       "        vertical-align: middle;\n",
       "    }\n",
       "\n",
       "    .dataframe tbody tr th {\n",
       "        vertical-align: top;\n",
       "    }\n",
       "\n",
       "    .dataframe thead th {\n",
       "        text-align: right;\n",
       "    }\n",
       "</style>\n",
       "<table border=\"1\" class=\"dataframe\">\n",
       "  <thead>\n",
       "    <tr style=\"text-align: right;\">\n",
       "      <th></th>\n",
       "      <th>Restaurant ID</th>\n",
       "      <th>Restaurant Name</th>\n",
       "      <th>Country Code</th>\n",
       "      <th>City</th>\n",
       "      <th>Address</th>\n",
       "      <th>Locality</th>\n",
       "      <th>Locality Verbose</th>\n",
       "      <th>Longitude</th>\n",
       "      <th>Latitude</th>\n",
       "      <th>Cuisines</th>\n",
       "      <th>...</th>\n",
       "      <th>Has Table booking</th>\n",
       "      <th>Has Online delivery</th>\n",
       "      <th>Is delivering now</th>\n",
       "      <th>Switch to order menu</th>\n",
       "      <th>Price range</th>\n",
       "      <th>Aggregate rating</th>\n",
       "      <th>Rating color</th>\n",
       "      <th>Rating text</th>\n",
       "      <th>Votes</th>\n",
       "      <th>Country</th>\n",
       "    </tr>\n",
       "  </thead>\n",
       "  <tbody>\n",
       "    <tr>\n",
       "      <th>0</th>\n",
       "      <td>6317637</td>\n",
       "      <td>Le Petit Souffle</td>\n",
       "      <td>162</td>\n",
       "      <td>Makati City</td>\n",
       "      <td>Third Floor, Century City Mall, Kalayaan Avenu...</td>\n",
       "      <td>Century City Mall, Poblacion, Makati City</td>\n",
       "      <td>Century City Mall, Poblacion, Makati City, Mak...</td>\n",
       "      <td>121.027535</td>\n",
       "      <td>14.565443</td>\n",
       "      <td>French, Japanese, Desserts</td>\n",
       "      <td>...</td>\n",
       "      <td>Yes</td>\n",
       "      <td>No</td>\n",
       "      <td>No</td>\n",
       "      <td>No</td>\n",
       "      <td>3</td>\n",
       "      <td>4.8</td>\n",
       "      <td>Dark Green</td>\n",
       "      <td>Excellent</td>\n",
       "      <td>314</td>\n",
       "      <td>Phillipines</td>\n",
       "    </tr>\n",
       "    <tr>\n",
       "      <th>1</th>\n",
       "      <td>6304287</td>\n",
       "      <td>Izakaya Kikufuji</td>\n",
       "      <td>162</td>\n",
       "      <td>Makati City</td>\n",
       "      <td>Little Tokyo, 2277 Chino Roces Avenue, Legaspi...</td>\n",
       "      <td>Little Tokyo, Legaspi Village, Makati City</td>\n",
       "      <td>Little Tokyo, Legaspi Village, Makati City, Ma...</td>\n",
       "      <td>121.014101</td>\n",
       "      <td>14.553708</td>\n",
       "      <td>Japanese</td>\n",
       "      <td>...</td>\n",
       "      <td>Yes</td>\n",
       "      <td>No</td>\n",
       "      <td>No</td>\n",
       "      <td>No</td>\n",
       "      <td>3</td>\n",
       "      <td>4.5</td>\n",
       "      <td>Dark Green</td>\n",
       "      <td>Excellent</td>\n",
       "      <td>591</td>\n",
       "      <td>Phillipines</td>\n",
       "    </tr>\n",
       "  </tbody>\n",
       "</table>\n",
       "<p>2 rows × 22 columns</p>\n",
       "</div>"
      ],
      "text/plain": [
       "   Restaurant ID   Restaurant Name  Country Code         City  \\\n",
       "0        6317637  Le Petit Souffle           162  Makati City   \n",
       "1        6304287  Izakaya Kikufuji           162  Makati City   \n",
       "\n",
       "                                             Address  \\\n",
       "0  Third Floor, Century City Mall, Kalayaan Avenu...   \n",
       "1  Little Tokyo, 2277 Chino Roces Avenue, Legaspi...   \n",
       "\n",
       "                                     Locality  \\\n",
       "0   Century City Mall, Poblacion, Makati City   \n",
       "1  Little Tokyo, Legaspi Village, Makati City   \n",
       "\n",
       "                                    Locality Verbose   Longitude   Latitude  \\\n",
       "0  Century City Mall, Poblacion, Makati City, Mak...  121.027535  14.565443   \n",
       "1  Little Tokyo, Legaspi Village, Makati City, Ma...  121.014101  14.553708   \n",
       "\n",
       "                     Cuisines  ...  Has Table booking Has Online delivery  \\\n",
       "0  French, Japanese, Desserts  ...                Yes                  No   \n",
       "1                    Japanese  ...                Yes                  No   \n",
       "\n",
       "  Is delivering now Switch to order menu Price range Aggregate rating  \\\n",
       "0                No                   No           3              4.8   \n",
       "1                No                   No           3              4.5   \n",
       "\n",
       "   Rating color  Rating text Votes      Country  \n",
       "0    Dark Green    Excellent   314  Phillipines  \n",
       "1    Dark Green    Excellent   591  Phillipines  \n",
       "\n",
       "[2 rows x 22 columns]"
      ]
     },
     "execution_count": 4,
     "metadata": {},
     "output_type": "execute_result"
    }
   ],
   "source": [
    "df.head(2)"
   ]
  },
  {
   "cell_type": "code",
   "execution_count": 5,
   "metadata": {
    "executionInfo": {
     "elapsed": 29,
     "status": "ok",
     "timestamp": 1741025882469,
     "user": {
      "displayName": "Aastha Rajput",
      "userId": "08267813752553560513"
     },
     "user_tz": -330
    },
    "id": "snh5Or2qZTj7"
   },
   "outputs": [],
   "source": [
    "# creating a dataframe for dataset understanding\n",
    "\n",
    "def basicInfo_data(dataframe):\n",
    "    '''\n",
    "    This function will provide the basic information (number of missing values, missing value percentage, unique value count, datatype of the feature) about the dataset.\n",
    "    Input: DataFrame\n",
    "    Output: DataFrame\n",
    "    '''\n",
    "    Features = []\n",
    "    Missing_values = []\n",
    "    Unique_value_count = []\n",
    "    Missing_values_percentage = []\n",
    "    datatype = []\n",
    "\n",
    "    for col in dataframe.columns:\n",
    "        Features.append(col)\n",
    "        Missing_values.append(dataframe[col].isnull().sum())\n",
    "        Missing_values_percentage.append(round((dataframe[col].isnull().sum()/dataframe.shape[0])*100,2))\n",
    "        Unique_value_count.append(dataframe[col].nunique())\n",
    "        datatype.append(dataframe[col].dtype)\n",
    "\n",
    "    # filling the dataframe\n",
    "    temp_df = pd.DataFrame({\n",
    "        \"Features\": Features,\n",
    "        \"Missing_values\":Missing_values,\n",
    "        \"Missing_value_percentage\":Missing_values_percentage,\n",
    "        \"Unique_value_count\":Unique_value_count,\n",
    "        \"Datatype\":datatype\n",
    "    })\n",
    "\n",
    "    # display the dataframe\n",
    "    return temp_df"
   ]
  },
  {
   "cell_type": "code",
   "execution_count": 6,
   "metadata": {
    "colab": {
     "base_uri": "https://localhost:8080/",
     "height": 739
    },
    "executionInfo": {
     "elapsed": 157,
     "status": "ok",
     "timestamp": 1741025883673,
     "user": {
      "displayName": "Aastha Rajput",
      "userId": "08267813752553560513"
     },
     "user_tz": -330
    },
    "id": "eMbHGkKxZWGp",
    "outputId": "d537e9d7-bc4c-41a0-9980-804f9af2e338"
   },
   "outputs": [
    {
     "data": {
      "application/vnd.microsoft.datawrangler.viewer.v0+json": {
       "columns": [
        {
         "name": "index",
         "rawType": "int64",
         "type": "integer"
        },
        {
         "name": "Features",
         "rawType": "object",
         "type": "string"
        },
        {
         "name": "Missing_values",
         "rawType": "int64",
         "type": "integer"
        },
        {
         "name": "Missing_value_percentage",
         "rawType": "float64",
         "type": "float"
        },
        {
         "name": "Unique_value_count",
         "rawType": "int64",
         "type": "integer"
        },
        {
         "name": "Datatype",
         "rawType": "object",
         "type": "unknown"
        }
       ],
       "conversionMethod": "pd.DataFrame",
       "ref": "d35cd5fe-3293-4b4b-9532-4414111c7d2c",
       "rows": [
        [
         "0",
         "Restaurant ID",
         "0",
         "0.0",
         "9456",
         "int64"
        ],
        [
         "1",
         "Restaurant Name",
         "0",
         "0.0",
         "7362",
         "object"
        ],
        [
         "2",
         "Country Code",
         "0",
         "0.0",
         "15",
         "int64"
        ],
        [
         "3",
         "City",
         "0",
         "0.0",
         "141",
         "object"
        ],
        [
         "4",
         "Address",
         "0",
         "0.0",
         "8842",
         "object"
        ],
        [
         "5",
         "Locality",
         "0",
         "0.0",
         "1208",
         "object"
        ],
        [
         "6",
         "Locality Verbose",
         "0",
         "0.0",
         "1264",
         "object"
        ],
        [
         "7",
         "Longitude",
         "0",
         "0.0",
         "8521",
         "float64"
        ],
        [
         "8",
         "Latitude",
         "0",
         "0.0",
         "9079",
         "float64"
        ],
        [
         "9",
         "Cuisines",
         "9",
         "0.1",
         "1811",
         "object"
        ],
        [
         "10",
         "Average Cost for two",
         "0",
         "0.0",
         "140",
         "int64"
        ],
        [
         "11",
         "Currency",
         "0",
         "0.0",
         "12",
         "object"
        ],
        [
         "12",
         "Has Table booking",
         "0",
         "0.0",
         "2",
         "object"
        ],
        [
         "13",
         "Has Online delivery",
         "0",
         "0.0",
         "2",
         "object"
        ],
        [
         "14",
         "Is delivering now",
         "0",
         "0.0",
         "2",
         "object"
        ],
        [
         "15",
         "Switch to order menu",
         "0",
         "0.0",
         "1",
         "object"
        ],
        [
         "16",
         "Price range",
         "0",
         "0.0",
         "4",
         "int64"
        ],
        [
         "17",
         "Aggregate rating",
         "0",
         "0.0",
         "33",
         "float64"
        ],
        [
         "18",
         "Rating color",
         "0",
         "0.0",
         "6",
         "object"
        ],
        [
         "19",
         "Rating text",
         "0",
         "0.0",
         "6",
         "object"
        ],
        [
         "20",
         "Votes",
         "0",
         "0.0",
         "1012",
         "int64"
        ],
        [
         "21",
         "Country",
         "0",
         "0.0",
         "15",
         "object"
        ]
       ],
       "shape": {
        "columns": 5,
        "rows": 22
       }
      },
      "text/html": [
       "<div>\n",
       "<style scoped>\n",
       "    .dataframe tbody tr th:only-of-type {\n",
       "        vertical-align: middle;\n",
       "    }\n",
       "\n",
       "    .dataframe tbody tr th {\n",
       "        vertical-align: top;\n",
       "    }\n",
       "\n",
       "    .dataframe thead th {\n",
       "        text-align: right;\n",
       "    }\n",
       "</style>\n",
       "<table border=\"1\" class=\"dataframe\">\n",
       "  <thead>\n",
       "    <tr style=\"text-align: right;\">\n",
       "      <th></th>\n",
       "      <th>Features</th>\n",
       "      <th>Missing_values</th>\n",
       "      <th>Missing_value_percentage</th>\n",
       "      <th>Unique_value_count</th>\n",
       "      <th>Datatype</th>\n",
       "    </tr>\n",
       "  </thead>\n",
       "  <tbody>\n",
       "    <tr>\n",
       "      <th>0</th>\n",
       "      <td>Restaurant ID</td>\n",
       "      <td>0</td>\n",
       "      <td>0.0</td>\n",
       "      <td>9456</td>\n",
       "      <td>int64</td>\n",
       "    </tr>\n",
       "    <tr>\n",
       "      <th>1</th>\n",
       "      <td>Restaurant Name</td>\n",
       "      <td>0</td>\n",
       "      <td>0.0</td>\n",
       "      <td>7362</td>\n",
       "      <td>object</td>\n",
       "    </tr>\n",
       "    <tr>\n",
       "      <th>2</th>\n",
       "      <td>Country Code</td>\n",
       "      <td>0</td>\n",
       "      <td>0.0</td>\n",
       "      <td>15</td>\n",
       "      <td>int64</td>\n",
       "    </tr>\n",
       "    <tr>\n",
       "      <th>3</th>\n",
       "      <td>City</td>\n",
       "      <td>0</td>\n",
       "      <td>0.0</td>\n",
       "      <td>141</td>\n",
       "      <td>object</td>\n",
       "    </tr>\n",
       "    <tr>\n",
       "      <th>4</th>\n",
       "      <td>Address</td>\n",
       "      <td>0</td>\n",
       "      <td>0.0</td>\n",
       "      <td>8842</td>\n",
       "      <td>object</td>\n",
       "    </tr>\n",
       "    <tr>\n",
       "      <th>5</th>\n",
       "      <td>Locality</td>\n",
       "      <td>0</td>\n",
       "      <td>0.0</td>\n",
       "      <td>1208</td>\n",
       "      <td>object</td>\n",
       "    </tr>\n",
       "    <tr>\n",
       "      <th>6</th>\n",
       "      <td>Locality Verbose</td>\n",
       "      <td>0</td>\n",
       "      <td>0.0</td>\n",
       "      <td>1264</td>\n",
       "      <td>object</td>\n",
       "    </tr>\n",
       "    <tr>\n",
       "      <th>7</th>\n",
       "      <td>Longitude</td>\n",
       "      <td>0</td>\n",
       "      <td>0.0</td>\n",
       "      <td>8521</td>\n",
       "      <td>float64</td>\n",
       "    </tr>\n",
       "    <tr>\n",
       "      <th>8</th>\n",
       "      <td>Latitude</td>\n",
       "      <td>0</td>\n",
       "      <td>0.0</td>\n",
       "      <td>9079</td>\n",
       "      <td>float64</td>\n",
       "    </tr>\n",
       "    <tr>\n",
       "      <th>9</th>\n",
       "      <td>Cuisines</td>\n",
       "      <td>9</td>\n",
       "      <td>0.1</td>\n",
       "      <td>1811</td>\n",
       "      <td>object</td>\n",
       "    </tr>\n",
       "    <tr>\n",
       "      <th>10</th>\n",
       "      <td>Average Cost for two</td>\n",
       "      <td>0</td>\n",
       "      <td>0.0</td>\n",
       "      <td>140</td>\n",
       "      <td>int64</td>\n",
       "    </tr>\n",
       "    <tr>\n",
       "      <th>11</th>\n",
       "      <td>Currency</td>\n",
       "      <td>0</td>\n",
       "      <td>0.0</td>\n",
       "      <td>12</td>\n",
       "      <td>object</td>\n",
       "    </tr>\n",
       "    <tr>\n",
       "      <th>12</th>\n",
       "      <td>Has Table booking</td>\n",
       "      <td>0</td>\n",
       "      <td>0.0</td>\n",
       "      <td>2</td>\n",
       "      <td>object</td>\n",
       "    </tr>\n",
       "    <tr>\n",
       "      <th>13</th>\n",
       "      <td>Has Online delivery</td>\n",
       "      <td>0</td>\n",
       "      <td>0.0</td>\n",
       "      <td>2</td>\n",
       "      <td>object</td>\n",
       "    </tr>\n",
       "    <tr>\n",
       "      <th>14</th>\n",
       "      <td>Is delivering now</td>\n",
       "      <td>0</td>\n",
       "      <td>0.0</td>\n",
       "      <td>2</td>\n",
       "      <td>object</td>\n",
       "    </tr>\n",
       "    <tr>\n",
       "      <th>15</th>\n",
       "      <td>Switch to order menu</td>\n",
       "      <td>0</td>\n",
       "      <td>0.0</td>\n",
       "      <td>1</td>\n",
       "      <td>object</td>\n",
       "    </tr>\n",
       "    <tr>\n",
       "      <th>16</th>\n",
       "      <td>Price range</td>\n",
       "      <td>0</td>\n",
       "      <td>0.0</td>\n",
       "      <td>4</td>\n",
       "      <td>int64</td>\n",
       "    </tr>\n",
       "    <tr>\n",
       "      <th>17</th>\n",
       "      <td>Aggregate rating</td>\n",
       "      <td>0</td>\n",
       "      <td>0.0</td>\n",
       "      <td>33</td>\n",
       "      <td>float64</td>\n",
       "    </tr>\n",
       "    <tr>\n",
       "      <th>18</th>\n",
       "      <td>Rating color</td>\n",
       "      <td>0</td>\n",
       "      <td>0.0</td>\n",
       "      <td>6</td>\n",
       "      <td>object</td>\n",
       "    </tr>\n",
       "    <tr>\n",
       "      <th>19</th>\n",
       "      <td>Rating text</td>\n",
       "      <td>0</td>\n",
       "      <td>0.0</td>\n",
       "      <td>6</td>\n",
       "      <td>object</td>\n",
       "    </tr>\n",
       "    <tr>\n",
       "      <th>20</th>\n",
       "      <td>Votes</td>\n",
       "      <td>0</td>\n",
       "      <td>0.0</td>\n",
       "      <td>1012</td>\n",
       "      <td>int64</td>\n",
       "    </tr>\n",
       "    <tr>\n",
       "      <th>21</th>\n",
       "      <td>Country</td>\n",
       "      <td>0</td>\n",
       "      <td>0.0</td>\n",
       "      <td>15</td>\n",
       "      <td>object</td>\n",
       "    </tr>\n",
       "  </tbody>\n",
       "</table>\n",
       "</div>"
      ],
      "text/plain": [
       "                Features  Missing_values  Missing_value_percentage  \\\n",
       "0          Restaurant ID               0                       0.0   \n",
       "1        Restaurant Name               0                       0.0   \n",
       "2           Country Code               0                       0.0   \n",
       "3                   City               0                       0.0   \n",
       "4                Address               0                       0.0   \n",
       "5               Locality               0                       0.0   \n",
       "6       Locality Verbose               0                       0.0   \n",
       "7              Longitude               0                       0.0   \n",
       "8               Latitude               0                       0.0   \n",
       "9               Cuisines               9                       0.1   \n",
       "10  Average Cost for two               0                       0.0   \n",
       "11              Currency               0                       0.0   \n",
       "12     Has Table booking               0                       0.0   \n",
       "13   Has Online delivery               0                       0.0   \n",
       "14     Is delivering now               0                       0.0   \n",
       "15  Switch to order menu               0                       0.0   \n",
       "16           Price range               0                       0.0   \n",
       "17      Aggregate rating               0                       0.0   \n",
       "18          Rating color               0                       0.0   \n",
       "19           Rating text               0                       0.0   \n",
       "20                 Votes               0                       0.0   \n",
       "21               Country               0                       0.0   \n",
       "\n",
       "    Unique_value_count Datatype  \n",
       "0                 9456    int64  \n",
       "1                 7362   object  \n",
       "2                   15    int64  \n",
       "3                  141   object  \n",
       "4                 8842   object  \n",
       "5                 1208   object  \n",
       "6                 1264   object  \n",
       "7                 8521  float64  \n",
       "8                 9079  float64  \n",
       "9                 1811   object  \n",
       "10                 140    int64  \n",
       "11                  12   object  \n",
       "12                   2   object  \n",
       "13                   2   object  \n",
       "14                   2   object  \n",
       "15                   1   object  \n",
       "16                   4    int64  \n",
       "17                  33  float64  \n",
       "18                   6   object  \n",
       "19                   6   object  \n",
       "20                1012    int64  \n",
       "21                  15   object  "
      ]
     },
     "execution_count": 6,
     "metadata": {},
     "output_type": "execute_result"
    }
   ],
   "source": [
    "basicInfo_data(df)"
   ]
  },
  {
   "cell_type": "code",
   "execution_count": 7,
   "metadata": {
    "executionInfo": {
     "elapsed": 18,
     "status": "ok",
     "timestamp": 1741025885007,
     "user": {
      "displayName": "Aastha Rajput",
      "userId": "08267813752553560513"
     },
     "user_tz": -330
    },
    "id": "rxEsjoQGZaU7"
   },
   "outputs": [],
   "source": [
    "def feature_types(dataframe):\n",
    "    \"\"\"This function will differentiate between the categorical, numerical, discrete and continous features.\\n\n",
    "    input: dataframe: DataFrame\\n\n",
    "    output: 1. categorical features: List\\n\n",
    "            2. numerical Features:List\\n\n",
    "            3. Discrete Features:List\\n\n",
    "            4. Continous Features:List\"\"\"\n",
    "    cat_features = dataframe.select_dtypes(include='object').columns.to_list()\n",
    "    num_features = dataframe.select_dtypes(exclude='object').columns.to_list()\n",
    "    discrete_features = [feature for feature in num_features if len(dataframe[feature].unique())<=20]\n",
    "    continous_features = [feature for feature in num_features if feature not in discrete_features]\n",
    "\n",
    "    return cat_features, num_features, discrete_features, continous_features"
   ]
  },
  {
   "cell_type": "markdown",
   "metadata": {
    "id": "ZzsTRXTnZ0IV"
   },
   "source": [
    "### Feature Engineering"
   ]
  },
  {
   "cell_type": "code",
   "execution_count": 8,
   "metadata": {
    "executionInfo": {
     "elapsed": 14,
     "status": "ok",
     "timestamp": 1741025886635,
     "user": {
      "displayName": "Aastha Rajput",
      "userId": "08267813752553560513"
     },
     "user_tz": -330
    },
    "id": "0AgcoxpeZvOe"
   },
   "outputs": [],
   "source": [
    "# creating column for values cost_per_person\n",
    "df['cost'] = df['Average Cost for two']/2\n",
    "\n",
    "\n",
    "# removing useless features\n",
    "df.drop(columns=['Restaurant ID','Average Cost for two',\n",
    "                 'Country Code','Switch to order menu', 'Rating color'],\n",
    "        axis=1, inplace=True)\n",
    "\n",
    "\n",
    "# renaming columns\n",
    "df.rename(columns={'Has Table booking':'Booking',\n",
    "                    'Has Online delivery':'Online_delivery',\n",
    "                    'Is delivering now':'Deliver_now',\n",
    "                    'Restaurant Name':'Name',\n",
    "                    'Rating text':'Rating_text'}\n",
    "         ,inplace=True)"
   ]
  },
  {
   "cell_type": "code",
   "execution_count": 11,
   "metadata": {},
   "outputs": [
    {
     "data": {
      "text/plain": [
       "['Name',\n",
       " 'City',\n",
       " 'Address',\n",
       " 'Locality',\n",
       " 'Locality Verbose',\n",
       " 'Cuisines',\n",
       " 'Currency',\n",
       " 'Booking',\n",
       " 'Online_delivery',\n",
       " 'Deliver_now',\n",
       " 'Rating_text',\n",
       " 'Country']"
      ]
     },
     "execution_count": 11,
     "metadata": {},
     "output_type": "execute_result"
    }
   ],
   "source": [
    "# categorical features\n",
    "categorical_features,_,_,_ = feature_types(df)\n",
    "categorical_features"
   ]
  },
  {
   "cell_type": "code",
   "execution_count": 12,
   "metadata": {
    "colab": {
     "base_uri": "https://localhost:8080/"
    },
    "executionInfo": {
     "elapsed": 14,
     "status": "ok",
     "timestamp": 1741025887436,
     "user": {
      "displayName": "Aastha Rajput",
      "userId": "08267813752553560513"
     },
     "user_tz": -330
    },
    "id": "0zVzJN25aC2Q",
    "outputId": "29e1ec6b-3da3-46f9-cd30-0770d2a7ee8c"
   },
   "outputs": [
    {
     "data": {
      "text/plain": [
       "0"
      ]
     },
     "execution_count": 12,
     "metadata": {},
     "output_type": "execute_result"
    }
   ],
   "source": [
    "# checking for duplicate values\n",
    "df.duplicated(subset=['Name', 'Address']).sum()"
   ]
  },
  {
   "cell_type": "code",
   "execution_count": 13,
   "metadata": {
    "colab": {
     "base_uri": "https://localhost:8080/",
     "height": 286
    },
    "executionInfo": {
     "elapsed": 165,
     "status": "ok",
     "timestamp": 1741025888405,
     "user": {
      "displayName": "Aastha Rajput",
      "userId": "08267813752553560513"
     },
     "user_tz": -330
    },
    "id": "6xykVyA0aH6g",
    "outputId": "d9a714fe-c8db-49b2-e3f7-f8c6d75620c6"
   },
   "outputs": [
    {
     "data": {
      "application/vnd.microsoft.datawrangler.viewer.v0+json": {
       "columns": [
        {
         "name": "index",
         "rawType": "int64",
         "type": "integer"
        },
        {
         "name": "Name",
         "rawType": "object",
         "type": "string"
        },
        {
         "name": "City",
         "rawType": "object",
         "type": "string"
        },
        {
         "name": "Address",
         "rawType": "object",
         "type": "string"
        },
        {
         "name": "Locality",
         "rawType": "object",
         "type": "string"
        },
        {
         "name": "Locality Verbose",
         "rawType": "object",
         "type": "string"
        },
        {
         "name": "Longitude",
         "rawType": "float64",
         "type": "float"
        },
        {
         "name": "Latitude",
         "rawType": "float64",
         "type": "float"
        },
        {
         "name": "Cuisines",
         "rawType": "object",
         "type": "string"
        },
        {
         "name": "Currency",
         "rawType": "object",
         "type": "string"
        },
        {
         "name": "Booking",
         "rawType": "object",
         "type": "string"
        },
        {
         "name": "Online_delivery",
         "rawType": "object",
         "type": "string"
        },
        {
         "name": "Deliver_now",
         "rawType": "object",
         "type": "string"
        },
        {
         "name": "Price range",
         "rawType": "int64",
         "type": "integer"
        },
        {
         "name": "Aggregate rating",
         "rawType": "float64",
         "type": "float"
        },
        {
         "name": "Rating_text",
         "rawType": "object",
         "type": "string"
        },
        {
         "name": "Votes",
         "rawType": "int64",
         "type": "integer"
        },
        {
         "name": "Country",
         "rawType": "object",
         "type": "string"
        },
        {
         "name": "cost",
         "rawType": "float64",
         "type": "float"
        }
       ],
       "conversionMethod": "pd.DataFrame",
       "ref": "21ac4af6-ba3e-4581-a27a-d37997b2cc68",
       "rows": [
        [
         "0",
         "Le Petit Souffle",
         "Makati City",
         "Third Floor, Century City Mall, Kalayaan Avenue, Poblacion, Makati City",
         "Century City Mall, Poblacion, Makati City",
         "Century City Mall, Poblacion, Makati City, Makati City",
         "121.027535",
         "14.565443",
         "French, Japanese, Desserts",
         "Botswana Pula(P)",
         "Yes",
         "No",
         "No",
         "3",
         "4.8",
         "Excellent",
         "314",
         "Phillipines",
         "550.0"
        ],
        [
         "1",
         "Izakaya Kikufuji",
         "Makati City",
         "Little Tokyo, 2277 Chino Roces Avenue, Legaspi Village, Makati City",
         "Little Tokyo, Legaspi Village, Makati City",
         "Little Tokyo, Legaspi Village, Makati City, Makati City",
         "121.014101",
         "14.553708",
         "Japanese",
         "Botswana Pula(P)",
         "Yes",
         "No",
         "No",
         "3",
         "4.5",
         "Excellent",
         "591",
         "Phillipines",
         "600.0"
        ]
       ],
       "shape": {
        "columns": 18,
        "rows": 2
       }
      },
      "text/html": [
       "<div>\n",
       "<style scoped>\n",
       "    .dataframe tbody tr th:only-of-type {\n",
       "        vertical-align: middle;\n",
       "    }\n",
       "\n",
       "    .dataframe tbody tr th {\n",
       "        vertical-align: top;\n",
       "    }\n",
       "\n",
       "    .dataframe thead th {\n",
       "        text-align: right;\n",
       "    }\n",
       "</style>\n",
       "<table border=\"1\" class=\"dataframe\">\n",
       "  <thead>\n",
       "    <tr style=\"text-align: right;\">\n",
       "      <th></th>\n",
       "      <th>Name</th>\n",
       "      <th>City</th>\n",
       "      <th>Address</th>\n",
       "      <th>Locality</th>\n",
       "      <th>Locality Verbose</th>\n",
       "      <th>Longitude</th>\n",
       "      <th>Latitude</th>\n",
       "      <th>Cuisines</th>\n",
       "      <th>Currency</th>\n",
       "      <th>Booking</th>\n",
       "      <th>Online_delivery</th>\n",
       "      <th>Deliver_now</th>\n",
       "      <th>Price range</th>\n",
       "      <th>Aggregate rating</th>\n",
       "      <th>Rating_text</th>\n",
       "      <th>Votes</th>\n",
       "      <th>Country</th>\n",
       "      <th>cost</th>\n",
       "    </tr>\n",
       "  </thead>\n",
       "  <tbody>\n",
       "    <tr>\n",
       "      <th>0</th>\n",
       "      <td>Le Petit Souffle</td>\n",
       "      <td>Makati City</td>\n",
       "      <td>Third Floor, Century City Mall, Kalayaan Avenu...</td>\n",
       "      <td>Century City Mall, Poblacion, Makati City</td>\n",
       "      <td>Century City Mall, Poblacion, Makati City, Mak...</td>\n",
       "      <td>121.027535</td>\n",
       "      <td>14.565443</td>\n",
       "      <td>French, Japanese, Desserts</td>\n",
       "      <td>Botswana Pula(P)</td>\n",
       "      <td>Yes</td>\n",
       "      <td>No</td>\n",
       "      <td>No</td>\n",
       "      <td>3</td>\n",
       "      <td>4.8</td>\n",
       "      <td>Excellent</td>\n",
       "      <td>314</td>\n",
       "      <td>Phillipines</td>\n",
       "      <td>550.0</td>\n",
       "    </tr>\n",
       "    <tr>\n",
       "      <th>1</th>\n",
       "      <td>Izakaya Kikufuji</td>\n",
       "      <td>Makati City</td>\n",
       "      <td>Little Tokyo, 2277 Chino Roces Avenue, Legaspi...</td>\n",
       "      <td>Little Tokyo, Legaspi Village, Makati City</td>\n",
       "      <td>Little Tokyo, Legaspi Village, Makati City, Ma...</td>\n",
       "      <td>121.014101</td>\n",
       "      <td>14.553708</td>\n",
       "      <td>Japanese</td>\n",
       "      <td>Botswana Pula(P)</td>\n",
       "      <td>Yes</td>\n",
       "      <td>No</td>\n",
       "      <td>No</td>\n",
       "      <td>3</td>\n",
       "      <td>4.5</td>\n",
       "      <td>Excellent</td>\n",
       "      <td>591</td>\n",
       "      <td>Phillipines</td>\n",
       "      <td>600.0</td>\n",
       "    </tr>\n",
       "  </tbody>\n",
       "</table>\n",
       "</div>"
      ],
      "text/plain": [
       "               Name         City  \\\n",
       "0  Le Petit Souffle  Makati City   \n",
       "1  Izakaya Kikufuji  Makati City   \n",
       "\n",
       "                                             Address  \\\n",
       "0  Third Floor, Century City Mall, Kalayaan Avenu...   \n",
       "1  Little Tokyo, 2277 Chino Roces Avenue, Legaspi...   \n",
       "\n",
       "                                     Locality  \\\n",
       "0   Century City Mall, Poblacion, Makati City   \n",
       "1  Little Tokyo, Legaspi Village, Makati City   \n",
       "\n",
       "                                    Locality Verbose   Longitude   Latitude  \\\n",
       "0  Century City Mall, Poblacion, Makati City, Mak...  121.027535  14.565443   \n",
       "1  Little Tokyo, Legaspi Village, Makati City, Ma...  121.014101  14.553708   \n",
       "\n",
       "                     Cuisines          Currency Booking Online_delivery  \\\n",
       "0  French, Japanese, Desserts  Botswana Pula(P)     Yes              No   \n",
       "1                    Japanese  Botswana Pula(P)     Yes              No   \n",
       "\n",
       "  Deliver_now  Price range  Aggregate rating Rating_text  Votes      Country  \\\n",
       "0          No            3               4.8   Excellent    314  Phillipines   \n",
       "1          No            3               4.5   Excellent    591  Phillipines   \n",
       "\n",
       "    cost  \n",
       "0  550.0  \n",
       "1  600.0  "
      ]
     },
     "execution_count": 13,
     "metadata": {},
     "output_type": "execute_result"
    }
   ],
   "source": [
    "df.head(2)"
   ]
  },
  {
   "cell_type": "code",
   "execution_count": 14,
   "metadata": {
    "executionInfo": {
     "elapsed": 3,
     "status": "ok",
     "timestamp": 1741027942610,
     "user": {
      "displayName": "Aastha Rajput",
      "userId": "08267813752553560513"
     },
     "user_tz": -330
    },
    "id": "wOLpcTNOaQxB"
   },
   "outputs": [],
   "source": [
    "# Removing the unnecessary features\n",
    "df1 = df[['City', 'Cuisines', 'Booking', 'Online_delivery',\n",
    "       'Deliver_now', 'Price range', 'Aggregate rating', 'Rating_text',\n",
    "       'Votes', 'Country', 'cost']]"
   ]
  },
  {
   "cell_type": "code",
   "execution_count": 15,
   "metadata": {
    "executionInfo": {
     "elapsed": 185,
     "status": "ok",
     "timestamp": 1741027943841,
     "user": {
      "displayName": "Aastha Rajput",
      "userId": "08267813752553560513"
     },
     "user_tz": -330
    },
    "id": "-N4pda5kaPQ5"
   },
   "outputs": [],
   "source": [
    "# Ensure Cuisines column exists and fill NaN values with an empty list\n",
    "df1['Cuisines'] = df1['Cuisines'].fillna('').apply(lambda x: x.split(',') if x != '' else [])\n",
    "\n",
    "# Initialize MultiLabelBinarizer\n",
    "mlb = MultiLabelBinarizer()\n",
    "\n",
    "# Fit-transform and create DataFrame\n",
    "cuisines_encoding = mlb.fit_transform(df1['Cuisines'])\n",
    "multi_cuisines_df = pd.DataFrame(cuisines_encoding, columns=mlb.classes_).astype(int)\n",
    "\n",
    "# Drop original Cuisines column and merging\n",
    "df1 = df1.drop(columns=['Cuisines']).join(multi_cuisines_df)\n",
    "\n",
    "# saving the MultiLabelBinarizer\n",
    "pickle.dump(mlb, open('MultiLabelBinarizer.pkl', 'wb'))\n"
   ]
  },
  {
   "cell_type": "code",
   "execution_count": 16,
   "metadata": {
    "colab": {
     "base_uri": "https://localhost:8080/",
     "height": 325
    },
    "executionInfo": {
     "elapsed": 53,
     "status": "ok",
     "timestamp": 1741027951487,
     "user": {
      "displayName": "Aastha Rajput",
      "userId": "08267813752553560513"
     },
     "user_tz": -330
    },
    "id": "gFKZt6gBazrC",
    "outputId": "9b29b923-e346-41d5-e5e8-a8bbf7de6443"
   },
   "outputs": [
    {
     "data": {
      "application/vnd.microsoft.datawrangler.viewer.v0+json": {
       "columns": [
        {
         "name": "index",
         "rawType": "int64",
         "type": "integer"
        },
        {
         "name": "City",
         "rawType": "object",
         "type": "string"
        },
        {
         "name": "Booking",
         "rawType": "object",
         "type": "string"
        },
        {
         "name": "Online_delivery",
         "rawType": "object",
         "type": "string"
        },
        {
         "name": "Deliver_now",
         "rawType": "object",
         "type": "string"
        },
        {
         "name": "Price range",
         "rawType": "int64",
         "type": "integer"
        },
        {
         "name": "Aggregate rating",
         "rawType": "float64",
         "type": "float"
        },
        {
         "name": "Rating_text",
         "rawType": "object",
         "type": "string"
        },
        {
         "name": "Votes",
         "rawType": "int64",
         "type": "integer"
        },
        {
         "name": "Country",
         "rawType": "object",
         "type": "string"
        },
        {
         "name": "cost",
         "rawType": "float64",
         "type": "float"
        },
        {
         "name": " Afghani",
         "rawType": "int32",
         "type": "integer"
        },
        {
         "name": " African",
         "rawType": "int32",
         "type": "integer"
        },
        {
         "name": " American",
         "rawType": "int32",
         "type": "integer"
        },
        {
         "name": " Andhra",
         "rawType": "int32",
         "type": "integer"
        },
        {
         "name": " Arabian",
         "rawType": "int32",
         "type": "integer"
        },
        {
         "name": " Argentine",
         "rawType": "int32",
         "type": "integer"
        },
        {
         "name": " Armenian",
         "rawType": "int32",
         "type": "integer"
        },
        {
         "name": " Asian",
         "rawType": "int32",
         "type": "integer"
        },
        {
         "name": " Assamese",
         "rawType": "int32",
         "type": "integer"
        },
        {
         "name": " Australian",
         "rawType": "int32",
         "type": "integer"
        },
        {
         "name": " Awadhi",
         "rawType": "int32",
         "type": "integer"
        },
        {
         "name": " BBQ",
         "rawType": "int32",
         "type": "integer"
        },
        {
         "name": " Bakery",
         "rawType": "int32",
         "type": "integer"
        },
        {
         "name": " Bar Food",
         "rawType": "int32",
         "type": "integer"
        },
        {
         "name": " Belgian",
         "rawType": "int32",
         "type": "integer"
        },
        {
         "name": " Bengali",
         "rawType": "int32",
         "type": "integer"
        },
        {
         "name": " Beverages",
         "rawType": "int32",
         "type": "integer"
        },
        {
         "name": " Bihari",
         "rawType": "int32",
         "type": "integer"
        },
        {
         "name": " Biryani",
         "rawType": "int32",
         "type": "integer"
        },
        {
         "name": " Brazilian",
         "rawType": "int32",
         "type": "integer"
        },
        {
         "name": " Breakfast",
         "rawType": "int32",
         "type": "integer"
        },
        {
         "name": " British",
         "rawType": "int32",
         "type": "integer"
        },
        {
         "name": " Bubble Tea",
         "rawType": "int32",
         "type": "integer"
        },
        {
         "name": " Burger",
         "rawType": "int32",
         "type": "integer"
        },
        {
         "name": " Burmese",
         "rawType": "int32",
         "type": "integer"
        },
        {
         "name": " Börek",
         "rawType": "int32",
         "type": "integer"
        },
        {
         "name": " Cafe",
         "rawType": "int32",
         "type": "integer"
        },
        {
         "name": " Cajun",
         "rawType": "int32",
         "type": "integer"
        },
        {
         "name": " Canadian",
         "rawType": "int32",
         "type": "integer"
        },
        {
         "name": " Cantonese",
         "rawType": "int32",
         "type": "integer"
        },
        {
         "name": " Caribbean",
         "rawType": "int32",
         "type": "integer"
        },
        {
         "name": " Charcoal Grill",
         "rawType": "int32",
         "type": "integer"
        },
        {
         "name": " Chettinad",
         "rawType": "int32",
         "type": "integer"
        },
        {
         "name": " Chinese",
         "rawType": "int32",
         "type": "integer"
        },
        {
         "name": " Coffee and Tea",
         "rawType": "int32",
         "type": "integer"
        },
        {
         "name": " Contemporary",
         "rawType": "int32",
         "type": "integer"
        },
        {
         "name": " Continental",
         "rawType": "int32",
         "type": "integer"
        },
        {
         "name": " Cuban",
         "rawType": "int32",
         "type": "integer"
        },
        {
         "name": " Curry",
         "rawType": "int32",
         "type": "integer"
        },
        {
         "name": " Deli",
         "rawType": "int32",
         "type": "integer"
        },
        {
         "name": " Desserts",
         "rawType": "int32",
         "type": "integer"
        },
        {
         "name": " Dim Sum",
         "rawType": "int32",
         "type": "integer"
        },
        {
         "name": " Diner",
         "rawType": "int32",
         "type": "integer"
        },
        {
         "name": " Durban",
         "rawType": "int32",
         "type": "integer"
        },
        {
         "name": " Döner",
         "rawType": "int32",
         "type": "integer"
        },
        {
         "name": " European",
         "rawType": "int32",
         "type": "integer"
        },
        {
         "name": " Fast Food",
         "rawType": "int32",
         "type": "integer"
        },
        {
         "name": " Filipino",
         "rawType": "int32",
         "type": "integer"
        },
        {
         "name": " Finger Food",
         "rawType": "int32",
         "type": "integer"
        },
        {
         "name": " Fish and Chips",
         "rawType": "int32",
         "type": "integer"
        },
        {
         "name": " French",
         "rawType": "int32",
         "type": "integer"
        },
        {
         "name": " Fusion",
         "rawType": "int32",
         "type": "integer"
        },
        {
         "name": " German",
         "rawType": "int32",
         "type": "integer"
        },
        {
         "name": " Goan",
         "rawType": "int32",
         "type": "integer"
        },
        {
         "name": " Greek",
         "rawType": "int32",
         "type": "integer"
        },
        {
         "name": " Grill",
         "rawType": "int32",
         "type": "integer"
        },
        {
         "name": " Gujarati",
         "rawType": "int32",
         "type": "integer"
        },
        {
         "name": " Hawaiian",
         "rawType": "int32",
         "type": "integer"
        },
        {
         "name": " Healthy Food",
         "rawType": "int32",
         "type": "integer"
        },
        {
         "name": " Hyderabadi",
         "rawType": "int32",
         "type": "integer"
        },
        {
         "name": " Ice Cream",
         "rawType": "int32",
         "type": "integer"
        },
        {
         "name": " Indian",
         "rawType": "int32",
         "type": "integer"
        },
        {
         "name": " Indonesian",
         "rawType": "int32",
         "type": "integer"
        },
        {
         "name": " International",
         "rawType": "int32",
         "type": "integer"
        },
        {
         "name": " Iranian",
         "rawType": "int32",
         "type": "integer"
        },
        {
         "name": " Italian",
         "rawType": "int32",
         "type": "integer"
        },
        {
         "name": " Izgara",
         "rawType": "int32",
         "type": "integer"
        },
        {
         "name": " Japanese",
         "rawType": "int32",
         "type": "integer"
        },
        {
         "name": " Juices",
         "rawType": "int32",
         "type": "integer"
        },
        {
         "name": " Kashmiri",
         "rawType": "int32",
         "type": "integer"
        },
        {
         "name": " Kerala",
         "rawType": "int32",
         "type": "integer"
        },
        {
         "name": " Kiwi",
         "rawType": "int32",
         "type": "integer"
        },
        {
         "name": " Korean",
         "rawType": "int32",
         "type": "integer"
        },
        {
         "name": " Latin American",
         "rawType": "int32",
         "type": "integer"
        },
        {
         "name": " Lebanese",
         "rawType": "int32",
         "type": "integer"
        },
        {
         "name": " Lucknowi",
         "rawType": "int32",
         "type": "integer"
        },
        {
         "name": " Maharashtrian",
         "rawType": "int32",
         "type": "integer"
        },
        {
         "name": " Malay",
         "rawType": "int32",
         "type": "integer"
        },
        {
         "name": " Malaysian",
         "rawType": "int32",
         "type": "integer"
        },
        {
         "name": " Mangalorean",
         "rawType": "int32",
         "type": "integer"
        },
        {
         "name": " Mediterranean",
         "rawType": "int32",
         "type": "integer"
        },
        {
         "name": " Mexican",
         "rawType": "int32",
         "type": "integer"
        },
        {
         "name": " Middle Eastern",
         "rawType": "int32",
         "type": "integer"
        },
        {
         "name": " Mineira",
         "rawType": "int32",
         "type": "integer"
        },
        {
         "name": " Mithai",
         "rawType": "int32",
         "type": "integer"
        },
        {
         "name": " Modern Australian",
         "rawType": "int32",
         "type": "integer"
        },
        {
         "name": " Modern Indian",
         "rawType": "int32",
         "type": "integer"
        },
        {
         "name": " Moroccan",
         "rawType": "int32",
         "type": "integer"
        },
        {
         "name": " Mughlai",
         "rawType": "int32",
         "type": "integer"
        },
        {
         "name": " Naga",
         "rawType": "int32",
         "type": "integer"
        },
        {
         "name": " Nepalese",
         "rawType": "int32",
         "type": "integer"
        },
        {
         "name": " North Eastern",
         "rawType": "int32",
         "type": "integer"
        },
        {
         "name": " North Indian",
         "rawType": "int32",
         "type": "integer"
        },
        {
         "name": " Pakistani",
         "rawType": "int32",
         "type": "integer"
        },
        {
         "name": " Parsi",
         "rawType": "int32",
         "type": "integer"
        },
        {
         "name": " Patisserie",
         "rawType": "int32",
         "type": "integer"
        },
        {
         "name": " Persian",
         "rawType": "int32",
         "type": "integer"
        },
        {
         "name": " Pizza",
         "rawType": "int32",
         "type": "integer"
        },
        {
         "name": " Portuguese",
         "rawType": "int32",
         "type": "integer"
        },
        {
         "name": " Pub Food",
         "rawType": "int32",
         "type": "integer"
        },
        {
         "name": " Rajasthani",
         "rawType": "int32",
         "type": "integer"
        },
        {
         "name": " Ramen",
         "rawType": "int32",
         "type": "integer"
        },
        {
         "name": " Raw Meats",
         "rawType": "int32",
         "type": "integer"
        },
        {
         "name": " Salad",
         "rawType": "int32",
         "type": "integer"
        },
        {
         "name": " Sandwich",
         "rawType": "int32",
         "type": "integer"
        },
        {
         "name": " Scottish",
         "rawType": "int32",
         "type": "integer"
        },
        {
         "name": " Seafood",
         "rawType": "int32",
         "type": "integer"
        },
        {
         "name": " Singaporean",
         "rawType": "int32",
         "type": "integer"
        },
        {
         "name": " Soul Food",
         "rawType": "int32",
         "type": "integer"
        },
        {
         "name": " South African",
         "rawType": "int32",
         "type": "integer"
        },
        {
         "name": " South Indian",
         "rawType": "int32",
         "type": "integer"
        },
        {
         "name": " Southern",
         "rawType": "int32",
         "type": "integer"
        },
        {
         "name": " Southwestern",
         "rawType": "int32",
         "type": "integer"
        },
        {
         "name": " Spanish",
         "rawType": "int32",
         "type": "integer"
        },
        {
         "name": " Sri Lankan",
         "rawType": "int32",
         "type": "integer"
        },
        {
         "name": " Steak",
         "rawType": "int32",
         "type": "integer"
        },
        {
         "name": " Street Food",
         "rawType": "int32",
         "type": "integer"
        },
        {
         "name": " Sushi",
         "rawType": "int32",
         "type": "integer"
        },
        {
         "name": " Tapas",
         "rawType": "int32",
         "type": "integer"
        },
        {
         "name": " Tea",
         "rawType": "int32",
         "type": "integer"
        },
        {
         "name": " Teriyaki",
         "rawType": "int32",
         "type": "integer"
        },
        {
         "name": " Tex-Mex",
         "rawType": "int32",
         "type": "integer"
        },
        {
         "name": " Thai",
         "rawType": "int32",
         "type": "integer"
        },
        {
         "name": " Tibetan",
         "rawType": "int32",
         "type": "integer"
        },
        {
         "name": " Turkish",
         "rawType": "int32",
         "type": "integer"
        },
        {
         "name": " Turkish Pizza",
         "rawType": "int32",
         "type": "integer"
        },
        {
         "name": " Vegetarian",
         "rawType": "int32",
         "type": "integer"
        },
        {
         "name": " Vietnamese",
         "rawType": "int32",
         "type": "integer"
        },
        {
         "name": " Western",
         "rawType": "int32",
         "type": "integer"
        },
        {
         "name": " World Cuisine",
         "rawType": "int32",
         "type": "integer"
        },
        {
         "name": "Afghani",
         "rawType": "int32",
         "type": "integer"
        },
        {
         "name": "African",
         "rawType": "int32",
         "type": "integer"
        },
        {
         "name": "American",
         "rawType": "int32",
         "type": "integer"
        },
        {
         "name": "Andhra",
         "rawType": "int32",
         "type": "integer"
        },
        {
         "name": "Arabian",
         "rawType": "int32",
         "type": "integer"
        },
        {
         "name": "Argentine",
         "rawType": "int32",
         "type": "integer"
        },
        {
         "name": "Asian",
         "rawType": "int32",
         "type": "integer"
        },
        {
         "name": "Asian Fusion",
         "rawType": "int32",
         "type": "integer"
        },
        {
         "name": "Assamese",
         "rawType": "int32",
         "type": "integer"
        },
        {
         "name": "Australian",
         "rawType": "int32",
         "type": "integer"
        },
        {
         "name": "Awadhi",
         "rawType": "int32",
         "type": "integer"
        },
        {
         "name": "BBQ",
         "rawType": "int32",
         "type": "integer"
        },
        {
         "name": "Bakery",
         "rawType": "int32",
         "type": "integer"
        },
        {
         "name": "Bar Food",
         "rawType": "int32",
         "type": "integer"
        },
        {
         "name": "Bengali",
         "rawType": "int32",
         "type": "integer"
        },
        {
         "name": "Beverages",
         "rawType": "int32",
         "type": "integer"
        },
        {
         "name": "Bihari",
         "rawType": "int32",
         "type": "integer"
        },
        {
         "name": "Biryani",
         "rawType": "int32",
         "type": "integer"
        },
        {
         "name": "Brazilian",
         "rawType": "int32",
         "type": "integer"
        },
        {
         "name": "Breakfast",
         "rawType": "int32",
         "type": "integer"
        },
        {
         "name": "British",
         "rawType": "int32",
         "type": "integer"
        },
        {
         "name": "Burger",
         "rawType": "int32",
         "type": "integer"
        },
        {
         "name": "Burmese",
         "rawType": "int32",
         "type": "integer"
        },
        {
         "name": "Cafe",
         "rawType": "int32",
         "type": "integer"
        },
        {
         "name": "Cajun",
         "rawType": "int32",
         "type": "integer"
        },
        {
         "name": "Caribbean",
         "rawType": "int32",
         "type": "integer"
        },
        {
         "name": "Charcoal Grill",
         "rawType": "int32",
         "type": "integer"
        },
        {
         "name": "Chinese",
         "rawType": "int32",
         "type": "integer"
        },
        {
         "name": "Coffee and Tea",
         "rawType": "int32",
         "type": "integer"
        },
        {
         "name": "Contemporary",
         "rawType": "int32",
         "type": "integer"
        },
        {
         "name": "Continental",
         "rawType": "int32",
         "type": "integer"
        },
        {
         "name": "Cuban",
         "rawType": "int32",
         "type": "integer"
        },
        {
         "name": "Cuisine Varies",
         "rawType": "int32",
         "type": "integer"
        },
        {
         "name": "Desserts",
         "rawType": "int32",
         "type": "integer"
        },
        {
         "name": "Drinks Only",
         "rawType": "int32",
         "type": "integer"
        },
        {
         "name": "European",
         "rawType": "int32",
         "type": "integer"
        },
        {
         "name": "Fast Food",
         "rawType": "int32",
         "type": "integer"
        },
        {
         "name": "Filipino",
         "rawType": "int32",
         "type": "integer"
        },
        {
         "name": "Finger Food",
         "rawType": "int32",
         "type": "integer"
        },
        {
         "name": "French",
         "rawType": "int32",
         "type": "integer"
        },
        {
         "name": "German",
         "rawType": "int32",
         "type": "integer"
        },
        {
         "name": "Goan",
         "rawType": "int32",
         "type": "integer"
        },
        {
         "name": "Gourmet Fast Food",
         "rawType": "int32",
         "type": "integer"
        },
        {
         "name": "Greek",
         "rawType": "int32",
         "type": "integer"
        },
        {
         "name": "Grill",
         "rawType": "int32",
         "type": "integer"
        },
        {
         "name": "Gujarati",
         "rawType": "int32",
         "type": "integer"
        },
        {
         "name": "Hawaiian",
         "rawType": "int32",
         "type": "integer"
        },
        {
         "name": "Healthy Food",
         "rawType": "int32",
         "type": "integer"
        },
        {
         "name": "Hyderabadi",
         "rawType": "int32",
         "type": "integer"
        },
        {
         "name": "Ice Cream",
         "rawType": "int32",
         "type": "integer"
        },
        {
         "name": "Indian",
         "rawType": "int32",
         "type": "integer"
        },
        {
         "name": "Indonesian",
         "rawType": "int32",
         "type": "integer"
        },
        {
         "name": "International",
         "rawType": "int32",
         "type": "integer"
        },
        {
         "name": "Irish",
         "rawType": "int32",
         "type": "integer"
        },
        {
         "name": "Italian",
         "rawType": "int32",
         "type": "integer"
        },
        {
         "name": "Japanese",
         "rawType": "int32",
         "type": "integer"
        },
        {
         "name": "Juices",
         "rawType": "int32",
         "type": "integer"
        },
        {
         "name": "Kashmiri",
         "rawType": "int32",
         "type": "integer"
        },
        {
         "name": "Kebab",
         "rawType": "int32",
         "type": "integer"
        },
        {
         "name": "Kerala",
         "rawType": "int32",
         "type": "integer"
        },
        {
         "name": "Kiwi",
         "rawType": "int32",
         "type": "integer"
        },
        {
         "name": "Korean",
         "rawType": "int32",
         "type": "integer"
        },
        {
         "name": "Latin American",
         "rawType": "int32",
         "type": "integer"
        },
        {
         "name": "Lebanese",
         "rawType": "int32",
         "type": "integer"
        },
        {
         "name": "Lucknowi",
         "rawType": "int32",
         "type": "integer"
        },
        {
         "name": "Maharashtrian",
         "rawType": "int32",
         "type": "integer"
        },
        {
         "name": "Malaysian",
         "rawType": "int32",
         "type": "integer"
        },
        {
         "name": "Malwani",
         "rawType": "int32",
         "type": "integer"
        },
        {
         "name": "Mediterranean",
         "rawType": "int32",
         "type": "integer"
        },
        {
         "name": "Mexican",
         "rawType": "int32",
         "type": "integer"
        },
        {
         "name": "Middle Eastern",
         "rawType": "int32",
         "type": "integer"
        },
        {
         "name": "Mithai",
         "rawType": "int32",
         "type": "integer"
        },
        {
         "name": "Modern Australian",
         "rawType": "int32",
         "type": "integer"
        },
        {
         "name": "Modern Indian",
         "rawType": "int32",
         "type": "integer"
        },
        {
         "name": "Mughlai",
         "rawType": "int32",
         "type": "integer"
        },
        {
         "name": "Naga",
         "rawType": "int32",
         "type": "integer"
        },
        {
         "name": "Nepalese",
         "rawType": "int32",
         "type": "integer"
        },
        {
         "name": "New American",
         "rawType": "int32",
         "type": "integer"
        },
        {
         "name": "North Eastern",
         "rawType": "int32",
         "type": "integer"
        },
        {
         "name": "North Indian",
         "rawType": "int32",
         "type": "integer"
        },
        {
         "name": "Oriya",
         "rawType": "int32",
         "type": "integer"
        },
        {
         "name": "Pakistani",
         "rawType": "int32",
         "type": "integer"
        },
        {
         "name": "Parsi",
         "rawType": "int32",
         "type": "integer"
        },
        {
         "name": "Patisserie",
         "rawType": "int32",
         "type": "integer"
        },
        {
         "name": "Peranakan",
         "rawType": "int32",
         "type": "integer"
        },
        {
         "name": "Persian",
         "rawType": "int32",
         "type": "integer"
        },
        {
         "name": "Peruvian",
         "rawType": "int32",
         "type": "integer"
        },
        {
         "name": "Pizza",
         "rawType": "int32",
         "type": "integer"
        },
        {
         "name": "Portuguese",
         "rawType": "int32",
         "type": "integer"
        },
        {
         "name": "Pub Food",
         "rawType": "int32",
         "type": "integer"
        },
        {
         "name": "Rajasthani",
         "rawType": "int32",
         "type": "integer"
        },
        {
         "name": "Ramen",
         "rawType": "int32",
         "type": "integer"
        },
        {
         "name": "Raw Meats",
         "rawType": "int32",
         "type": "integer"
        },
        {
         "name": "Restaurant Cafe",
         "rawType": "int32",
         "type": "integer"
        },
        {
         "name": "Salad",
         "rawType": "int32",
         "type": "integer"
        },
        {
         "name": "Sandwich",
         "rawType": "int32",
         "type": "integer"
        },
        {
         "name": "Scottish",
         "rawType": "int32",
         "type": "integer"
        },
        {
         "name": "Seafood",
         "rawType": "int32",
         "type": "integer"
        },
        {
         "name": "Singaporean",
         "rawType": "int32",
         "type": "integer"
        },
        {
         "name": "South American",
         "rawType": "int32",
         "type": "integer"
        },
        {
         "name": "South Indian",
         "rawType": "int32",
         "type": "integer"
        },
        {
         "name": "Southern",
         "rawType": "int32",
         "type": "integer"
        },
        {
         "name": "Spanish",
         "rawType": "int32",
         "type": "integer"
        },
        {
         "name": "Sri Lankan",
         "rawType": "int32",
         "type": "integer"
        },
        {
         "name": "Steak",
         "rawType": "int32",
         "type": "integer"
        },
        {
         "name": "Street Food",
         "rawType": "int32",
         "type": "integer"
        },
        {
         "name": "Sunda",
         "rawType": "int32",
         "type": "integer"
        },
        {
         "name": "Sushi",
         "rawType": "int32",
         "type": "integer"
        },
        {
         "name": "Taiwanese",
         "rawType": "int32",
         "type": "integer"
        },
        {
         "name": "Tapas",
         "rawType": "int32",
         "type": "integer"
        },
        {
         "name": "Tea",
         "rawType": "int32",
         "type": "integer"
        },
        {
         "name": "Tex-Mex",
         "rawType": "int32",
         "type": "integer"
        },
        {
         "name": "Thai",
         "rawType": "int32",
         "type": "integer"
        },
        {
         "name": "Tibetan",
         "rawType": "int32",
         "type": "integer"
        },
        {
         "name": "Turkish",
         "rawType": "int32",
         "type": "integer"
        },
        {
         "name": "Turkish Pizza",
         "rawType": "int32",
         "type": "integer"
        },
        {
         "name": "Vietnamese",
         "rawType": "int32",
         "type": "integer"
        },
        {
         "name": "Western",
         "rawType": "int32",
         "type": "integer"
        },
        {
         "name": "World Cuisine",
         "rawType": "int32",
         "type": "integer"
        }
       ],
       "conversionMethod": "pd.DataFrame",
       "ref": "8f543034-98db-427a-94a7-5596141b8301",
       "rows": [
        [
         "0",
         "Makati City",
         "Yes",
         "No",
         "No",
         "3",
         "4.8",
         "Excellent",
         "314",
         "Phillipines",
         "550.0",
         "0",
         "0",
         "0",
         "0",
         "0",
         "0",
         "0",
         "0",
         "0",
         "0",
         "0",
         "0",
         "0",
         "0",
         "0",
         "0",
         "0",
         "0",
         "0",
         "0",
         "0",
         "0",
         "0",
         "0",
         "0",
         "0",
         "0",
         "0",
         "0",
         "0",
         "0",
         "0",
         "0",
         "0",
         "0",
         "0",
         "0",
         "0",
         "0",
         "0",
         "1",
         "0",
         "0",
         "0",
         "0",
         "0",
         "0",
         "0",
         "0",
         "0",
         "0",
         "0",
         "0",
         "0",
         "0",
         "0",
         "0",
         "0",
         "0",
         "0",
         "0",
         "0",
         "0",
         "0",
         "0",
         "0",
         "0",
         "1",
         "0",
         "0",
         "0",
         "0",
         "0",
         "0",
         "0",
         "0",
         "0",
         "0",
         "0",
         "0",
         "0",
         "0",
         "0",
         "0",
         "0",
         "0",
         "0",
         "0",
         "0",
         "0",
         "0",
         "0",
         "0",
         "0",
         "0",
         "0",
         "0",
         "0",
         "0",
         "0",
         "0",
         "0",
         "0",
         "0",
         "0",
         "0",
         "0",
         "0",
         "0",
         "0",
         "0",
         "0",
         "0",
         "0",
         "0",
         "0",
         "0",
         "0",
         "0",
         "0",
         "0",
         "0",
         "0",
         "0",
         "0",
         "0",
         "0",
         "0",
         "0",
         "0",
         "0",
         "0",
         "0",
         "0",
         "0",
         "0",
         "0",
         "0",
         "0",
         "0",
         "0",
         "0",
         "0",
         "0",
         "0",
         "0",
         "0",
         "0",
         "0",
         "0",
         "0",
         "0",
         "0",
         "0",
         "0",
         "0",
         "0",
         "0",
         "0",
         "0",
         "0",
         "0",
         "0",
         "0",
         "0",
         "0",
         "0",
         "0",
         "0",
         "1",
         "0",
         "0",
         "0",
         "0",
         "0",
         "0",
         "0",
         "0",
         "0",
         "0",
         "0",
         "0",
         "0",
         "0",
         "0",
         "0",
         "0",
         "0",
         "0",
         "0",
         "0",
         "0",
         "0",
         "0",
         "0",
         "0",
         "0",
         "0",
         "0",
         "0",
         "0",
         "0",
         "0",
         "0",
         "0",
         "0",
         "0",
         "0",
         "0",
         "0",
         "0",
         "0",
         "0",
         "0",
         "0",
         "0",
         "0",
         "0",
         "0",
         "0",
         "0",
         "0",
         "0",
         "0",
         "0",
         "0",
         "0",
         "0",
         "0",
         "0",
         "0",
         "0",
         "0",
         "0",
         "0",
         "0",
         "0",
         "0",
         "0",
         "0",
         "0",
         "0",
         "0",
         "0",
         "0",
         "0",
         "0",
         "0",
         "0"
        ],
        [
         "1",
         "Makati City",
         "Yes",
         "No",
         "No",
         "3",
         "4.5",
         "Excellent",
         "591",
         "Phillipines",
         "600.0",
         "0",
         "0",
         "0",
         "0",
         "0",
         "0",
         "0",
         "0",
         "0",
         "0",
         "0",
         "0",
         "0",
         "0",
         "0",
         "0",
         "0",
         "0",
         "0",
         "0",
         "0",
         "0",
         "0",
         "0",
         "0",
         "0",
         "0",
         "0",
         "0",
         "0",
         "0",
         "0",
         "0",
         "0",
         "0",
         "0",
         "0",
         "0",
         "0",
         "0",
         "0",
         "0",
         "0",
         "0",
         "0",
         "0",
         "0",
         "0",
         "0",
         "0",
         "0",
         "0",
         "0",
         "0",
         "0",
         "0",
         "0",
         "0",
         "0",
         "0",
         "0",
         "0",
         "0",
         "0",
         "0",
         "0",
         "0",
         "0",
         "0",
         "0",
         "0",
         "0",
         "0",
         "0",
         "0",
         "0",
         "0",
         "0",
         "0",
         "0",
         "0",
         "0",
         "0",
         "0",
         "0",
         "0",
         "0",
         "0",
         "0",
         "0",
         "0",
         "0",
         "0",
         "0",
         "0",
         "0",
         "0",
         "0",
         "0",
         "0",
         "0",
         "0",
         "0",
         "0",
         "0",
         "0",
         "0",
         "0",
         "0",
         "0",
         "0",
         "0",
         "0",
         "0",
         "0",
         "0",
         "0",
         "0",
         "0",
         "0",
         "0",
         "0",
         "0",
         "0",
         "0",
         "0",
         "0",
         "0",
         "0",
         "0",
         "0",
         "0",
         "0",
         "0",
         "0",
         "0",
         "0",
         "0",
         "0",
         "0",
         "0",
         "0",
         "0",
         "0",
         "0",
         "0",
         "0",
         "0",
         "0",
         "0",
         "0",
         "0",
         "0",
         "0",
         "0",
         "0",
         "0",
         "0",
         "0",
         "0",
         "0",
         "0",
         "0",
         "0",
         "0",
         "0",
         "0",
         "0",
         "0",
         "0",
         "0",
         "0",
         "0",
         "0",
         "0",
         "0",
         "0",
         "0",
         "0",
         "0",
         "0",
         "0",
         "0",
         "0",
         "0",
         "1",
         "0",
         "0",
         "0",
         "0",
         "0",
         "0",
         "0",
         "0",
         "0",
         "0",
         "0",
         "0",
         "0",
         "0",
         "0",
         "0",
         "0",
         "0",
         "0",
         "0",
         "0",
         "0",
         "0",
         "0",
         "0",
         "0",
         "0",
         "0",
         "0",
         "0",
         "0",
         "0",
         "0",
         "0",
         "0",
         "0",
         "0",
         "0",
         "0",
         "0",
         "0",
         "0",
         "0",
         "0",
         "0",
         "0",
         "0",
         "0",
         "0",
         "0",
         "0",
         "0",
         "0",
         "0",
         "0",
         "0",
         "0",
         "0",
         "0",
         "0",
         "0",
         "0",
         "0"
        ],
        [
         "2",
         "Mandaluyong City",
         "Yes",
         "No",
         "No",
         "4",
         "4.4",
         "Very Good",
         "270",
         "Phillipines",
         "2000.0",
         "0",
         "0",
         "0",
         "0",
         "0",
         "0",
         "0",
         "1",
         "0",
         "0",
         "0",
         "0",
         "0",
         "0",
         "0",
         "0",
         "0",
         "0",
         "0",
         "0",
         "0",
         "0",
         "0",
         "0",
         "0",
         "0",
         "0",
         "0",
         "0",
         "0",
         "0",
         "0",
         "0",
         "0",
         "0",
         "0",
         "0",
         "0",
         "0",
         "0",
         "0",
         "0",
         "0",
         "0",
         "0",
         "0",
         "0",
         "1",
         "0",
         "0",
         "0",
         "0",
         "0",
         "0",
         "0",
         "0",
         "0",
         "0",
         "0",
         "0",
         "0",
         "1",
         "0",
         "0",
         "0",
         "0",
         "0",
         "0",
         "0",
         "0",
         "0",
         "0",
         "0",
         "0",
         "0",
         "0",
         "0",
         "0",
         "0",
         "0",
         "0",
         "0",
         "0",
         "0",
         "0",
         "0",
         "0",
         "0",
         "0",
         "0",
         "0",
         "0",
         "0",
         "0",
         "0",
         "0",
         "0",
         "0",
         "0",
         "0",
         "0",
         "0",
         "0",
         "0",
         "0",
         "0",
         "0",
         "0",
         "0",
         "0",
         "0",
         "0",
         "0",
         "0",
         "0",
         "0",
         "0",
         "0",
         "0",
         "0",
         "0",
         "0",
         "0",
         "0",
         "0",
         "0",
         "0",
         "0",
         "0",
         "0",
         "0",
         "0",
         "0",
         "0",
         "0",
         "0",
         "0",
         "0",
         "0",
         "0",
         "0",
         "0",
         "0",
         "0",
         "0",
         "0",
         "0",
         "0",
         "0",
         "0",
         "0",
         "0",
         "0",
         "0",
         "0",
         "0",
         "0",
         "0",
         "0",
         "0",
         "0",
         "0",
         "0",
         "0",
         "0",
         "0",
         "0",
         "0",
         "0",
         "0",
         "0",
         "0",
         "0",
         "0",
         "0",
         "0",
         "0",
         "0",
         "0",
         "0",
         "0",
         "0",
         "0",
         "0",
         "0",
         "0",
         "0",
         "0",
         "0",
         "0",
         "0",
         "0",
         "0",
         "0",
         "0",
         "0",
         "0",
         "0",
         "0",
         "0",
         "0",
         "0",
         "0",
         "0",
         "0",
         "0",
         "0",
         "0",
         "0",
         "0",
         "0",
         "0",
         "0",
         "0",
         "0",
         "0",
         "0",
         "0",
         "0",
         "0",
         "0",
         "0",
         "0",
         "0",
         "0",
         "0",
         "0",
         "1",
         "0",
         "0",
         "0",
         "0",
         "0",
         "0",
         "0",
         "0",
         "0",
         "0",
         "0",
         "0",
         "0",
         "0",
         "0",
         "0",
         "0",
         "0",
         "0",
         "0",
         "0"
        ],
        [
         "3",
         "Mandaluyong City",
         "No",
         "No",
         "No",
         "4",
         "4.9",
         "Excellent",
         "365",
         "Phillipines",
         "750.0",
         "0",
         "0",
         "0",
         "0",
         "0",
         "0",
         "0",
         "0",
         "0",
         "0",
         "0",
         "0",
         "0",
         "0",
         "0",
         "0",
         "0",
         "0",
         "0",
         "0",
         "0",
         "0",
         "0",
         "0",
         "0",
         "0",
         "0",
         "0",
         "0",
         "0",
         "0",
         "0",
         "0",
         "0",
         "0",
         "0",
         "0",
         "0",
         "0",
         "0",
         "0",
         "0",
         "0",
         "0",
         "0",
         "0",
         "0",
         "0",
         "0",
         "0",
         "0",
         "0",
         "0",
         "0",
         "0",
         "0",
         "0",
         "0",
         "0",
         "0",
         "0",
         "0",
         "0",
         "0",
         "0",
         "0",
         "0",
         "0",
         "0",
         "0",
         "0",
         "0",
         "0",
         "0",
         "0",
         "0",
         "0",
         "0",
         "0",
         "0",
         "0",
         "0",
         "0",
         "0",
         "0",
         "0",
         "0",
         "0",
         "0",
         "0",
         "0",
         "0",
         "0",
         "0",
         "0",
         "0",
         "0",
         "0",
         "0",
         "0",
         "0",
         "0",
         "0",
         "0",
         "0",
         "0",
         "0",
         "0",
         "0",
         "0",
         "0",
         "0",
         "0",
         "0",
         "0",
         "0",
         "0",
         "1",
         "0",
         "0",
         "0",
         "0",
         "0",
         "0",
         "0",
         "0",
         "0",
         "0",
         "0",
         "0",
         "0",
         "0",
         "0",
         "0",
         "0",
         "0",
         "0",
         "0",
         "0",
         "0",
         "0",
         "0",
         "0",
         "0",
         "0",
         "0",
         "0",
         "0",
         "0",
         "0",
         "0",
         "0",
         "0",
         "0",
         "0",
         "0",
         "0",
         "0",
         "0",
         "0",
         "0",
         "0",
         "0",
         "0",
         "0",
         "0",
         "0",
         "0",
         "0",
         "0",
         "0",
         "0",
         "0",
         "0",
         "0",
         "0",
         "0",
         "0",
         "0",
         "0",
         "0",
         "0",
         "0",
         "0",
         "0",
         "1",
         "0",
         "0",
         "0",
         "0",
         "0",
         "0",
         "0",
         "0",
         "0",
         "0",
         "0",
         "0",
         "0",
         "0",
         "0",
         "0",
         "0",
         "0",
         "0",
         "0",
         "0",
         "0",
         "0",
         "0",
         "0",
         "0",
         "0",
         "0",
         "0",
         "0",
         "0",
         "0",
         "0",
         "0",
         "0",
         "0",
         "0",
         "0",
         "0",
         "0",
         "0",
         "0",
         "0",
         "0",
         "0",
         "0",
         "0",
         "0",
         "0",
         "0",
         "0",
         "0",
         "0",
         "0",
         "0",
         "0",
         "0",
         "0",
         "0",
         "0",
         "0",
         "0",
         "0"
        ],
        [
         "4",
         "Mandaluyong City",
         "Yes",
         "No",
         "No",
         "4",
         "4.8",
         "Excellent",
         "229",
         "Phillipines",
         "750.0",
         "0",
         "0",
         "0",
         "0",
         "0",
         "0",
         "0",
         "0",
         "0",
         "0",
         "0",
         "0",
         "0",
         "0",
         "0",
         "0",
         "0",
         "0",
         "0",
         "0",
         "0",
         "0",
         "0",
         "0",
         "0",
         "0",
         "0",
         "0",
         "0",
         "0",
         "0",
         "0",
         "0",
         "0",
         "0",
         "0",
         "0",
         "0",
         "0",
         "0",
         "0",
         "0",
         "0",
         "0",
         "0",
         "0",
         "0",
         "0",
         "0",
         "0",
         "0",
         "0",
         "0",
         "0",
         "0",
         "0",
         "0",
         "0",
         "0",
         "0",
         "0",
         "0",
         "0",
         "0",
         "0",
         "0",
         "0",
         "0",
         "0",
         "0",
         "0",
         "0",
         "1",
         "0",
         "0",
         "0",
         "0",
         "0",
         "0",
         "0",
         "0",
         "0",
         "0",
         "0",
         "0",
         "0",
         "0",
         "0",
         "0",
         "0",
         "0",
         "0",
         "0",
         "0",
         "0",
         "0",
         "0",
         "0",
         "0",
         "0",
         "0",
         "0",
         "0",
         "0",
         "0",
         "0",
         "0",
         "0",
         "0",
         "0",
         "0",
         "0",
         "0",
         "0",
         "0",
         "0",
         "0",
         "0",
         "0",
         "0",
         "0",
         "0",
         "0",
         "0",
         "0",
         "0",
         "0",
         "0",
         "0",
         "0",
         "0",
         "0",
         "0",
         "0",
         "0",
         "0",
         "0",
         "0",
         "0",
         "0",
         "0",
         "0",
         "0",
         "0",
         "0",
         "0",
         "0",
         "0",
         "0",
         "0",
         "0",
         "0",
         "0",
         "0",
         "0",
         "0",
         "0",
         "0",
         "0",
         "0",
         "0",
         "0",
         "0",
         "0",
         "0",
         "0",
         "0",
         "0",
         "0",
         "0",
         "0",
         "0",
         "0",
         "0",
         "0",
         "0",
         "0",
         "0",
         "0",
         "0",
         "0",
         "0",
         "0",
         "0",
         "0",
         "1",
         "0",
         "0",
         "0",
         "0",
         "0",
         "0",
         "0",
         "0",
         "0",
         "0",
         "0",
         "0",
         "0",
         "0",
         "0",
         "0",
         "0",
         "0",
         "0",
         "0",
         "0",
         "0",
         "0",
         "0",
         "0",
         "0",
         "0",
         "0",
         "0",
         "0",
         "0",
         "0",
         "0",
         "0",
         "0",
         "0",
         "0",
         "0",
         "0",
         "0",
         "0",
         "0",
         "0",
         "0",
         "0",
         "0",
         "0",
         "0",
         "0",
         "0",
         "0",
         "0",
         "0",
         "0",
         "0",
         "0",
         "0",
         "0",
         "0",
         "0",
         "0",
         "0",
         "0"
        ]
       ],
       "shape": {
        "columns": 259,
        "rows": 5
       }
      },
      "text/html": [
       "<div>\n",
       "<style scoped>\n",
       "    .dataframe tbody tr th:only-of-type {\n",
       "        vertical-align: middle;\n",
       "    }\n",
       "\n",
       "    .dataframe tbody tr th {\n",
       "        vertical-align: top;\n",
       "    }\n",
       "\n",
       "    .dataframe thead th {\n",
       "        text-align: right;\n",
       "    }\n",
       "</style>\n",
       "<table border=\"1\" class=\"dataframe\">\n",
       "  <thead>\n",
       "    <tr style=\"text-align: right;\">\n",
       "      <th></th>\n",
       "      <th>City</th>\n",
       "      <th>Booking</th>\n",
       "      <th>Online_delivery</th>\n",
       "      <th>Deliver_now</th>\n",
       "      <th>Price range</th>\n",
       "      <th>Aggregate rating</th>\n",
       "      <th>Rating_text</th>\n",
       "      <th>Votes</th>\n",
       "      <th>Country</th>\n",
       "      <th>cost</th>\n",
       "      <th>...</th>\n",
       "      <th>Tapas</th>\n",
       "      <th>Tea</th>\n",
       "      <th>Tex-Mex</th>\n",
       "      <th>Thai</th>\n",
       "      <th>Tibetan</th>\n",
       "      <th>Turkish</th>\n",
       "      <th>Turkish Pizza</th>\n",
       "      <th>Vietnamese</th>\n",
       "      <th>Western</th>\n",
       "      <th>World Cuisine</th>\n",
       "    </tr>\n",
       "  </thead>\n",
       "  <tbody>\n",
       "    <tr>\n",
       "      <th>0</th>\n",
       "      <td>Makati City</td>\n",
       "      <td>Yes</td>\n",
       "      <td>No</td>\n",
       "      <td>No</td>\n",
       "      <td>3</td>\n",
       "      <td>4.8</td>\n",
       "      <td>Excellent</td>\n",
       "      <td>314</td>\n",
       "      <td>Phillipines</td>\n",
       "      <td>550.0</td>\n",
       "      <td>...</td>\n",
       "      <td>0</td>\n",
       "      <td>0</td>\n",
       "      <td>0</td>\n",
       "      <td>0</td>\n",
       "      <td>0</td>\n",
       "      <td>0</td>\n",
       "      <td>0</td>\n",
       "      <td>0</td>\n",
       "      <td>0</td>\n",
       "      <td>0</td>\n",
       "    </tr>\n",
       "    <tr>\n",
       "      <th>1</th>\n",
       "      <td>Makati City</td>\n",
       "      <td>Yes</td>\n",
       "      <td>No</td>\n",
       "      <td>No</td>\n",
       "      <td>3</td>\n",
       "      <td>4.5</td>\n",
       "      <td>Excellent</td>\n",
       "      <td>591</td>\n",
       "      <td>Phillipines</td>\n",
       "      <td>600.0</td>\n",
       "      <td>...</td>\n",
       "      <td>0</td>\n",
       "      <td>0</td>\n",
       "      <td>0</td>\n",
       "      <td>0</td>\n",
       "      <td>0</td>\n",
       "      <td>0</td>\n",
       "      <td>0</td>\n",
       "      <td>0</td>\n",
       "      <td>0</td>\n",
       "      <td>0</td>\n",
       "    </tr>\n",
       "    <tr>\n",
       "      <th>2</th>\n",
       "      <td>Mandaluyong City</td>\n",
       "      <td>Yes</td>\n",
       "      <td>No</td>\n",
       "      <td>No</td>\n",
       "      <td>4</td>\n",
       "      <td>4.4</td>\n",
       "      <td>Very Good</td>\n",
       "      <td>270</td>\n",
       "      <td>Phillipines</td>\n",
       "      <td>2000.0</td>\n",
       "      <td>...</td>\n",
       "      <td>0</td>\n",
       "      <td>0</td>\n",
       "      <td>0</td>\n",
       "      <td>0</td>\n",
       "      <td>0</td>\n",
       "      <td>0</td>\n",
       "      <td>0</td>\n",
       "      <td>0</td>\n",
       "      <td>0</td>\n",
       "      <td>0</td>\n",
       "    </tr>\n",
       "    <tr>\n",
       "      <th>3</th>\n",
       "      <td>Mandaluyong City</td>\n",
       "      <td>No</td>\n",
       "      <td>No</td>\n",
       "      <td>No</td>\n",
       "      <td>4</td>\n",
       "      <td>4.9</td>\n",
       "      <td>Excellent</td>\n",
       "      <td>365</td>\n",
       "      <td>Phillipines</td>\n",
       "      <td>750.0</td>\n",
       "      <td>...</td>\n",
       "      <td>0</td>\n",
       "      <td>0</td>\n",
       "      <td>0</td>\n",
       "      <td>0</td>\n",
       "      <td>0</td>\n",
       "      <td>0</td>\n",
       "      <td>0</td>\n",
       "      <td>0</td>\n",
       "      <td>0</td>\n",
       "      <td>0</td>\n",
       "    </tr>\n",
       "    <tr>\n",
       "      <th>4</th>\n",
       "      <td>Mandaluyong City</td>\n",
       "      <td>Yes</td>\n",
       "      <td>No</td>\n",
       "      <td>No</td>\n",
       "      <td>4</td>\n",
       "      <td>4.8</td>\n",
       "      <td>Excellent</td>\n",
       "      <td>229</td>\n",
       "      <td>Phillipines</td>\n",
       "      <td>750.0</td>\n",
       "      <td>...</td>\n",
       "      <td>0</td>\n",
       "      <td>0</td>\n",
       "      <td>0</td>\n",
       "      <td>0</td>\n",
       "      <td>0</td>\n",
       "      <td>0</td>\n",
       "      <td>0</td>\n",
       "      <td>0</td>\n",
       "      <td>0</td>\n",
       "      <td>0</td>\n",
       "    </tr>\n",
       "  </tbody>\n",
       "</table>\n",
       "<p>5 rows × 259 columns</p>\n",
       "</div>"
      ],
      "text/plain": [
       "               City Booking Online_delivery Deliver_now  Price range  \\\n",
       "0       Makati City     Yes              No          No            3   \n",
       "1       Makati City     Yes              No          No            3   \n",
       "2  Mandaluyong City     Yes              No          No            4   \n",
       "3  Mandaluyong City      No              No          No            4   \n",
       "4  Mandaluyong City     Yes              No          No            4   \n",
       "\n",
       "   Aggregate rating Rating_text  Votes      Country    cost  ...  Tapas  Tea  \\\n",
       "0               4.8   Excellent    314  Phillipines   550.0  ...      0    0   \n",
       "1               4.5   Excellent    591  Phillipines   600.0  ...      0    0   \n",
       "2               4.4   Very Good    270  Phillipines  2000.0  ...      0    0   \n",
       "3               4.9   Excellent    365  Phillipines   750.0  ...      0    0   \n",
       "4               4.8   Excellent    229  Phillipines   750.0  ...      0    0   \n",
       "\n",
       "   Tex-Mex  Thai  Tibetan  Turkish  Turkish Pizza  Vietnamese  Western  \\\n",
       "0        0     0        0        0              0           0        0   \n",
       "1        0     0        0        0              0           0        0   \n",
       "2        0     0        0        0              0           0        0   \n",
       "3        0     0        0        0              0           0        0   \n",
       "4        0     0        0        0              0           0        0   \n",
       "\n",
       "   World Cuisine  \n",
       "0              0  \n",
       "1              0  \n",
       "2              0  \n",
       "3              0  \n",
       "4              0  \n",
       "\n",
       "[5 rows x 259 columns]"
      ]
     },
     "execution_count": 16,
     "metadata": {},
     "output_type": "execute_result"
    }
   ],
   "source": [
    "df1.head()"
   ]
  },
  {
   "cell_type": "code",
   "execution_count": 17,
   "metadata": {
    "colab": {
     "base_uri": "https://localhost:8080/",
     "height": 507
    },
    "executionInfo": {
     "elapsed": 837,
     "status": "ok",
     "timestamp": 1741027953270,
     "user": {
      "displayName": "Aastha Rajput",
      "userId": "08267813752553560513"
     },
     "user_tz": -330
    },
    "id": "uJZqn5Mda0l0",
    "outputId": "588930be-72f2-46d4-a2e7-5f9cf83dcac0"
   },
   "outputs": [
    {
     "data": {
      "image/png": "[encoded data removed]",
      "text/plain": [
       "<Figure size 1500x500 with 2 Axes>"
      ]
     },
     "metadata": {},
     "output_type": "display_data"
    }
   ],
   "source": [
    "# checking for outliers in continous features\n",
    "features = df1[['Votes','cost']].columns\n",
    "plt.figure(figsize=(15,5))\n",
    "for i in range(len(features)):\n",
    "    plt.subplot(1, 3, i + 1)  # 3 rows, 6 columns\n",
    "    sns.set_style('ticks')\n",
    "    plt.xlabel(features[i])\n",
    "    ax = sns.boxplot(df1[features[i]])\n",
    "plt.tight_layout()"
   ]
  },
  {
   "cell_type": "code",
   "execution_count": 18,
   "metadata": {
    "colab": {
     "base_uri": "https://localhost:8080/",
     "height": 487
    },
    "executionInfo": {
     "elapsed": 712,
     "status": "ok",
     "timestamp": 1741027954943,
     "user": {
      "displayName": "Aastha Rajput",
      "userId": "08267813752553560513"
     },
     "user_tz": -330
    },
    "id": "JvGWZi8ybVYG",
    "outputId": "caf21d83-2a3b-41fc-ea41-c75cc0f97578"
   },
   "outputs": [
    {
     "data": {
      "image/png": "[encoded data removed]",
      "text/plain": [
       "<Figure size 1800x500 with 2 Axes>"
      ]
     },
     "metadata": {},
     "output_type": "display_data"
    }
   ],
   "source": [
    "fig, ax = plt.subplots(ncols=2, figsize=(18, 5))\n",
    "\n",
    "# Use sns.kdeplot() instead of sns.displot()\n",
    "sns.kdeplot(df1['Votes'], ax=ax[0], fill=True)\n",
    "ax[0].set_xlabel('Votes')\n",
    "ax[0].set_title('KDE Plot of Votes')\n",
    "\n",
    "sns.kdeplot(df1['cost'], ax=ax[1], fill=True)\n",
    "ax[1].set_xlabel('Cost per Person')\n",
    "ax[1].set_title('KDE Plot of Cost per Person')\n",
    "\n",
    "plt.show()"
   ]
  },
  {
   "cell_type": "markdown",
   "metadata": {
    "id": "txx73EqPbb2Z"
   },
   "source": [
    "### Outlier Handling"
   ]
  },
  {
   "cell_type": "code",
   "execution_count": 19,
   "metadata": {
    "executionInfo": {
     "elapsed": 47,
     "status": "ok",
     "timestamp": 1741027956983,
     "user": {
      "displayName": "Aastha Rajput",
      "userId": "08267813752553560513"
     },
     "user_tz": -330
    },
    "id": "j-XKIerybaIK"
   },
   "outputs": [],
   "source": [
    "def determine_outlier_thresholds_iqr(dataframe, col_name, th1=0.25, th3=0.75):\n",
    "    \"\"\"This function will calculate the lower limit and the upper limit which is required for calculating the thresholds.\\n\n",
    "    input: dataframe:DataFrame\\n\n",
    "           column name: str\\n\n",
    "           first quartile: float\\n\n",
    "           third quartile: float\\n\n",
    "    output: lower limit: float\\n\n",
    "            upper limit: float\"\"\"\n",
    "    quartile1 = dataframe[col_name].quantile(th1)\n",
    "    quartile3 = dataframe[col_name].quantile(th3)\n",
    "    iqr = quartile3 - quartile1\n",
    "    upper_limit = quartile3 + 1.5 * iqr\n",
    "    lower_limit = quartile1 - 1.5 * iqr\n",
    "    return lower_limit, upper_limit\n",
    "\n",
    "\n",
    "def check_outliers_iqr(dataframe, col_name):\n",
    "    \"\"\"This function will check if a particular column is having outliers or not.\\n\n",
    "    input: dataframe: DataFrame\\n\n",
    "           col_name:str\\n\n",
    "    output: bool\"\"\"\n",
    "    lower_limit, upper_limit = determine_outlier_thresholds_iqr(dataframe, col_name)\n",
    "    if dataframe[(dataframe[col_name] > upper_limit) | (dataframe[col_name] < lower_limit)].any(axis=None):\n",
    "        return True\n",
    "    else:\n",
    "        return False\n",
    "\n",
    "\n",
    "def replace_with_thresholds_iqr(dataframe,cols, th1=0.05, th3=0.95, replace=False):\n",
    "    data = []\n",
    "    for col_name in cols:\n",
    "        if col_name != 'Aggregate rating':\n",
    "            outliers_ = check_outliers_iqr(df,col_name)\n",
    "            count = None\n",
    "            lower_limit, upper_limit = determine_outlier_thresholds_iqr(dataframe, col_name, th1, th3)\n",
    "            if outliers_:\n",
    "                count = dataframe[(dataframe[col_name] > upper_limit) | (dataframe[col_name] < lower_limit)][col_name].count()\n",
    "                if replace:\n",
    "                    if lower_limit < 0:\n",
    "                        # We don't want to replace with negative values, right!\n",
    "                        dataframe.loc[(dataframe[col_name] > upper_limit), col_name] = upper_limit\n",
    "                    else:\n",
    "                        dataframe.loc[(dataframe[col_name] < lower_limit), col_name] = lower_limit\n",
    "                        dataframe.loc[(dataframe[col_name] > upper_limit), col_name] = upper_limit\n",
    "            outliers_status = check_outliers_iqr(df, col_name)\n",
    "            data.append([outliers_, outliers_status, count, col_name, lower_limit, upper_limit ])\n",
    "    table = tabulate(data, headers=['Outliers (Previously)', 'Outliers', 'Count', 'Column', 'Lower Limit', 'Upper Limit'], tablefmt='rst', numalign='right')\n",
    "    print(\"Removing Outliers using IQR\")\n",
    "    print(table)\n",
    "    return dataframe"
   ]
  },
  {
   "cell_type": "code",
   "execution_count": 20,
   "metadata": {
    "colab": {
     "base_uri": "https://localhost:8080/"
    },
    "executionInfo": {
     "elapsed": 34,
     "status": "ok",
     "timestamp": 1741027958021,
     "user": {
      "displayName": "Aastha Rajput",
      "userId": "08267813752553560513"
     },
     "user_tz": -330
    },
    "id": "spig4OjZbgdS",
    "outputId": "b0561a45-3bc8-4869-8e36-e95f7b53c4fb"
   },
   "outputs": [
    {
     "name": "stdout",
     "output_type": "stream",
     "text": [
      "Removing Outliers using IQR\n",
      "=======================  ==========  =======  ========  =============  =============\n",
      "Outliers (Previously)    Outliers      Count  Column      Lower Limit    Upper Limit\n",
      "=======================  ==========  =======  ========  =============  =============\n",
      "True                     True           1117  Votes            -185.5          322.5\n",
      "True                     True            853  cost             -212.5          687.5\n",
      "=======================  ==========  =======  ========  =============  =============\n"
     ]
    }
   ],
   "source": [
    "temp_df = df1[['Votes','cost']]\n",
    "temp_df = replace_with_thresholds_iqr(dataframe=temp_df, cols=temp_df.columns,\n",
    "                                     th1=0.25, th3=0.75 ,replace=True)\n",
    "\n",
    "# # replacing the values in the data\n",
    "df1.iloc[:,7:8] = temp_df['Votes']\n",
    "df1.iloc[:,9:10] = temp_df['cost']"
   ]
  },
  {
   "cell_type": "code",
   "execution_count": 21,
   "metadata": {
    "colab": {
     "base_uri": "https://localhost:8080/",
     "height": 487
    },
    "executionInfo": {
     "elapsed": 610,
     "status": "ok",
     "timestamp": 1741027959574,
     "user": {
      "displayName": "Aastha Rajput",
      "userId": "08267813752553560513"
     },
     "user_tz": -330
    },
    "id": "9kngBfjlbq-V",
    "outputId": "8ec93318-f15d-4430-b910-0be459aad11c"
   },
   "outputs": [
    {
     "data": {
      "image/png": "[encoded data removed]",
      "text/plain": [
       "<Figure size 1800x500 with 2 Axes>"
      ]
     },
     "metadata": {},
     "output_type": "display_data"
    }
   ],
   "source": [
    "# after oultier handling\n",
    "fig, ax = plt.subplots(ncols=2, figsize=(18, 5))\n",
    "\n",
    "# Use sns.kdeplot() instead of sns.displot()\n",
    "sns.kdeplot(df1['Votes'], ax=ax[0], fill=True)\n",
    "ax[0].set_xlabel('Votes')\n",
    "ax[0].set_title('KDE Plot of Votes')\n",
    "\n",
    "sns.kdeplot(df1['cost'], ax=ax[1], fill=True)\n",
    "ax[1].set_xlabel('Cost per Person')\n",
    "ax[1].set_title('KDE Plot of Cost per Person')\n",
    "\n",
    "plt.show()"
   ]
  },
  {
   "cell_type": "code",
   "execution_count": 22,
   "metadata": {
    "colab": {
     "base_uri": "https://localhost:8080/",
     "height": 325
    },
    "executionInfo": {
     "elapsed": 38,
     "status": "ok",
     "timestamp": 1741027960651,
     "user": {
      "displayName": "Aastha Rajput",
      "userId": "08267813752553560513"
     },
     "user_tz": -330
    },
    "id": "czfPivcyEdUu",
    "outputId": "472a9cd1-02a3-4b77-c603-a5dd8b768f99"
   },
   "outputs": [
    {
     "data": {
      "application/vnd.microsoft.datawrangler.viewer.v0+json": {
       "columns": [
        {
         "name": "index",
         "rawType": "int64",
         "type": "integer"
        },
        {
         "name": "City",
         "rawType": "object",
         "type": "string"
        },
        {
         "name": "Booking",
         "rawType": "object",
         "type": "string"
        },
        {
         "name": "Online_delivery",
         "rawType": "object",
         "type": "string"
        },
        {
         "name": "Deliver_now",
         "rawType": "object",
         "type": "string"
        },
        {
         "name": "Price range",
         "rawType": "int64",
         "type": "integer"
        },
        {
         "name": "Aggregate rating",
         "rawType": "float64",
         "type": "float"
        },
        {
         "name": "Rating_text",
         "rawType": "object",
         "type": "string"
        },
        {
         "name": "Votes",
         "rawType": "float64",
         "type": "float"
        },
        {
         "name": "Country",
         "rawType": "object",
         "type": "string"
        },
        {
         "name": "cost",
         "rawType": "float64",
         "type": "float"
        },
        {
         "name": " Afghani",
         "rawType": "int32",
         "type": "integer"
        },
        {
         "name": " African",
         "rawType": "int32",
         "type": "integer"
        },
        {
         "name": " American",
         "rawType": "int32",
         "type": "integer"
        },
        {
         "name": " Andhra",
         "rawType": "int32",
         "type": "integer"
        },
        {
         "name": " Arabian",
         "rawType": "int32",
         "type": "integer"
        },
        {
         "name": " Argentine",
         "rawType": "int32",
         "type": "integer"
        },
        {
         "name": " Armenian",
         "rawType": "int32",
         "type": "integer"
        },
        {
         "name": " Asian",
         "rawType": "int32",
         "type": "integer"
        },
        {
         "name": " Assamese",
         "rawType": "int32",
         "type": "integer"
        },
        {
         "name": " Australian",
         "rawType": "int32",
         "type": "integer"
        },
        {
         "name": " Awadhi",
         "rawType": "int32",
         "type": "integer"
        },
        {
         "name": " BBQ",
         "rawType": "int32",
         "type": "integer"
        },
        {
         "name": " Bakery",
         "rawType": "int32",
         "type": "integer"
        },
        {
         "name": " Bar Food",
         "rawType": "int32",
         "type": "integer"
        },
        {
         "name": " Belgian",
         "rawType": "int32",
         "type": "integer"
        },
        {
         "name": " Bengali",
         "rawType": "int32",
         "type": "integer"
        },
        {
         "name": " Beverages",
         "rawType": "int32",
         "type": "integer"
        },
        {
         "name": " Bihari",
         "rawType": "int32",
         "type": "integer"
        },
        {
         "name": " Biryani",
         "rawType": "int32",
         "type": "integer"
        },
        {
         "name": " Brazilian",
         "rawType": "int32",
         "type": "integer"
        },
        {
         "name": " Breakfast",
         "rawType": "int32",
         "type": "integer"
        },
        {
         "name": " British",
         "rawType": "int32",
         "type": "integer"
        },
        {
         "name": " Bubble Tea",
         "rawType": "int32",
         "type": "integer"
        },
        {
         "name": " Burger",
         "rawType": "int32",
         "type": "integer"
        },
        {
         "name": " Burmese",
         "rawType": "int32",
         "type": "integer"
        },
        {
         "name": " Börek",
         "rawType": "int32",
         "type": "integer"
        },
        {
         "name": " Cafe",
         "rawType": "int32",
         "type": "integer"
        },
        {
         "name": " Cajun",
         "rawType": "int32",
         "type": "integer"
        },
        {
         "name": " Canadian",
         "rawType": "int32",
         "type": "integer"
        },
        {
         "name": " Cantonese",
         "rawType": "int32",
         "type": "integer"
        },
        {
         "name": " Caribbean",
         "rawType": "int32",
         "type": "integer"
        },
        {
         "name": " Charcoal Grill",
         "rawType": "int32",
         "type": "integer"
        },
        {
         "name": " Chettinad",
         "rawType": "int32",
         "type": "integer"
        },
        {
         "name": " Chinese",
         "rawType": "int32",
         "type": "integer"
        },
        {
         "name": " Coffee and Tea",
         "rawType": "int32",
         "type": "integer"
        },
        {
         "name": " Contemporary",
         "rawType": "int32",
         "type": "integer"
        },
        {
         "name": " Continental",
         "rawType": "int32",
         "type": "integer"
        },
        {
         "name": " Cuban",
         "rawType": "int32",
         "type": "integer"
        },
        {
         "name": " Curry",
         "rawType": "int32",
         "type": "integer"
        },
        {
         "name": " Deli",
         "rawType": "int32",
         "type": "integer"
        },
        {
         "name": " Desserts",
         "rawType": "int32",
         "type": "integer"
        },
        {
         "name": " Dim Sum",
         "rawType": "int32",
         "type": "integer"
        },
        {
         "name": " Diner",
         "rawType": "int32",
         "type": "integer"
        },
        {
         "name": " Durban",
         "rawType": "int32",
         "type": "integer"
        },
        {
         "name": " Döner",
         "rawType": "int32",
         "type": "integer"
        },
        {
         "name": " European",
         "rawType": "int32",
         "type": "integer"
        },
        {
         "name": " Fast Food",
         "rawType": "int32",
         "type": "integer"
        },
        {
         "name": " Filipino",
         "rawType": "int32",
         "type": "integer"
        },
        {
         "name": " Finger Food",
         "rawType": "int32",
         "type": "integer"
        },
        {
         "name": " Fish and Chips",
         "rawType": "int32",
         "type": "integer"
        },
        {
         "name": " French",
         "rawType": "int32",
         "type": "integer"
        },
        {
         "name": " Fusion",
         "rawType": "int32",
         "type": "integer"
        },
        {
         "name": " German",
         "rawType": "int32",
         "type": "integer"
        },
        {
         "name": " Goan",
         "rawType": "int32",
         "type": "integer"
        },
        {
         "name": " Greek",
         "rawType": "int32",
         "type": "integer"
        },
        {
         "name": " Grill",
         "rawType": "int32",
         "type": "integer"
        },
        {
         "name": " Gujarati",
         "rawType": "int32",
         "type": "integer"
        },
        {
         "name": " Hawaiian",
         "rawType": "int32",
         "type": "integer"
        },
        {
         "name": " Healthy Food",
         "rawType": "int32",
         "type": "integer"
        },
        {
         "name": " Hyderabadi",
         "rawType": "int32",
         "type": "integer"
        },
        {
         "name": " Ice Cream",
         "rawType": "int32",
         "type": "integer"
        },
        {
         "name": " Indian",
         "rawType": "int32",
         "type": "integer"
        },
        {
         "name": " Indonesian",
         "rawType": "int32",
         "type": "integer"
        },
        {
         "name": " International",
         "rawType": "int32",
         "type": "integer"
        },
        {
         "name": " Iranian",
         "rawType": "int32",
         "type": "integer"
        },
        {
         "name": " Italian",
         "rawType": "int32",
         "type": "integer"
        },
        {
         "name": " Izgara",
         "rawType": "int32",
         "type": "integer"
        },
        {
         "name": " Japanese",
         "rawType": "int32",
         "type": "integer"
        },
        {
         "name": " Juices",
         "rawType": "int32",
         "type": "integer"
        },
        {
         "name": " Kashmiri",
         "rawType": "int32",
         "type": "integer"
        },
        {
         "name": " Kerala",
         "rawType": "int32",
         "type": "integer"
        },
        {
         "name": " Kiwi",
         "rawType": "int32",
         "type": "integer"
        },
        {
         "name": " Korean",
         "rawType": "int32",
         "type": "integer"
        },
        {
         "name": " Latin American",
         "rawType": "int32",
         "type": "integer"
        },
        {
         "name": " Lebanese",
         "rawType": "int32",
         "type": "integer"
        },
        {
         "name": " Lucknowi",
         "rawType": "int32",
         "type": "integer"
        },
        {
         "name": " Maharashtrian",
         "rawType": "int32",
         "type": "integer"
        },
        {
         "name": " Malay",
         "rawType": "int32",
         "type": "integer"
        },
        {
         "name": " Malaysian",
         "rawType": "int32",
         "type": "integer"
        },
        {
         "name": " Mangalorean",
         "rawType": "int32",
         "type": "integer"
        },
        {
         "name": " Mediterranean",
         "rawType": "int32",
         "type": "integer"
        },
        {
         "name": " Mexican",
         "rawType": "int32",
         "type": "integer"
        },
        {
         "name": " Middle Eastern",
         "rawType": "int32",
         "type": "integer"
        },
        {
         "name": " Mineira",
         "rawType": "int32",
         "type": "integer"
        },
        {
         "name": " Mithai",
         "rawType": "int32",
         "type": "integer"
        },
        {
         "name": " Modern Australian",
         "rawType": "int32",
         "type": "integer"
        },
        {
         "name": " Modern Indian",
         "rawType": "int32",
         "type": "integer"
        },
        {
         "name": " Moroccan",
         "rawType": "int32",
         "type": "integer"
        },
        {
         "name": " Mughlai",
         "rawType": "int32",
         "type": "integer"
        },
        {
         "name": " Naga",
         "rawType": "int32",
         "type": "integer"
        },
        {
         "name": " Nepalese",
         "rawType": "int32",
         "type": "integer"
        },
        {
         "name": " North Eastern",
         "rawType": "int32",
         "type": "integer"
        },
        {
         "name": " North Indian",
         "rawType": "int32",
         "type": "integer"
        },
        {
         "name": " Pakistani",
         "rawType": "int32",
         "type": "integer"
        },
        {
         "name": " Parsi",
         "rawType": "int32",
         "type": "integer"
        },
        {
         "name": " Patisserie",
         "rawType": "int32",
         "type": "integer"
        },
        {
         "name": " Persian",
         "rawType": "int32",
         "type": "integer"
        },
        {
         "name": " Pizza",
         "rawType": "int32",
         "type": "integer"
        },
        {
         "name": " Portuguese",
         "rawType": "int32",
         "type": "integer"
        },
        {
         "name": " Pub Food",
         "rawType": "int32",
         "type": "integer"
        },
        {
         "name": " Rajasthani",
         "rawType": "int32",
         "type": "integer"
        },
        {
         "name": " Ramen",
         "rawType": "int32",
         "type": "integer"
        },
        {
         "name": " Raw Meats",
         "rawType": "int32",
         "type": "integer"
        },
        {
         "name": " Salad",
         "rawType": "int32",
         "type": "integer"
        },
        {
         "name": " Sandwich",
         "rawType": "int32",
         "type": "integer"
        },
        {
         "name": " Scottish",
         "rawType": "int32",
         "type": "integer"
        },
        {
         "name": " Seafood",
         "rawType": "int32",
         "type": "integer"
        },
        {
         "name": " Singaporean",
         "rawType": "int32",
         "type": "integer"
        },
        {
         "name": " Soul Food",
         "rawType": "int32",
         "type": "integer"
        },
        {
         "name": " South African",
         "rawType": "int32",
         "type": "integer"
        },
        {
         "name": " South Indian",
         "rawType": "int32",
         "type": "integer"
        },
        {
         "name": " Southern",
         "rawType": "int32",
         "type": "integer"
        },
        {
         "name": " Southwestern",
         "rawType": "int32",
         "type": "integer"
        },
        {
         "name": " Spanish",
         "rawType": "int32",
         "type": "integer"
        },
        {
         "name": " Sri Lankan",
         "rawType": "int32",
         "type": "integer"
        },
        {
         "name": " Steak",
         "rawType": "int32",
         "type": "integer"
        },
        {
         "name": " Street Food",
         "rawType": "int32",
         "type": "integer"
        },
        {
         "name": " Sushi",
         "rawType": "int32",
         "type": "integer"
        },
        {
         "name": " Tapas",
         "rawType": "int32",
         "type": "integer"
        },
        {
         "name": " Tea",
         "rawType": "int32",
         "type": "integer"
        },
        {
         "name": " Teriyaki",
         "rawType": "int32",
         "type": "integer"
        },
        {
         "name": " Tex-Mex",
         "rawType": "int32",
         "type": "integer"
        },
        {
         "name": " Thai",
         "rawType": "int32",
         "type": "integer"
        },
        {
         "name": " Tibetan",
         "rawType": "int32",
         "type": "integer"
        },
        {
         "name": " Turkish",
         "rawType": "int32",
         "type": "integer"
        },
        {
         "name": " Turkish Pizza",
         "rawType": "int32",
         "type": "integer"
        },
        {
         "name": " Vegetarian",
         "rawType": "int32",
         "type": "integer"
        },
        {
         "name": " Vietnamese",
         "rawType": "int32",
         "type": "integer"
        },
        {
         "name": " Western",
         "rawType": "int32",
         "type": "integer"
        },
        {
         "name": " World Cuisine",
         "rawType": "int32",
         "type": "integer"
        },
        {
         "name": "Afghani",
         "rawType": "int32",
         "type": "integer"
        },
        {
         "name": "African",
         "rawType": "int32",
         "type": "integer"
        },
        {
         "name": "American",
         "rawType": "int32",
         "type": "integer"
        },
        {
         "name": "Andhra",
         "rawType": "int32",
         "type": "integer"
        },
        {
         "name": "Arabian",
         "rawType": "int32",
         "type": "integer"
        },
        {
         "name": "Argentine",
         "rawType": "int32",
         "type": "integer"
        },
        {
         "name": "Asian",
         "rawType": "int32",
         "type": "integer"
        },
        {
         "name": "Asian Fusion",
         "rawType": "int32",
         "type": "integer"
        },
        {
         "name": "Assamese",
         "rawType": "int32",
         "type": "integer"
        },
        {
         "name": "Australian",
         "rawType": "int32",
         "type": "integer"
        },
        {
         "name": "Awadhi",
         "rawType": "int32",
         "type": "integer"
        },
        {
         "name": "BBQ",
         "rawType": "int32",
         "type": "integer"
        },
        {
         "name": "Bakery",
         "rawType": "int32",
         "type": "integer"
        },
        {
         "name": "Bar Food",
         "rawType": "int32",
         "type": "integer"
        },
        {
         "name": "Bengali",
         "rawType": "int32",
         "type": "integer"
        },
        {
         "name": "Beverages",
         "rawType": "int32",
         "type": "integer"
        },
        {
         "name": "Bihari",
         "rawType": "int32",
         "type": "integer"
        },
        {
         "name": "Biryani",
         "rawType": "int32",
         "type": "integer"
        },
        {
         "name": "Brazilian",
         "rawType": "int32",
         "type": "integer"
        },
        {
         "name": "Breakfast",
         "rawType": "int32",
         "type": "integer"
        },
        {
         "name": "British",
         "rawType": "int32",
         "type": "integer"
        },
        {
         "name": "Burger",
         "rawType": "int32",
         "type": "integer"
        },
        {
         "name": "Burmese",
         "rawType": "int32",
         "type": "integer"
        },
        {
         "name": "Cafe",
         "rawType": "int32",
         "type": "integer"
        },
        {
         "name": "Cajun",
         "rawType": "int32",
         "type": "integer"
        },
        {
         "name": "Caribbean",
         "rawType": "int32",
         "type": "integer"
        },
        {
         "name": "Charcoal Grill",
         "rawType": "int32",
         "type": "integer"
        },
        {
         "name": "Chinese",
         "rawType": "int32",
         "type": "integer"
        },
        {
         "name": "Coffee and Tea",
         "rawType": "int32",
         "type": "integer"
        },
        {
         "name": "Contemporary",
         "rawType": "int32",
         "type": "integer"
        },
        {
         "name": "Continental",
         "rawType": "int32",
         "type": "integer"
        },
        {
         "name": "Cuban",
         "rawType": "int32",
         "type": "integer"
        },
        {
         "name": "Cuisine Varies",
         "rawType": "int32",
         "type": "integer"
        },
        {
         "name": "Desserts",
         "rawType": "int32",
         "type": "integer"
        },
        {
         "name": "Drinks Only",
         "rawType": "int32",
         "type": "integer"
        },
        {
         "name": "European",
         "rawType": "int32",
         "type": "integer"
        },
        {
         "name": "Fast Food",
         "rawType": "int32",
         "type": "integer"
        },
        {
         "name": "Filipino",
         "rawType": "int32",
         "type": "integer"
        },
        {
         "name": "Finger Food",
         "rawType": "int32",
         "type": "integer"
        },
        {
         "name": "French",
         "rawType": "int32",
         "type": "integer"
        },
        {
         "name": "German",
         "rawType": "int32",
         "type": "integer"
        },
        {
         "name": "Goan",
         "rawType": "int32",
         "type": "integer"
        },
        {
         "name": "Gourmet Fast Food",
         "rawType": "int32",
         "type": "integer"
        },
        {
         "name": "Greek",
         "rawType": "int32",
         "type": "integer"
        },
        {
         "name": "Grill",
         "rawType": "int32",
         "type": "integer"
        },
        {
         "name": "Gujarati",
         "rawType": "int32",
         "type": "integer"
        },
        {
         "name": "Hawaiian",
         "rawType": "int32",
         "type": "integer"
        },
        {
         "name": "Healthy Food",
         "rawType": "int32",
         "type": "integer"
        },
        {
         "name": "Hyderabadi",
         "rawType": "int32",
         "type": "integer"
        },
        {
         "name": "Ice Cream",
         "rawType": "int32",
         "type": "integer"
        },
        {
         "name": "Indian",
         "rawType": "int32",
         "type": "integer"
        },
        {
         "name": "Indonesian",
         "rawType": "int32",
         "type": "integer"
        },
        {
         "name": "International",
         "rawType": "int32",
         "type": "integer"
        },
        {
         "name": "Irish",
         "rawType": "int32",
         "type": "integer"
        },
        {
         "name": "Italian",
         "rawType": "int32",
         "type": "integer"
        },
        {
         "name": "Japanese",
         "rawType": "int32",
         "type": "integer"
        },
        {
         "name": "Juices",
         "rawType": "int32",
         "type": "integer"
        },
        {
         "name": "Kashmiri",
         "rawType": "int32",
         "type": "integer"
        },
        {
         "name": "Kebab",
         "rawType": "int32",
         "type": "integer"
        },
        {
         "name": "Kerala",
         "rawType": "int32",
         "type": "integer"
        },
        {
         "name": "Kiwi",
         "rawType": "int32",
         "type": "integer"
        },
        {
         "name": "Korean",
         "rawType": "int32",
         "type": "integer"
        },
        {
         "name": "Latin American",
         "rawType": "int32",
         "type": "integer"
        },
        {
         "name": "Lebanese",
         "rawType": "int32",
         "type": "integer"
        },
        {
         "name": "Lucknowi",
         "rawType": "int32",
         "type": "integer"
        },
        {
         "name": "Maharashtrian",
         "rawType": "int32",
         "type": "integer"
        },
        {
         "name": "Malaysian",
         "rawType": "int32",
         "type": "integer"
        },
        {
         "name": "Malwani",
         "rawType": "int32",
         "type": "integer"
        },
        {
         "name": "Mediterranean",
         "rawType": "int32",
         "type": "integer"
        },
        {
         "name": "Mexican",
         "rawType": "int32",
         "type": "integer"
        },
        {
         "name": "Middle Eastern",
         "rawType": "int32",
         "type": "integer"
        },
        {
         "name": "Mithai",
         "rawType": "int32",
         "type": "integer"
        },
        {
         "name": "Modern Australian",
         "rawType": "int32",
         "type": "integer"
        },
        {
         "name": "Modern Indian",
         "rawType": "int32",
         "type": "integer"
        },
        {
         "name": "Mughlai",
         "rawType": "int32",
         "type": "integer"
        },
        {
         "name": "Naga",
         "rawType": "int32",
         "type": "integer"
        },
        {
         "name": "Nepalese",
         "rawType": "int32",
         "type": "integer"
        },
        {
         "name": "New American",
         "rawType": "int32",
         "type": "integer"
        },
        {
         "name": "North Eastern",
         "rawType": "int32",
         "type": "integer"
        },
        {
         "name": "North Indian",
         "rawType": "int32",
         "type": "integer"
        },
        {
         "name": "Oriya",
         "rawType": "int32",
         "type": "integer"
        },
        {
         "name": "Pakistani",
         "rawType": "int32",
         "type": "integer"
        },
        {
         "name": "Parsi",
         "rawType": "int32",
         "type": "integer"
        },
        {
         "name": "Patisserie",
         "rawType": "int32",
         "type": "integer"
        },
        {
         "name": "Peranakan",
         "rawType": "int32",
         "type": "integer"
        },
        {
         "name": "Persian",
         "rawType": "int32",
         "type": "integer"
        },
        {
         "name": "Peruvian",
         "rawType": "int32",
         "type": "integer"
        },
        {
         "name": "Pizza",
         "rawType": "int32",
         "type": "integer"
        },
        {
         "name": "Portuguese",
         "rawType": "int32",
         "type": "integer"
        },
        {
         "name": "Pub Food",
         "rawType": "int32",
         "type": "integer"
        },
        {
         "name": "Rajasthani",
         "rawType": "int32",
         "type": "integer"
        },
        {
         "name": "Ramen",
         "rawType": "int32",
         "type": "integer"
        },
        {
         "name": "Raw Meats",
         "rawType": "int32",
         "type": "integer"
        },
        {
         "name": "Restaurant Cafe",
         "rawType": "int32",
         "type": "integer"
        },
        {
         "name": "Salad",
         "rawType": "int32",
         "type": "integer"
        },
        {
         "name": "Sandwich",
         "rawType": "int32",
         "type": "integer"
        },
        {
         "name": "Scottish",
         "rawType": "int32",
         "type": "integer"
        },
        {
         "name": "Seafood",
         "rawType": "int32",
         "type": "integer"
        },
        {
         "name": "Singaporean",
         "rawType": "int32",
         "type": "integer"
        },
        {
         "name": "South American",
         "rawType": "int32",
         "type": "integer"
        },
        {
         "name": "South Indian",
         "rawType": "int32",
         "type": "integer"
        },
        {
         "name": "Southern",
         "rawType": "int32",
         "type": "integer"
        },
        {
         "name": "Spanish",
         "rawType": "int32",
         "type": "integer"
        },
        {
         "name": "Sri Lankan",
         "rawType": "int32",
         "type": "integer"
        },
        {
         "name": "Steak",
         "rawType": "int32",
         "type": "integer"
        },
        {
         "name": "Street Food",
         "rawType": "int32",
         "type": "integer"
        },
        {
         "name": "Sunda",
         "rawType": "int32",
         "type": "integer"
        },
        {
         "name": "Sushi",
         "rawType": "int32",
         "type": "integer"
        },
        {
         "name": "Taiwanese",
         "rawType": "int32",
         "type": "integer"
        },
        {
         "name": "Tapas",
         "rawType": "int32",
         "type": "integer"
        },
        {
         "name": "Tea",
         "rawType": "int32",
         "type": "integer"
        },
        {
         "name": "Tex-Mex",
         "rawType": "int32",
         "type": "integer"
        },
        {
         "name": "Thai",
         "rawType": "int32",
         "type": "integer"
        },
        {
         "name": "Tibetan",
         "rawType": "int32",
         "type": "integer"
        },
        {
         "name": "Turkish",
         "rawType": "int32",
         "type": "integer"
        },
        {
         "name": "Turkish Pizza",
         "rawType": "int32",
         "type": "integer"
        },
        {
         "name": "Vietnamese",
         "rawType": "int32",
         "type": "integer"
        },
        {
         "name": "Western",
         "rawType": "int32",
         "type": "integer"
        },
        {
         "name": "World Cuisine",
         "rawType": "int32",
         "type": "integer"
        }
       ],
       "conversionMethod": "pd.DataFrame",
       "ref": "8472e078-62fd-423d-8734-73a056aa5155",
       "rows": [
        [
         "0",
         "Makati City",
         "Yes",
         "No",
         "No",
         "3",
         "4.8",
         "Excellent",
         "314.0",
         "Phillipines",
         "550.0",
         "0",
         "0",
         "0",
         "0",
         "0",
         "0",
         "0",
         "0",
         "0",
         "0",
         "0",
         "0",
         "0",
         "0",
         "0",
         "0",
         "0",
         "0",
         "0",
         "0",
         "0",
         "0",
         "0",
         "0",
         "0",
         "0",
         "0",
         "0",
         "0",
         "0",
         "0",
         "0",
         "0",
         "0",
         "0",
         "0",
         "0",
         "0",
         "0",
         "0",
         "1",
         "0",
         "0",
         "0",
         "0",
         "0",
         "0",
         "0",
         "0",
         "0",
         "0",
         "0",
         "0",
         "0",
         "0",
         "0",
         "0",
         "0",
         "0",
         "0",
         "0",
         "0",
         "0",
         "0",
         "0",
         "0",
         "0",
         "1",
         "0",
         "0",
         "0",
         "0",
         "0",
         "0",
         "0",
         "0",
         "0",
         "0",
         "0",
         "0",
         "0",
         "0",
         "0",
         "0",
         "0",
         "0",
         "0",
         "0",
         "0",
         "0",
         "0",
         "0",
         "0",
         "0",
         "0",
         "0",
         "0",
         "0",
         "0",
         "0",
         "0",
         "0",
         "0",
         "0",
         "0",
         "0",
         "0",
         "0",
         "0",
         "0",
         "0",
         "0",
         "0",
         "0",
         "0",
         "0",
         "0",
         "0",
         "0",
         "0",
         "0",
         "0",
         "0",
         "0",
         "0",
         "0",
         "0",
         "0",
         "0",
         "0",
         "0",
         "0",
         "0",
         "0",
         "0",
         "0",
         "0",
         "0",
         "0",
         "0",
         "0",
         "0",
         "0",
         "0",
         "0",
         "0",
         "0",
         "0",
         "0",
         "0",
         "0",
         "0",
         "0",
         "0",
         "0",
         "0",
         "0",
         "0",
         "0",
         "0",
         "0",
         "0",
         "0",
         "0",
         "0",
         "0",
         "0",
         "0",
         "0",
         "1",
         "0",
         "0",
         "0",
         "0",
         "0",
         "0",
         "0",
         "0",
         "0",
         "0",
         "0",
         "0",
         "0",
         "0",
         "0",
         "0",
         "0",
         "0",
         "0",
         "0",
         "0",
         "0",
         "0",
         "0",
         "0",
         "0",
         "0",
         "0",
         "0",
         "0",
         "0",
         "0",
         "0",
         "0",
         "0",
         "0",
         "0",
         "0",
         "0",
         "0",
         "0",
         "0",
         "0",
         "0",
         "0",
         "0",
         "0",
         "0",
         "0",
         "0",
         "0",
         "0",
         "0",
         "0",
         "0",
         "0",
         "0",
         "0",
         "0",
         "0",
         "0",
         "0",
         "0",
         "0",
         "0",
         "0",
         "0",
         "0",
         "0",
         "0",
         "0",
         "0",
         "0",
         "0",
         "0",
         "0",
         "0",
         "0",
         "0"
        ],
        [
         "1",
         "Makati City",
         "Yes",
         "No",
         "No",
         "3",
         "4.5",
         "Excellent",
         "322.5",
         "Phillipines",
         "600.0",
         "0",
         "0",
         "0",
         "0",
         "0",
         "0",
         "0",
         "0",
         "0",
         "0",
         "0",
         "0",
         "0",
         "0",
         "0",
         "0",
         "0",
         "0",
         "0",
         "0",
         "0",
         "0",
         "0",
         "0",
         "0",
         "0",
         "0",
         "0",
         "0",
         "0",
         "0",
         "0",
         "0",
         "0",
         "0",
         "0",
         "0",
         "0",
         "0",
         "0",
         "0",
         "0",
         "0",
         "0",
         "0",
         "0",
         "0",
         "0",
         "0",
         "0",
         "0",
         "0",
         "0",
         "0",
         "0",
         "0",
         "0",
         "0",
         "0",
         "0",
         "0",
         "0",
         "0",
         "0",
         "0",
         "0",
         "0",
         "0",
         "0",
         "0",
         "0",
         "0",
         "0",
         "0",
         "0",
         "0",
         "0",
         "0",
         "0",
         "0",
         "0",
         "0",
         "0",
         "0",
         "0",
         "0",
         "0",
         "0",
         "0",
         "0",
         "0",
         "0",
         "0",
         "0",
         "0",
         "0",
         "0",
         "0",
         "0",
         "0",
         "0",
         "0",
         "0",
         "0",
         "0",
         "0",
         "0",
         "0",
         "0",
         "0",
         "0",
         "0",
         "0",
         "0",
         "0",
         "0",
         "0",
         "0",
         "0",
         "0",
         "0",
         "0",
         "0",
         "0",
         "0",
         "0",
         "0",
         "0",
         "0",
         "0",
         "0",
         "0",
         "0",
         "0",
         "0",
         "0",
         "0",
         "0",
         "0",
         "0",
         "0",
         "0",
         "0",
         "0",
         "0",
         "0",
         "0",
         "0",
         "0",
         "0",
         "0",
         "0",
         "0",
         "0",
         "0",
         "0",
         "0",
         "0",
         "0",
         "0",
         "0",
         "0",
         "0",
         "0",
         "0",
         "0",
         "0",
         "0",
         "0",
         "0",
         "0",
         "0",
         "0",
         "0",
         "0",
         "0",
         "0",
         "0",
         "0",
         "0",
         "0",
         "0",
         "0",
         "0",
         "0",
         "1",
         "0",
         "0",
         "0",
         "0",
         "0",
         "0",
         "0",
         "0",
         "0",
         "0",
         "0",
         "0",
         "0",
         "0",
         "0",
         "0",
         "0",
         "0",
         "0",
         "0",
         "0",
         "0",
         "0",
         "0",
         "0",
         "0",
         "0",
         "0",
         "0",
         "0",
         "0",
         "0",
         "0",
         "0",
         "0",
         "0",
         "0",
         "0",
         "0",
         "0",
         "0",
         "0",
         "0",
         "0",
         "0",
         "0",
         "0",
         "0",
         "0",
         "0",
         "0",
         "0",
         "0",
         "0",
         "0",
         "0",
         "0",
         "0",
         "0",
         "0",
         "0",
         "0",
         "0"
        ],
        [
         "2",
         "Mandaluyong City",
         "Yes",
         "No",
         "No",
         "4",
         "4.4",
         "Very Good",
         "270.0",
         "Phillipines",
         "687.5",
         "0",
         "0",
         "0",
         "0",
         "0",
         "0",
         "0",
         "1",
         "0",
         "0",
         "0",
         "0",
         "0",
         "0",
         "0",
         "0",
         "0",
         "0",
         "0",
         "0",
         "0",
         "0",
         "0",
         "0",
         "0",
         "0",
         "0",
         "0",
         "0",
         "0",
         "0",
         "0",
         "0",
         "0",
         "0",
         "0",
         "0",
         "0",
         "0",
         "0",
         "0",
         "0",
         "0",
         "0",
         "0",
         "0",
         "0",
         "1",
         "0",
         "0",
         "0",
         "0",
         "0",
         "0",
         "0",
         "0",
         "0",
         "0",
         "0",
         "0",
         "0",
         "1",
         "0",
         "0",
         "0",
         "0",
         "0",
         "0",
         "0",
         "0",
         "0",
         "0",
         "0",
         "0",
         "0",
         "0",
         "0",
         "0",
         "0",
         "0",
         "0",
         "0",
         "0",
         "0",
         "0",
         "0",
         "0",
         "0",
         "0",
         "0",
         "0",
         "0",
         "0",
         "0",
         "0",
         "0",
         "0",
         "0",
         "0",
         "0",
         "0",
         "0",
         "0",
         "0",
         "0",
         "0",
         "0",
         "0",
         "0",
         "0",
         "0",
         "0",
         "0",
         "0",
         "0",
         "0",
         "0",
         "0",
         "0",
         "0",
         "0",
         "0",
         "0",
         "0",
         "0",
         "0",
         "0",
         "0",
         "0",
         "0",
         "0",
         "0",
         "0",
         "0",
         "0",
         "0",
         "0",
         "0",
         "0",
         "0",
         "0",
         "0",
         "0",
         "0",
         "0",
         "0",
         "0",
         "0",
         "0",
         "0",
         "0",
         "0",
         "0",
         "0",
         "0",
         "0",
         "0",
         "0",
         "0",
         "0",
         "0",
         "0",
         "0",
         "0",
         "0",
         "0",
         "0",
         "0",
         "0",
         "0",
         "0",
         "0",
         "0",
         "0",
         "0",
         "0",
         "0",
         "0",
         "0",
         "0",
         "0",
         "0",
         "0",
         "0",
         "0",
         "0",
         "0",
         "0",
         "0",
         "0",
         "0",
         "0",
         "0",
         "0",
         "0",
         "0",
         "0",
         "0",
         "0",
         "0",
         "0",
         "0",
         "0",
         "0",
         "0",
         "0",
         "0",
         "0",
         "0",
         "0",
         "0",
         "0",
         "0",
         "0",
         "0",
         "0",
         "0",
         "0",
         "0",
         "0",
         "0",
         "0",
         "0",
         "0",
         "0",
         "0",
         "0",
         "1",
         "0",
         "0",
         "0",
         "0",
         "0",
         "0",
         "0",
         "0",
         "0",
         "0",
         "0",
         "0",
         "0",
         "0",
         "0",
         "0",
         "0",
         "0",
         "0",
         "0",
         "0"
        ],
        [
         "3",
         "Mandaluyong City",
         "No",
         "No",
         "No",
         "4",
         "4.9",
         "Excellent",
         "322.5",
         "Phillipines",
         "687.5",
         "0",
         "0",
         "0",
         "0",
         "0",
         "0",
         "0",
         "0",
         "0",
         "0",
         "0",
         "0",
         "0",
         "0",
         "0",
         "0",
         "0",
         "0",
         "0",
         "0",
         "0",
         "0",
         "0",
         "0",
         "0",
         "0",
         "0",
         "0",
         "0",
         "0",
         "0",
         "0",
         "0",
         "0",
         "0",
         "0",
         "0",
         "0",
         "0",
         "0",
         "0",
         "0",
         "0",
         "0",
         "0",
         "0",
         "0",
         "0",
         "0",
         "0",
         "0",
         "0",
         "0",
         "0",
         "0",
         "0",
         "0",
         "0",
         "0",
         "0",
         "0",
         "0",
         "0",
         "0",
         "0",
         "0",
         "0",
         "0",
         "0",
         "0",
         "0",
         "0",
         "0",
         "0",
         "0",
         "0",
         "0",
         "0",
         "0",
         "0",
         "0",
         "0",
         "0",
         "0",
         "0",
         "0",
         "0",
         "0",
         "0",
         "0",
         "0",
         "0",
         "0",
         "0",
         "0",
         "0",
         "0",
         "0",
         "0",
         "0",
         "0",
         "0",
         "0",
         "0",
         "0",
         "0",
         "0",
         "0",
         "0",
         "0",
         "0",
         "0",
         "0",
         "0",
         "0",
         "0",
         "0",
         "1",
         "0",
         "0",
         "0",
         "0",
         "0",
         "0",
         "0",
         "0",
         "0",
         "0",
         "0",
         "0",
         "0",
         "0",
         "0",
         "0",
         "0",
         "0",
         "0",
         "0",
         "0",
         "0",
         "0",
         "0",
         "0",
         "0",
         "0",
         "0",
         "0",
         "0",
         "0",
         "0",
         "0",
         "0",
         "0",
         "0",
         "0",
         "0",
         "0",
         "0",
         "0",
         "0",
         "0",
         "0",
         "0",
         "0",
         "0",
         "0",
         "0",
         "0",
         "0",
         "0",
         "0",
         "0",
         "0",
         "0",
         "0",
         "0",
         "0",
         "0",
         "0",
         "0",
         "0",
         "0",
         "0",
         "0",
         "0",
         "1",
         "0",
         "0",
         "0",
         "0",
         "0",
         "0",
         "0",
         "0",
         "0",
         "0",
         "0",
         "0",
         "0",
         "0",
         "0",
         "0",
         "0",
         "0",
         "0",
         "0",
         "0",
         "0",
         "0",
         "0",
         "0",
         "0",
         "0",
         "0",
         "0",
         "0",
         "0",
         "0",
         "0",
         "0",
         "0",
         "0",
         "0",
         "0",
         "0",
         "0",
         "0",
         "0",
         "0",
         "0",
         "0",
         "0",
         "0",
         "0",
         "0",
         "0",
         "0",
         "0",
         "0",
         "0",
         "0",
         "0",
         "0",
         "0",
         "0",
         "0",
         "0",
         "0",
         "0"
        ],
        [
         "4",
         "Mandaluyong City",
         "Yes",
         "No",
         "No",
         "4",
         "4.8",
         "Excellent",
         "229.0",
         "Phillipines",
         "687.5",
         "0",
         "0",
         "0",
         "0",
         "0",
         "0",
         "0",
         "0",
         "0",
         "0",
         "0",
         "0",
         "0",
         "0",
         "0",
         "0",
         "0",
         "0",
         "0",
         "0",
         "0",
         "0",
         "0",
         "0",
         "0",
         "0",
         "0",
         "0",
         "0",
         "0",
         "0",
         "0",
         "0",
         "0",
         "0",
         "0",
         "0",
         "0",
         "0",
         "0",
         "0",
         "0",
         "0",
         "0",
         "0",
         "0",
         "0",
         "0",
         "0",
         "0",
         "0",
         "0",
         "0",
         "0",
         "0",
         "0",
         "0",
         "0",
         "0",
         "0",
         "0",
         "0",
         "0",
         "0",
         "0",
         "0",
         "0",
         "0",
         "0",
         "0",
         "0",
         "0",
         "1",
         "0",
         "0",
         "0",
         "0",
         "0",
         "0",
         "0",
         "0",
         "0",
         "0",
         "0",
         "0",
         "0",
         "0",
         "0",
         "0",
         "0",
         "0",
         "0",
         "0",
         "0",
         "0",
         "0",
         "0",
         "0",
         "0",
         "0",
         "0",
         "0",
         "0",
         "0",
         "0",
         "0",
         "0",
         "0",
         "0",
         "0",
         "0",
         "0",
         "0",
         "0",
         "0",
         "0",
         "0",
         "0",
         "0",
         "0",
         "0",
         "0",
         "0",
         "0",
         "0",
         "0",
         "0",
         "0",
         "0",
         "0",
         "0",
         "0",
         "0",
         "0",
         "0",
         "0",
         "0",
         "0",
         "0",
         "0",
         "0",
         "0",
         "0",
         "0",
         "0",
         "0",
         "0",
         "0",
         "0",
         "0",
         "0",
         "0",
         "0",
         "0",
         "0",
         "0",
         "0",
         "0",
         "0",
         "0",
         "0",
         "0",
         "0",
         "0",
         "0",
         "0",
         "0",
         "0",
         "0",
         "0",
         "0",
         "0",
         "0",
         "0",
         "0",
         "0",
         "0",
         "0",
         "0",
         "0",
         "0",
         "0",
         "0",
         "0",
         "0",
         "1",
         "0",
         "0",
         "0",
         "0",
         "0",
         "0",
         "0",
         "0",
         "0",
         "0",
         "0",
         "0",
         "0",
         "0",
         "0",
         "0",
         "0",
         "0",
         "0",
         "0",
         "0",
         "0",
         "0",
         "0",
         "0",
         "0",
         "0",
         "0",
         "0",
         "0",
         "0",
         "0",
         "0",
         "0",
         "0",
         "0",
         "0",
         "0",
         "0",
         "0",
         "0",
         "0",
         "0",
         "0",
         "0",
         "0",
         "0",
         "0",
         "0",
         "0",
         "0",
         "0",
         "0",
         "0",
         "0",
         "0",
         "0",
         "0",
         "0",
         "0",
         "0",
         "0",
         "0"
        ]
       ],
       "shape": {
        "columns": 259,
        "rows": 5
       }
      },
      "text/html": [
       "<div>\n",
       "<style scoped>\n",
       "    .dataframe tbody tr th:only-of-type {\n",
       "        vertical-align: middle;\n",
       "    }\n",
       "\n",
       "    .dataframe tbody tr th {\n",
       "        vertical-align: top;\n",
       "    }\n",
       "\n",
       "    .dataframe thead th {\n",
       "        text-align: right;\n",
       "    }\n",
       "</style>\n",
       "<table border=\"1\" class=\"dataframe\">\n",
       "  <thead>\n",
       "    <tr style=\"text-align: right;\">\n",
       "      <th></th>\n",
       "      <th>City</th>\n",
       "      <th>Booking</th>\n",
       "      <th>Online_delivery</th>\n",
       "      <th>Deliver_now</th>\n",
       "      <th>Price range</th>\n",
       "      <th>Aggregate rating</th>\n",
       "      <th>Rating_text</th>\n",
       "      <th>Votes</th>\n",
       "      <th>Country</th>\n",
       "      <th>cost</th>\n",
       "      <th>...</th>\n",
       "      <th>Tapas</th>\n",
       "      <th>Tea</th>\n",
       "      <th>Tex-Mex</th>\n",
       "      <th>Thai</th>\n",
       "      <th>Tibetan</th>\n",
       "      <th>Turkish</th>\n",
       "      <th>Turkish Pizza</th>\n",
       "      <th>Vietnamese</th>\n",
       "      <th>Western</th>\n",
       "      <th>World Cuisine</th>\n",
       "    </tr>\n",
       "  </thead>\n",
       "  <tbody>\n",
       "    <tr>\n",
       "      <th>0</th>\n",
       "      <td>Makati City</td>\n",
       "      <td>Yes</td>\n",
       "      <td>No</td>\n",
       "      <td>No</td>\n",
       "      <td>3</td>\n",
       "      <td>4.8</td>\n",
       "      <td>Excellent</td>\n",
       "      <td>314.0</td>\n",
       "      <td>Phillipines</td>\n",
       "      <td>550.0</td>\n",
       "      <td>...</td>\n",
       "      <td>0</td>\n",
       "      <td>0</td>\n",
       "      <td>0</td>\n",
       "      <td>0</td>\n",
       "      <td>0</td>\n",
       "      <td>0</td>\n",
       "      <td>0</td>\n",
       "      <td>0</td>\n",
       "      <td>0</td>\n",
       "      <td>0</td>\n",
       "    </tr>\n",
       "    <tr>\n",
       "      <th>1</th>\n",
       "      <td>Makati City</td>\n",
       "      <td>Yes</td>\n",
       "      <td>No</td>\n",
       "      <td>No</td>\n",
       "      <td>3</td>\n",
       "      <td>4.5</td>\n",
       "      <td>Excellent</td>\n",
       "      <td>322.5</td>\n",
       "      <td>Phillipines</td>\n",
       "      <td>600.0</td>\n",
       "      <td>...</td>\n",
       "      <td>0</td>\n",
       "      <td>0</td>\n",
       "      <td>0</td>\n",
       "      <td>0</td>\n",
       "      <td>0</td>\n",
       "      <td>0</td>\n",
       "      <td>0</td>\n",
       "      <td>0</td>\n",
       "      <td>0</td>\n",
       "      <td>0</td>\n",
       "    </tr>\n",
       "    <tr>\n",
       "      <th>2</th>\n",
       "      <td>Mandaluyong City</td>\n",
       "      <td>Yes</td>\n",
       "      <td>No</td>\n",
       "      <td>No</td>\n",
       "      <td>4</td>\n",
       "      <td>4.4</td>\n",
       "      <td>Very Good</td>\n",
       "      <td>270.0</td>\n",
       "      <td>Phillipines</td>\n",
       "      <td>687.5</td>\n",
       "      <td>...</td>\n",
       "      <td>0</td>\n",
       "      <td>0</td>\n",
       "      <td>0</td>\n",
       "      <td>0</td>\n",
       "      <td>0</td>\n",
       "      <td>0</td>\n",
       "      <td>0</td>\n",
       "      <td>0</td>\n",
       "      <td>0</td>\n",
       "      <td>0</td>\n",
       "    </tr>\n",
       "    <tr>\n",
       "      <th>3</th>\n",
       "      <td>Mandaluyong City</td>\n",
       "      <td>No</td>\n",
       "      <td>No</td>\n",
       "      <td>No</td>\n",
       "      <td>4</td>\n",
       "      <td>4.9</td>\n",
       "      <td>Excellent</td>\n",
       "      <td>322.5</td>\n",
       "      <td>Phillipines</td>\n",
       "      <td>687.5</td>\n",
       "      <td>...</td>\n",
       "      <td>0</td>\n",
       "      <td>0</td>\n",
       "      <td>0</td>\n",
       "      <td>0</td>\n",
       "      <td>0</td>\n",
       "      <td>0</td>\n",
       "      <td>0</td>\n",
       "      <td>0</td>\n",
       "      <td>0</td>\n",
       "      <td>0</td>\n",
       "    </tr>\n",
       "    <tr>\n",
       "      <th>4</th>\n",
       "      <td>Mandaluyong City</td>\n",
       "      <td>Yes</td>\n",
       "      <td>No</td>\n",
       "      <td>No</td>\n",
       "      <td>4</td>\n",
       "      <td>4.8</td>\n",
       "      <td>Excellent</td>\n",
       "      <td>229.0</td>\n",
       "      <td>Phillipines</td>\n",
       "      <td>687.5</td>\n",
       "      <td>...</td>\n",
       "      <td>0</td>\n",
       "      <td>0</td>\n",
       "      <td>0</td>\n",
       "      <td>0</td>\n",
       "      <td>0</td>\n",
       "      <td>0</td>\n",
       "      <td>0</td>\n",
       "      <td>0</td>\n",
       "      <td>0</td>\n",
       "      <td>0</td>\n",
       "    </tr>\n",
       "  </tbody>\n",
       "</table>\n",
       "<p>5 rows × 259 columns</p>\n",
       "</div>"
      ],
      "text/plain": [
       "               City Booking Online_delivery Deliver_now  Price range  \\\n",
       "0       Makati City     Yes              No          No            3   \n",
       "1       Makati City     Yes              No          No            3   \n",
       "2  Mandaluyong City     Yes              No          No            4   \n",
       "3  Mandaluyong City      No              No          No            4   \n",
       "4  Mandaluyong City     Yes              No          No            4   \n",
       "\n",
       "   Aggregate rating Rating_text  Votes      Country   cost  ...  Tapas  Tea  \\\n",
       "0               4.8   Excellent  314.0  Phillipines  550.0  ...      0    0   \n",
       "1               4.5   Excellent  322.5  Phillipines  600.0  ...      0    0   \n",
       "2               4.4   Very Good  270.0  Phillipines  687.5  ...      0    0   \n",
       "3               4.9   Excellent  322.5  Phillipines  687.5  ...      0    0   \n",
       "4               4.8   Excellent  229.0  Phillipines  687.5  ...      0    0   \n",
       "\n",
       "   Tex-Mex  Thai  Tibetan  Turkish  Turkish Pizza  Vietnamese  Western  \\\n",
       "0        0     0        0        0              0           0        0   \n",
       "1        0     0        0        0              0           0        0   \n",
       "2        0     0        0        0              0           0        0   \n",
       "3        0     0        0        0              0           0        0   \n",
       "4        0     0        0        0              0           0        0   \n",
       "\n",
       "   World Cuisine  \n",
       "0              0  \n",
       "1              0  \n",
       "2              0  \n",
       "3              0  \n",
       "4              0  \n",
       "\n",
       "[5 rows x 259 columns]"
      ]
     },
     "execution_count": 22,
     "metadata": {},
     "output_type": "execute_result"
    }
   ],
   "source": [
    "df1.head()"
   ]
  },
  {
   "cell_type": "code",
   "execution_count": 23,
   "metadata": {
    "colab": {
     "base_uri": "https://localhost:8080/"
    },
    "executionInfo": {
     "elapsed": 6,
     "status": "ok",
     "timestamp": 1741027961569,
     "user": {
      "displayName": "Aastha Rajput",
      "userId": "08267813752553560513"
     },
     "user_tz": -330
    },
    "id": "dy5GQjN1Yo2j",
    "outputId": "899f6a0d-0219-427e-c595-46b02e2328e8"
   },
   "outputs": [
    {
     "data": {
      "text/plain": [
       "(9456, 259)"
      ]
     },
     "execution_count": 23,
     "metadata": {},
     "output_type": "execute_result"
    }
   ],
   "source": [
    "df1.shape"
   ]
  },
  {
   "cell_type": "markdown",
   "metadata": {
    "id": "IgC6v9iccCct"
   },
   "source": [
    "### Feature Scaling"
   ]
  },
  {
   "cell_type": "code",
   "execution_count": 24,
   "metadata": {
    "colab": {
     "base_uri": "https://localhost:8080/"
    },
    "executionInfo": {
     "elapsed": 24,
     "status": "ok",
     "timestamp": 1741027963417,
     "user": {
      "displayName": "Aastha Rajput",
      "userId": "08267813752553560513"
     },
     "user_tz": -330
    },
    "id": "sEmPfd0WbsB8",
    "outputId": "58f04dc7-bc0a-46ac-97ea-0e143c445c96"
   },
   "outputs": [
    {
     "data": {
      "text/plain": [
       "(9456, 258)"
      ]
     },
     "execution_count": 24,
     "metadata": {},
     "output_type": "execute_result"
    }
   ],
   "source": [
    "X = df1.drop(columns=['Aggregate rating'], axis=1)\n",
    "y = df1['Aggregate rating']\n",
    "\n",
    "X.shape   # (9456, 10)"
   ]
  },
  {
   "cell_type": "code",
   "execution_count": 25,
   "metadata": {
    "executionInfo": {
     "elapsed": 33,
     "status": "ok",
     "timestamp": 1741027964462,
     "user": {
      "displayName": "Aastha Rajput",
      "userId": "08267813752553560513"
     },
     "user_tz": -330
    },
    "id": "MwgoejxTcMNc"
   },
   "outputs": [],
   "source": [
    "x_raw = X.copy()"
   ]
  },
  {
   "cell_type": "code",
   "execution_count": 26,
   "metadata": {
    "executionInfo": {
     "elapsed": 3,
     "status": "ok",
     "timestamp": 1741027965351,
     "user": {
      "displayName": "Aastha Rajput",
      "userId": "08267813752553560513"
     },
     "user_tz": -330
    },
    "id": "IbJOsbfRcPwR"
   },
   "outputs": [],
   "source": [
    "# Defining column groups\n",
    "rating_text_order = [['Not rated','Poor', 'Average', 'Good', 'Very Good', 'Excellent']]\n",
    "\n",
    "target_enc_cols = ['City','Country']\n",
    "ordinal_enc_cols = ['Rating_text']\n",
    "numeric_cols = ['Price range', 'Votes', 'cost']\n",
    "categorical_cols = ['Booking', 'Online_delivery', 'Deliver_now']\n",
    "\n",
    "# Defining Preprocessor\n",
    "preprocessor = ColumnTransformer([\n",
    "    ('target_enc', TargetEncoder(), target_enc_cols),\n",
    "    ('ordinal_enc', OrdinalEncoder(categories=rating_text_order), ordinal_enc_cols),\n",
    "    ('one_hot_enc', OneHotEncoder(drop='first', handle_unknown='ignore'), categorical_cols),\n",
    "    ('scaler', StandardScaler(), numeric_cols)\n",
    "], remainder='passthrough')\n"
   ]
  },
  {
   "cell_type": "code",
   "execution_count": null,
   "metadata": {
    "executionInfo": {
     "elapsed": 15,
     "status": "ok",
     "timestamp": 1741027966397,
     "user": {
      "displayName": "Aastha Rajput",
      "userId": "08267813752553560513"
     },
     "user_tz": -330
    },
    "id": "r_g7TyTBeF0D"
   },
   "outputs": [],
   "source": [
    "models = {\n",
    "    'Linear_regression':LinearRegression(),\n",
    "    'SVR':SVR(),\n",
    "    'Ridge':Ridge(),\n",
    "    'LASSO':Lasso(),\n",
    "    'Decision Tree': DecisionTreeRegressor(),\n",
    "    'Random Forest':RandomForestRegressor(),\n",
    "    'Extra Trees': ExtraTreesRegressor(),\n",
    "    'Gradient Boosting': GradientBoostingRegressor(),\n",
    "    'Adaboost': AdaBoostRegressor()\n",
    "}\n",
    "\n",
    "def model_scorer(model_name, model):\n",
    "    output = []\n",
    "    output.append(model_name)\n",
    "\n",
    "    # pipeline\n",
    "    pipeline = Pipeline([\n",
    "        ('preprocessor', preprocessor),\n",
    "        ('regressor', model)\n",
    "    ])\n",
    "\n",
    "    # K-fold cross validation\n",
    "    kfold = KFold(n_splits=10, shuffle=True, random_state=42)\n",
    "    scores = cross_val_score(pipeline, X, y, cv=kfold, scoring='r2')\n",
    "\n",
    "    output.append(scores.mean())\n",
    "\n",
    "    # splitting data into train and test set\n",
    "    x_train, x_test, y_train, y_test = train_test_split(X, y, test_size=0.20, random_state=42)\n",
    "\n",
    "    pipeline.fit(x_train, y_train)\n",
    "\n",
    "    y_pred = pipeline.predict(x_test)\n",
    "\n",
    "    output.append(mean_absolute_error(y_test, y_pred))\n",
    "\n",
    "    return output"
   ]
  },
  {
   "cell_type": "code",
   "execution_count": 28,
   "metadata": {
    "executionInfo": {
     "elapsed": 429045,
     "status": "ok",
     "timestamp": 1741028396407,
     "user": {
      "displayName": "Aastha Rajput",
      "userId": "08267813752553560513"
     },
     "user_tz": -330
    },
    "id": "HDvqV51we3_l"
   },
   "outputs": [],
   "source": [
    "model_output = []\n",
    "for model_name, model in models.items():\n",
    "    model_output.append(model_scorer(model_name, model))"
   ]
  },
  {
   "cell_type": "code",
   "execution_count": 29,
   "metadata": {
    "colab": {
     "base_uri": "https://localhost:8080/",
     "height": 332
    },
    "executionInfo": {
     "elapsed": 28,
     "status": "ok",
     "timestamp": 1741028471636,
     "user": {
      "displayName": "Aastha Rajput",
      "userId": "08267813752553560513"
     },
     "user_tz": -330
    },
    "id": "ZPu23deAfU7n",
    "outputId": "f2e9fbd9-b8a1-4084-a7df-371de15776f2"
   },
   "outputs": [
    {
     "data": {
      "application/vnd.microsoft.datawrangler.viewer.v0+json": {
       "columns": [
        {
         "name": "index",
         "rawType": "int64",
         "type": "integer"
        },
        {
         "name": "Name",
         "rawType": "object",
         "type": "string"
        },
        {
         "name": "R2 Score",
         "rawType": "float64",
         "type": "float"
        },
        {
         "name": "MAE",
         "rawType": "float64",
         "type": "float"
        }
       ],
       "conversionMethod": "pd.DataFrame",
       "ref": "d2867e01-523d-40dd-97d4-bbc64cab7a70",
       "rows": [
        [
         "5",
         "Random Forest",
         "0.9859930023193005",
         "0.11930541350826766"
        ],
        [
         "7",
         "Gradient Boosting",
         "0.9871614949147569",
         "0.1200236084276796"
        ],
        [
         "6",
         "Extra Trees",
         "0.9842713387787534",
         "0.12252122973925306"
        ],
        [
         "1",
         "SVR",
         "0.9851228402271254",
         "0.13468191080241723"
        ],
        [
         "8",
         "Adaboost",
         "0.9833317370663913",
         "0.13915638074702188"
        ],
        [
         "4",
         "Decision Tree",
         "0.9751685883366749",
         "0.14907505285412262"
        ],
        [
         "2",
         "Ridge",
         "0.9076513887840283",
         "0.38157782494273956"
        ],
        [
         "0",
         "Linear_regression",
         "0.905599002140962",
         "0.38362767119376096"
        ],
        [
         "3",
         "LASSO",
         "0.652136793298248",
         "0.7374675250384788"
        ]
       ],
       "shape": {
        "columns": 3,
        "rows": 9
       }
      },
      "text/html": [
       "<div>\n",
       "<style scoped>\n",
       "    .dataframe tbody tr th:only-of-type {\n",
       "        vertical-align: middle;\n",
       "    }\n",
       "\n",
       "    .dataframe tbody tr th {\n",
       "        vertical-align: top;\n",
       "    }\n",
       "\n",
       "    .dataframe thead th {\n",
       "        text-align: right;\n",
       "    }\n",
       "</style>\n",
       "<table border=\"1\" class=\"dataframe\">\n",
       "  <thead>\n",
       "    <tr style=\"text-align: right;\">\n",
       "      <th></th>\n",
       "      <th>Name</th>\n",
       "      <th>R2 Score</th>\n",
       "      <th>MAE</th>\n",
       "    </tr>\n",
       "  </thead>\n",
       "  <tbody>\n",
       "    <tr>\n",
       "      <th>5</th>\n",
       "      <td>Random Forest</td>\n",
       "      <td>0.985993</td>\n",
       "      <td>0.119305</td>\n",
       "    </tr>\n",
       "    <tr>\n",
       "      <th>7</th>\n",
       "      <td>Gradient Boosting</td>\n",
       "      <td>0.987161</td>\n",
       "      <td>0.120024</td>\n",
       "    </tr>\n",
       "    <tr>\n",
       "      <th>6</th>\n",
       "      <td>Extra Trees</td>\n",
       "      <td>0.984271</td>\n",
       "      <td>0.122521</td>\n",
       "    </tr>\n",
       "    <tr>\n",
       "      <th>1</th>\n",
       "      <td>SVR</td>\n",
       "      <td>0.985123</td>\n",
       "      <td>0.134682</td>\n",
       "    </tr>\n",
       "    <tr>\n",
       "      <th>8</th>\n",
       "      <td>Adaboost</td>\n",
       "      <td>0.983332</td>\n",
       "      <td>0.139156</td>\n",
       "    </tr>\n",
       "    <tr>\n",
       "      <th>4</th>\n",
       "      <td>Decision Tree</td>\n",
       "      <td>0.975169</td>\n",
       "      <td>0.149075</td>\n",
       "    </tr>\n",
       "    <tr>\n",
       "      <th>2</th>\n",
       "      <td>Ridge</td>\n",
       "      <td>0.907651</td>\n",
       "      <td>0.381578</td>\n",
       "    </tr>\n",
       "    <tr>\n",
       "      <th>0</th>\n",
       "      <td>Linear_regression</td>\n",
       "      <td>0.905599</td>\n",
       "      <td>0.383628</td>\n",
       "    </tr>\n",
       "    <tr>\n",
       "      <th>3</th>\n",
       "      <td>LASSO</td>\n",
       "      <td>0.652137</td>\n",
       "      <td>0.737468</td>\n",
       "    </tr>\n",
       "  </tbody>\n",
       "</table>\n",
       "</div>"
      ],
      "text/plain": [
       "                Name  R2 Score       MAE\n",
       "5      Random Forest  0.985993  0.119305\n",
       "7  Gradient Boosting  0.987161  0.120024\n",
       "6        Extra Trees  0.984271  0.122521\n",
       "1                SVR  0.985123  0.134682\n",
       "8           Adaboost  0.983332  0.139156\n",
       "4      Decision Tree  0.975169  0.149075\n",
       "2              Ridge  0.907651  0.381578\n",
       "0  Linear_regression  0.905599  0.383628\n",
       "3              LASSO  0.652137  0.737468"
      ]
     },
     "execution_count": 29,
     "metadata": {},
     "output_type": "execute_result"
    }
   ],
   "source": [
    "# creating a dataframe\n",
    "model_df  =pd.DataFrame(model_output, columns=['Name', 'R2 Score', 'MAE'])\n",
    "model_df.sort_values(['MAE'])"
   ]
  },
  {
   "cell_type": "markdown",
   "metadata": {
    "id": "XIXqo-QkkC98"
   },
   "source": [
    "Selecting the `Random Forest` as the final ML model as it shows the minimum MAE (Mean Absolute error) and a mean R2 score of 0.98"
   ]
  },
  {
   "cell_type": "markdown",
   "metadata": {
    "id": "JuAa1B4Fk6DR"
   },
   "source": [
    "### Hyperparameter Tuning"
   ]
  },
  {
   "cell_type": "code",
   "execution_count": 30,
   "metadata": {
    "colab": {
     "base_uri": "https://localhost:8080/"
    },
    "executionInfo": {
     "elapsed": 175061,
     "status": "ok",
     "timestamp": 1741028650900,
     "user": {
      "displayName": "Aastha Rajput",
      "userId": "08267813752553560513"
     },
     "user_tz": -330
    },
    "id": "Mu1CuMlQfVfR",
    "outputId": "ac03e355-f409-48f8-c315-ea4a1ba332ad"
   },
   "outputs": [
    {
     "name": "stdout",
     "output_type": "stream",
     "text": [
      "Fitting 5 folds for each of 54 candidates, totalling 270 fits\n",
      "Best Parameters: {'regressor__max_depth': None, 'regressor__max_features': 'sqrt', 'regressor__max_samples': 0.5, 'regressor__n_estimators': 200}\n",
      "Test R² Score: 0.9794\n"
     ]
    }
   ],
   "source": [
    "# Splitting data properly\n",
    "x_train, x_test, y_train, y_test = train_test_split(X, y, test_size=0.2, random_state=42)\n",
    "\n",
    "# Define parameter grid for tuning\n",
    "param_grid = {\n",
    "    'regressor__n_estimators': [50, 100, 200],  # Fewer values for efficiency\n",
    "    'regressor__max_depth': [None, 10, 20],\n",
    "    'regressor__max_samples': [0.1, 0.25, 0.5],\n",
    "    'regressor__max_features': ['sqrt', 'log2']  # 'auto' is deprecated\n",
    "}\n",
    "\n",
    "# Define the pipeline\n",
    "pipeline = Pipeline([\n",
    "    ('preprocessor', preprocessor),\n",
    "    ('regressor', RandomForestRegressor(random_state=42))\n",
    "])\n",
    "\n",
    "# Cross-validation strategy\n",
    "kfold = KFold(n_splits=5, shuffle=True, random_state=42)\n",
    "\n",
    "# Grid Search with parallel processing\n",
    "search = GridSearchCV(pipeline, param_grid, cv=kfold, scoring='r2', n_jobs=-1, verbose=2)\n",
    "search.fit(x_train, y_train)\n",
    "\n",
    "# Print best parameters\n",
    "print(f\"Best Parameters: {search.best_params_}\")\n",
    "\n",
    "# Evaluate on test set\n",
    "best_model = search.best_estimator_\n",
    "test_score = best_model.score(x_test, y_test)\n",
    "print(f\"Test R² Score: {test_score:.4f}\")"
   ]
  },
  {
   "cell_type": "code",
   "execution_count": 31,
   "metadata": {
    "colab": {
     "base_uri": "https://localhost:8080/",
     "height": 249
    },
    "executionInfo": {
     "elapsed": 2752,
     "status": "ok",
     "timestamp": 1741028702618,
     "user": {
      "displayName": "Aastha Rajput",
      "userId": "08267813752553560513"
     },
     "user_tz": -330
    },
    "id": "0AaXz1VEnJ0_",
    "outputId": "6e926c86-3c70-4f4c-9ac6-3477857aef1c"
   },
   "outputs": [
    {
     "data": {
      "text/html": [
       "<style>#sk-container-id-1 {\n",
       "  /* Definition of color scheme common for light and dark mode */\n",
       "  --sklearn-color-text: #000;\n",
       "  --sklearn-color-text-muted: #666;\n",
       "  --sklearn-color-line: gray;\n",
       "  /* Definition of color scheme for unfitted estimators */\n",
       "  --sklearn-color-unfitted-level-0: #fff5e6;\n",
       "  --sklearn-color-unfitted-level-1: #f6e4d2;\n",
       "  --sklearn-color-unfitted-level-2: #ffe0b3;\n",
       "  --sklearn-color-unfitted-level-3: chocolate;\n",
       "  /* Definition of color scheme for fitted estimators */\n",
       "  --sklearn-color-fitted-level-0: #f0f8ff;\n",
       "  --sklearn-color-fitted-level-1: #d4ebff;\n",
       "  --sklearn-color-fitted-level-2: #b3dbfd;\n",
       "  --sklearn-color-fitted-level-3: cornflowerblue;\n",
       "\n",
       "  /* Specific color for light theme */\n",
       "  --sklearn-color-text-on-default-background: var(--sg-text-color, var(--theme-code-foreground, var(--jp-content-font-color1, black)));\n",
       "  --sklearn-color-background: var(--sg-background-color, var(--theme-background, var(--jp-layout-color0, white)));\n",
       "  --sklearn-color-border-box: var(--sg-text-color, var(--theme-code-foreground, var(--jp-content-font-color1, black)));\n",
       "  --sklearn-color-icon: #696969;\n",
       "\n",
       "  @media (prefers-color-scheme: dark) {\n",
       "    /* Redefinition of color scheme for dark theme */\n",
       "    --sklearn-color-text-on-default-background: var(--sg-text-color, var(--theme-code-foreground, var(--jp-content-font-color1, white)));\n",
       "    --sklearn-color-background: var(--sg-background-color, var(--theme-background, var(--jp-layout-color0, #111)));\n",
       "    --sklearn-color-border-box: var(--sg-text-color, var(--theme-code-foreground, var(--jp-content-font-color1, white)));\n",
       "    --sklearn-color-icon: #878787;\n",
       "  }\n",
       "}\n",
       "\n",
       "#sk-container-id-1 {\n",
       "  color: var(--sklearn-color-text);\n",
       "}\n",
       "\n",
       "#sk-container-id-1 pre {\n",
       "  padding: 0;\n",
       "}\n",
       "\n",
       "#sk-container-id-1 input.sk-hidden--visually {\n",
       "  border: 0;\n",
       "  clip: rect(1px 1px 1px 1px);\n",
       "  clip: rect(1px, 1px, 1px, 1px);\n",
       "  height: 1px;\n",
       "  margin: -1px;\n",
       "  overflow: hidden;\n",
       "  padding: 0;\n",
       "  position: absolute;\n",
       "  width: 1px;\n",
       "}\n",
       "\n",
       "#sk-container-id-1 div.sk-dashed-wrapped {\n",
       "  border: 1px dashed var(--sklearn-color-line);\n",
       "  margin: 0 0.4em 0.5em 0.4em;\n",
       "  box-sizing: border-box;\n",
       "  padding-bottom: 0.4em;\n",
       "  background-color: var(--sklearn-color-background);\n",
       "}\n",
       "\n",
       "#sk-container-id-1 div.sk-container {\n",
       "  /* jupyter's `normalize.less` sets `[hidden] { display: none; }`\n",
       "     but bootstrap.min.css set `[hidden] { display: none !important; }`\n",
       "     so we also need the `!important` here to be able to override the\n",
       "     default hidden behavior on the sphinx rendered scikit-learn.org.\n",
       "     See: https://github.com/scikit-learn/scikit-learn/issues/21755 */\n",
       "  display: inline-block !important;\n",
       "  position: relative;\n",
       "}\n",
       "\n",
       "#sk-container-id-1 div.sk-text-repr-fallback {\n",
       "  display: none;\n",
       "}\n",
       "\n",
       "div.sk-parallel-item,\n",
       "div.sk-serial,\n",
       "div.sk-item {\n",
       "  /* draw centered vertical line to link estimators */\n",
       "  background-image: linear-gradient(var(--sklearn-color-text-on-default-background), var(--sklearn-color-text-on-default-background));\n",
       "  background-size: 2px 100%;\n",
       "  background-repeat: no-repeat;\n",
       "  background-position: center center;\n",
       "}\n",
       "\n",
       "/* Parallel-specific style estimator block */\n",
       "\n",
       "#sk-container-id-1 div.sk-parallel-item::after {\n",
       "  content: \"\";\n",
       "  width: 100%;\n",
       "  border-bottom: 2px solid var(--sklearn-color-text-on-default-background);\n",
       "  flex-grow: 1;\n",
       "}\n",
       "\n",
       "#sk-container-id-1 div.sk-parallel {\n",
       "  display: flex;\n",
       "  align-items: stretch;\n",
       "  justify-content: center;\n",
       "  background-color: var(--sklearn-color-background);\n",
       "  position: relative;\n",
       "}\n",
       "\n",
       "#sk-container-id-1 div.sk-parallel-item {\n",
       "  display: flex;\n",
       "  flex-direction: column;\n",
       "}\n",
       "\n",
       "#sk-container-id-1 div.sk-parallel-item:first-child::after {\n",
       "  align-self: flex-end;\n",
       "  width: 50%;\n",
       "}\n",
       "\n",
       "#sk-container-id-1 div.sk-parallel-item:last-child::after {\n",
       "  align-self: flex-start;\n",
       "  width: 50%;\n",
       "}\n",
       "\n",
       "#sk-container-id-1 div.sk-parallel-item:only-child::after {\n",
       "  width: 0;\n",
       "}\n",
       "\n",
       "/* Serial-specific style estimator block */\n",
       "\n",
       "#sk-container-id-1 div.sk-serial {\n",
       "  display: flex;\n",
       "  flex-direction: column;\n",
       "  align-items: center;\n",
       "  background-color: var(--sklearn-color-background);\n",
       "  padding-right: 1em;\n",
       "  padding-left: 1em;\n",
       "}\n",
       "\n",
       "\n",
       "/* Toggleable style: style used for estimator/Pipeline/ColumnTransformer box that is\n",
       "clickable and can be expanded/collapsed.\n",
       "- Pipeline and ColumnTransformer use this feature and define the default style\n",
       "- Estimators will overwrite some part of the style using the `sk-estimator` class\n",
       "*/\n",
       "\n",
       "/* Pipeline and ColumnTransformer style (default) */\n",
       "\n",
       "#sk-container-id-1 div.sk-toggleable {\n",
       "  /* Default theme specific background. It is overwritten whether we have a\n",
       "  specific estimator or a Pipeline/ColumnTransformer */\n",
       "  background-color: var(--sklearn-color-background);\n",
       "}\n",
       "\n",
       "/* Toggleable label */\n",
       "#sk-container-id-1 label.sk-toggleable__label {\n",
       "  cursor: pointer;\n",
       "  display: flex;\n",
       "  width: 100%;\n",
       "  margin-bottom: 0;\n",
       "  padding: 0.5em;\n",
       "  box-sizing: border-box;\n",
       "  text-align: center;\n",
       "  align-items: start;\n",
       "  justify-content: space-between;\n",
       "  gap: 0.5em;\n",
       "}\n",
       "\n",
       "#sk-container-id-1 label.sk-toggleable__label .caption {\n",
       "  font-size: 0.6rem;\n",
       "  font-weight: lighter;\n",
       "  color: var(--sklearn-color-text-muted);\n",
       "}\n",
       "\n",
       "#sk-container-id-1 label.sk-toggleable__label-arrow:before {\n",
       "  /* Arrow on the left of the label */\n",
       "  content: \"▸\";\n",
       "  float: left;\n",
       "  margin-right: 0.25em;\n",
       "  color: var(--sklearn-color-icon);\n",
       "}\n",
       "\n",
       "#sk-container-id-1 label.sk-toggleable__label-arrow:hover:before {\n",
       "  color: var(--sklearn-color-text);\n",
       "}\n",
       "\n",
       "/* Toggleable content - dropdown */\n",
       "\n",
       "#sk-container-id-1 div.sk-toggleable__content {\n",
       "  max-height: 0;\n",
       "  max-width: 0;\n",
       "  overflow: hidden;\n",
       "  text-align: left;\n",
       "  /* unfitted */\n",
       "  background-color: var(--sklearn-color-unfitted-level-0);\n",
       "}\n",
       "\n",
       "#sk-container-id-1 div.sk-toggleable__content.fitted {\n",
       "  /* fitted */\n",
       "  background-color: var(--sklearn-color-fitted-level-0);\n",
       "}\n",
       "\n",
       "#sk-container-id-1 div.sk-toggleable__content pre {\n",
       "  margin: 0.2em;\n",
       "  border-radius: 0.25em;\n",
       "  color: var(--sklearn-color-text);\n",
       "  /* unfitted */\n",
       "  background-color: var(--sklearn-color-unfitted-level-0);\n",
       "}\n",
       "\n",
       "#sk-container-id-1 div.sk-toggleable__content.fitted pre {\n",
       "  /* unfitted */\n",
       "  background-color: var(--sklearn-color-fitted-level-0);\n",
       "}\n",
       "\n",
       "#sk-container-id-1 input.sk-toggleable__control:checked~div.sk-toggleable__content {\n",
       "  /* Expand drop-down */\n",
       "  max-height: 200px;\n",
       "  max-width: 100%;\n",
       "  overflow: auto;\n",
       "}\n",
       "\n",
       "#sk-container-id-1 input.sk-toggleable__control:checked~label.sk-toggleable__label-arrow:before {\n",
       "  content: \"▾\";\n",
       "}\n",
       "\n",
       "/* Pipeline/ColumnTransformer-specific style */\n",
       "\n",
       "#sk-container-id-1 div.sk-label input.sk-toggleable__control:checked~label.sk-toggleable__label {\n",
       "  color: var(--sklearn-color-text);\n",
       "  background-color: var(--sklearn-color-unfitted-level-2);\n",
       "}\n",
       "\n",
       "#sk-container-id-1 div.sk-label.fitted input.sk-toggleable__control:checked~label.sk-toggleable__label {\n",
       "  background-color: var(--sklearn-color-fitted-level-2);\n",
       "}\n",
       "\n",
       "/* Estimator-specific style */\n",
       "\n",
       "/* Colorize estimator box */\n",
       "#sk-container-id-1 div.sk-estimator input.sk-toggleable__control:checked~label.sk-toggleable__label {\n",
       "  /* unfitted */\n",
       "  background-color: var(--sklearn-color-unfitted-level-2);\n",
       "}\n",
       "\n",
       "#sk-container-id-1 div.sk-estimator.fitted input.sk-toggleable__control:checked~label.sk-toggleable__label {\n",
       "  /* fitted */\n",
       "  background-color: var(--sklearn-color-fitted-level-2);\n",
       "}\n",
       "\n",
       "#sk-container-id-1 div.sk-label label.sk-toggleable__label,\n",
       "#sk-container-id-1 div.sk-label label {\n",
       "  /* The background is the default theme color */\n",
       "  color: var(--sklearn-color-text-on-default-background);\n",
       "}\n",
       "\n",
       "/* On hover, darken the color of the background */\n",
       "#sk-container-id-1 div.sk-label:hover label.sk-toggleable__label {\n",
       "  color: var(--sklearn-color-text);\n",
       "  background-color: var(--sklearn-color-unfitted-level-2);\n",
       "}\n",
       "\n",
       "/* Label box, darken color on hover, fitted */\n",
       "#sk-container-id-1 div.sk-label.fitted:hover label.sk-toggleable__label.fitted {\n",
       "  color: var(--sklearn-color-text);\n",
       "  background-color: var(--sklearn-color-fitted-level-2);\n",
       "}\n",
       "\n",
       "/* Estimator label */\n",
       "\n",
       "#sk-container-id-1 div.sk-label label {\n",
       "  font-family: monospace;\n",
       "  font-weight: bold;\n",
       "  display: inline-block;\n",
       "  line-height: 1.2em;\n",
       "}\n",
       "\n",
       "#sk-container-id-1 div.sk-label-container {\n",
       "  text-align: center;\n",
       "}\n",
       "\n",
       "/* Estimator-specific */\n",
       "#sk-container-id-1 div.sk-estimator {\n",
       "  font-family: monospace;\n",
       "  border: 1px dotted var(--sklearn-color-border-box);\n",
       "  border-radius: 0.25em;\n",
       "  box-sizing: border-box;\n",
       "  margin-bottom: 0.5em;\n",
       "  /* unfitted */\n",
       "  background-color: var(--sklearn-color-unfitted-level-0);\n",
       "}\n",
       "\n",
       "#sk-container-id-1 div.sk-estimator.fitted {\n",
       "  /* fitted */\n",
       "  background-color: var(--sklearn-color-fitted-level-0);\n",
       "}\n",
       "\n",
       "/* on hover */\n",
       "#sk-container-id-1 div.sk-estimator:hover {\n",
       "  /* unfitted */\n",
       "  background-color: var(--sklearn-color-unfitted-level-2);\n",
       "}\n",
       "\n",
       "#sk-container-id-1 div.sk-estimator.fitted:hover {\n",
       "  /* fitted */\n",
       "  background-color: var(--sklearn-color-fitted-level-2);\n",
       "}\n",
       "\n",
       "/* Specification for estimator info (e.g. \"i\" and \"?\") */\n",
       "\n",
       "/* Common style for \"i\" and \"?\" */\n",
       "\n",
       ".sk-estimator-doc-link,\n",
       "a:link.sk-estimator-doc-link,\n",
       "a:visited.sk-estimator-doc-link {\n",
       "  float: right;\n",
       "  font-size: smaller;\n",
       "  line-height: 1em;\n",
       "  font-family: monospace;\n",
       "  background-color: var(--sklearn-color-background);\n",
       "  border-radius: 1em;\n",
       "  height: 1em;\n",
       "  width: 1em;\n",
       "  text-decoration: none !important;\n",
       "  margin-left: 0.5em;\n",
       "  text-align: center;\n",
       "  /* unfitted */\n",
       "  border: var(--sklearn-color-unfitted-level-1) 1pt solid;\n",
       "  color: var(--sklearn-color-unfitted-level-1);\n",
       "}\n",
       "\n",
       ".sk-estimator-doc-link.fitted,\n",
       "a:link.sk-estimator-doc-link.fitted,\n",
       "a:visited.sk-estimator-doc-link.fitted {\n",
       "  /* fitted */\n",
       "  border: var(--sklearn-color-fitted-level-1) 1pt solid;\n",
       "  color: var(--sklearn-color-fitted-level-1);\n",
       "}\n",
       "\n",
       "/* On hover */\n",
       "div.sk-estimator:hover .sk-estimator-doc-link:hover,\n",
       ".sk-estimator-doc-link:hover,\n",
       "div.sk-label-container:hover .sk-estimator-doc-link:hover,\n",
       ".sk-estimator-doc-link:hover {\n",
       "  /* unfitted */\n",
       "  background-color: var(--sklearn-color-unfitted-level-3);\n",
       "  color: var(--sklearn-color-background);\n",
       "  text-decoration: none;\n",
       "}\n",
       "\n",
       "div.sk-estimator.fitted:hover .sk-estimator-doc-link.fitted:hover,\n",
       ".sk-estimator-doc-link.fitted:hover,\n",
       "div.sk-label-container:hover .sk-estimator-doc-link.fitted:hover,\n",
       ".sk-estimator-doc-link.fitted:hover {\n",
       "  /* fitted */\n",
       "  background-color: var(--sklearn-color-fitted-level-3);\n",
       "  color: var(--sklearn-color-background);\n",
       "  text-decoration: none;\n",
       "}\n",
       "\n",
       "/* Span, style for the box shown on hovering the info icon */\n",
       ".sk-estimator-doc-link span {\n",
       "  display: none;\n",
       "  z-index: 9999;\n",
       "  position: relative;\n",
       "  font-weight: normal;\n",
       "  right: .2ex;\n",
       "  padding: .5ex;\n",
       "  margin: .5ex;\n",
       "  width: min-content;\n",
       "  min-width: 20ex;\n",
       "  max-width: 50ex;\n",
       "  color: var(--sklearn-color-text);\n",
       "  box-shadow: 2pt 2pt 4pt #999;\n",
       "  /* unfitted */\n",
       "  background: var(--sklearn-color-unfitted-level-0);\n",
       "  border: .5pt solid var(--sklearn-color-unfitted-level-3);\n",
       "}\n",
       "\n",
       ".sk-estimator-doc-link.fitted span {\n",
       "  /* fitted */\n",
       "  background: var(--sklearn-color-fitted-level-0);\n",
       "  border: var(--sklearn-color-fitted-level-3);\n",
       "}\n",
       "\n",
       ".sk-estimator-doc-link:hover span {\n",
       "  display: block;\n",
       "}\n",
       "\n",
       "/* \"?\"-specific style due to the `<a>` HTML tag */\n",
       "\n",
       "#sk-container-id-1 a.estimator_doc_link {\n",
       "  float: right;\n",
       "  font-size: 1rem;\n",
       "  line-height: 1em;\n",
       "  font-family: monospace;\n",
       "  background-color: var(--sklearn-color-background);\n",
       "  border-radius: 1rem;\n",
       "  height: 1rem;\n",
       "  width: 1rem;\n",
       "  text-decoration: none;\n",
       "  /* unfitted */\n",
       "  color: var(--sklearn-color-unfitted-level-1);\n",
       "  border: var(--sklearn-color-unfitted-level-1) 1pt solid;\n",
       "}\n",
       "\n",
       "#sk-container-id-1 a.estimator_doc_link.fitted {\n",
       "  /* fitted */\n",
       "  border: var(--sklearn-color-fitted-level-1) 1pt solid;\n",
       "  color: var(--sklearn-color-fitted-level-1);\n",
       "}\n",
       "\n",
       "/* On hover */\n",
       "#sk-container-id-1 a.estimator_doc_link:hover {\n",
       "  /* unfitted */\n",
       "  background-color: var(--sklearn-color-unfitted-level-3);\n",
       "  color: var(--sklearn-color-background);\n",
       "  text-decoration: none;\n",
       "}\n",
       "\n",
       "#sk-container-id-1 a.estimator_doc_link.fitted:hover {\n",
       "  /* fitted */\n",
       "  background-color: var(--sklearn-color-fitted-level-3);\n",
       "}\n",
       "</style><div id=\"sk-container-id-1\" class=\"sk-top-container\"><div class=\"sk-text-repr-fallback\"><pre>Pipeline(steps=[(&#x27;preprocessor&#x27;,\n",
       "                 ColumnTransformer(remainder=&#x27;passthrough&#x27;,\n",
       "                                   transformers=[(&#x27;target_enc&#x27;, TargetEncoder(),\n",
       "                                                  [&#x27;City&#x27;, &#x27;Country&#x27;]),\n",
       "                                                 (&#x27;ordinal_enc&#x27;,\n",
       "                                                  OrdinalEncoder(categories=[[&#x27;Not &#x27;\n",
       "                                                                              &#x27;rated&#x27;,\n",
       "                                                                              &#x27;Poor&#x27;,\n",
       "                                                                              &#x27;Average&#x27;,\n",
       "                                                                              &#x27;Good&#x27;,\n",
       "                                                                              &#x27;Very &#x27;\n",
       "                                                                              &#x27;Good&#x27;,\n",
       "                                                                              &#x27;Excellent&#x27;]]),\n",
       "                                                  [&#x27;Rating_text&#x27;]),\n",
       "                                                 (&#x27;one_hot_enc&#x27;,\n",
       "                                                  OneHotEncoder(drop=&#x27;first&#x27;,\n",
       "                                                                handle_unknown=&#x27;ignore&#x27;),\n",
       "                                                  [&#x27;Booking&#x27;, &#x27;Online_delivery&#x27;,\n",
       "                                                   &#x27;Deliver_now&#x27;]),\n",
       "                                                 (&#x27;scaler&#x27;, StandardScaler(),\n",
       "                                                  [&#x27;Price range&#x27;, &#x27;Votes&#x27;,\n",
       "                                                   &#x27;cost&#x27;])])),\n",
       "                (&#x27;regressor&#x27;,\n",
       "                 RandomForestRegressor(max_features=&#x27;sqrt&#x27;, max_samples=0.5))])</pre><b>In a Jupyter environment, please rerun this cell to show the HTML representation or trust the notebook. <br />On GitHub, the HTML representation is unable to render, please try loading this page with nbviewer.org.</b></div><div class=\"sk-container\" hidden><div class=\"sk-item sk-dashed-wrapped\"><div class=\"sk-label-container\"><div class=\"sk-label fitted sk-toggleable\"><input class=\"sk-toggleable__control sk-hidden--visually\" id=\"sk-estimator-id-1\" type=\"checkbox\" ><label for=\"sk-estimator-id-1\" class=\"sk-toggleable__label fitted sk-toggleable__label-arrow\"><div><div>Pipeline</div></div><div><a class=\"sk-estimator-doc-link fitted\" rel=\"noreferrer\" target=\"_blank\" href=\"https://scikit-learn.org/1.6/modules/generated/sklearn.pipeline.Pipeline.html\">?<span>Documentation for Pipeline</span></a><span class=\"sk-estimator-doc-link fitted\">i<span>Fitted</span></span></div></label><div class=\"sk-toggleable__content fitted\"><pre>Pipeline(steps=[(&#x27;preprocessor&#x27;,\n",
       "                 ColumnTransformer(remainder=&#x27;passthrough&#x27;,\n",
       "                                   transformers=[(&#x27;target_enc&#x27;, TargetEncoder(),\n",
       "                                                  [&#x27;City&#x27;, &#x27;Country&#x27;]),\n",
       "                                                 (&#x27;ordinal_enc&#x27;,\n",
       "                                                  OrdinalEncoder(categories=[[&#x27;Not &#x27;\n",
       "                                                                              &#x27;rated&#x27;,\n",
       "                                                                              &#x27;Poor&#x27;,\n",
       "                                                                              &#x27;Average&#x27;,\n",
       "                                                                              &#x27;Good&#x27;,\n",
       "                                                                              &#x27;Very &#x27;\n",
       "                                                                              &#x27;Good&#x27;,\n",
       "                                                                              &#x27;Excellent&#x27;]]),\n",
       "                                                  [&#x27;Rating_text&#x27;]),\n",
       "                                                 (&#x27;one_hot_enc&#x27;,\n",
       "                                                  OneHotEncoder(drop=&#x27;first&#x27;,\n",
       "                                                                handle_unknown=&#x27;ignore&#x27;),\n",
       "                                                  [&#x27;Booking&#x27;, &#x27;Online_delivery&#x27;,\n",
       "                                                   &#x27;Deliver_now&#x27;]),\n",
       "                                                 (&#x27;scaler&#x27;, StandardScaler(),\n",
       "                                                  [&#x27;Price range&#x27;, &#x27;Votes&#x27;,\n",
       "                                                   &#x27;cost&#x27;])])),\n",
       "                (&#x27;regressor&#x27;,\n",
       "                 RandomForestRegressor(max_features=&#x27;sqrt&#x27;, max_samples=0.5))])</pre></div> </div></div><div class=\"sk-serial\"><div class=\"sk-item sk-dashed-wrapped\"><div class=\"sk-label-container\"><div class=\"sk-label fitted sk-toggleable\"><input class=\"sk-toggleable__control sk-hidden--visually\" id=\"sk-estimator-id-2\" type=\"checkbox\" ><label for=\"sk-estimator-id-2\" class=\"sk-toggleable__label fitted sk-toggleable__label-arrow\"><div><div>preprocessor: ColumnTransformer</div></div><div><a class=\"sk-estimator-doc-link fitted\" rel=\"noreferrer\" target=\"_blank\" href=\"https://scikit-learn.org/1.6/modules/generated/sklearn.compose.ColumnTransformer.html\">?<span>Documentation for preprocessor: ColumnTransformer</span></a></div></label><div class=\"sk-toggleable__content fitted\"><pre>ColumnTransformer(remainder=&#x27;passthrough&#x27;,\n",
       "                  transformers=[(&#x27;target_enc&#x27;, TargetEncoder(),\n",
       "                                 [&#x27;City&#x27;, &#x27;Country&#x27;]),\n",
       "                                (&#x27;ordinal_enc&#x27;,\n",
       "                                 OrdinalEncoder(categories=[[&#x27;Not rated&#x27;,\n",
       "                                                             &#x27;Poor&#x27;, &#x27;Average&#x27;,\n",
       "                                                             &#x27;Good&#x27;,\n",
       "                                                             &#x27;Very Good&#x27;,\n",
       "                                                             &#x27;Excellent&#x27;]]),\n",
       "                                 [&#x27;Rating_text&#x27;]),\n",
       "                                (&#x27;one_hot_enc&#x27;,\n",
       "                                 OneHotEncoder(drop=&#x27;first&#x27;,\n",
       "                                               handle_unknown=&#x27;ignore&#x27;),\n",
       "                                 [&#x27;Booking&#x27;, &#x27;Online_delivery&#x27;, &#x27;Deliver_now&#x27;]),\n",
       "                                (&#x27;scaler&#x27;, StandardScaler(),\n",
       "                                 [&#x27;Price range&#x27;, &#x27;Votes&#x27;, &#x27;cost&#x27;])])</pre></div> </div></div><div class=\"sk-parallel\"><div class=\"sk-parallel-item\"><div class=\"sk-item\"><div class=\"sk-label-container\"><div class=\"sk-label fitted sk-toggleable\"><input class=\"sk-toggleable__control sk-hidden--visually\" id=\"sk-estimator-id-3\" type=\"checkbox\" ><label for=\"sk-estimator-id-3\" class=\"sk-toggleable__label fitted sk-toggleable__label-arrow\"><div><div>target_enc</div></div></label><div class=\"sk-toggleable__content fitted\"><pre>[&#x27;City&#x27;, &#x27;Country&#x27;]</pre></div> </div></div><div class=\"sk-serial\"><div class=\"sk-item\"><div class=\"sk-estimator fitted sk-toggleable\"><input class=\"sk-toggleable__control sk-hidden--visually\" id=\"sk-estimator-id-4\" type=\"checkbox\" ><label for=\"sk-estimator-id-4\" class=\"sk-toggleable__label fitted sk-toggleable__label-arrow\"><div><div>TargetEncoder</div></div></label><div class=\"sk-toggleable__content fitted\"><pre>TargetEncoder()</pre></div> </div></div></div></div></div><div class=\"sk-parallel-item\"><div class=\"sk-item\"><div class=\"sk-label-container\"><div class=\"sk-label fitted sk-toggleable\"><input class=\"sk-toggleable__control sk-hidden--visually\" id=\"sk-estimator-id-5\" type=\"checkbox\" ><label for=\"sk-estimator-id-5\" class=\"sk-toggleable__label fitted sk-toggleable__label-arrow\"><div><div>ordinal_enc</div></div></label><div class=\"sk-toggleable__content fitted\"><pre>[&#x27;Rating_text&#x27;]</pre></div> </div></div><div class=\"sk-serial\"><div class=\"sk-item\"><div class=\"sk-estimator fitted sk-toggleable\"><input class=\"sk-toggleable__control sk-hidden--visually\" id=\"sk-estimator-id-6\" type=\"checkbox\" ><label for=\"sk-estimator-id-6\" class=\"sk-toggleable__label fitted sk-toggleable__label-arrow\"><div><div>OrdinalEncoder</div></div><div><a class=\"sk-estimator-doc-link fitted\" rel=\"noreferrer\" target=\"_blank\" href=\"https://scikit-learn.org/1.6/modules/generated/sklearn.preprocessing.OrdinalEncoder.html\">?<span>Documentation for OrdinalEncoder</span></a></div></label><div class=\"sk-toggleable__content fitted\"><pre>OrdinalEncoder(categories=[[&#x27;Not rated&#x27;, &#x27;Poor&#x27;, &#x27;Average&#x27;, &#x27;Good&#x27;, &#x27;Very Good&#x27;,\n",
       "                            &#x27;Excellent&#x27;]])</pre></div> </div></div></div></div></div><div class=\"sk-parallel-item\"><div class=\"sk-item\"><div class=\"sk-label-container\"><div class=\"sk-label fitted sk-toggleable\"><input class=\"sk-toggleable__control sk-hidden--visually\" id=\"sk-estimator-id-7\" type=\"checkbox\" ><label for=\"sk-estimator-id-7\" class=\"sk-toggleable__label fitted sk-toggleable__label-arrow\"><div><div>one_hot_enc</div></div></label><div class=\"sk-toggleable__content fitted\"><pre>[&#x27;Booking&#x27;, &#x27;Online_delivery&#x27;, &#x27;Deliver_now&#x27;]</pre></div> </div></div><div class=\"sk-serial\"><div class=\"sk-item\"><div class=\"sk-estimator fitted sk-toggleable\"><input class=\"sk-toggleable__control sk-hidden--visually\" id=\"sk-estimator-id-8\" type=\"checkbox\" ><label for=\"sk-estimator-id-8\" class=\"sk-toggleable__label fitted sk-toggleable__label-arrow\"><div><div>OneHotEncoder</div></div><div><a class=\"sk-estimator-doc-link fitted\" rel=\"noreferrer\" target=\"_blank\" href=\"https://scikit-learn.org/1.6/modules/generated/sklearn.preprocessing.OneHotEncoder.html\">?<span>Documentation for OneHotEncoder</span></a></div></label><div class=\"sk-toggleable__content fitted\"><pre>OneHotEncoder(drop=&#x27;first&#x27;, handle_unknown=&#x27;ignore&#x27;)</pre></div> </div></div></div></div></div><div class=\"sk-parallel-item\"><div class=\"sk-item\"><div class=\"sk-label-container\"><div class=\"sk-label fitted sk-toggleable\"><input class=\"sk-toggleable__control sk-hidden--visually\" id=\"sk-estimator-id-9\" type=\"checkbox\" ><label for=\"sk-estimator-id-9\" class=\"sk-toggleable__label fitted sk-toggleable__label-arrow\"><div><div>scaler</div></div></label><div class=\"sk-toggleable__content fitted\"><pre>[&#x27;Price range&#x27;, &#x27;Votes&#x27;, &#x27;cost&#x27;]</pre></div> </div></div><div class=\"sk-serial\"><div class=\"sk-item\"><div class=\"sk-estimator fitted sk-toggleable\"><input class=\"sk-toggleable__control sk-hidden--visually\" id=\"sk-estimator-id-10\" type=\"checkbox\" ><label for=\"sk-estimator-id-10\" class=\"sk-toggleable__label fitted sk-toggleable__label-arrow\"><div><div>StandardScaler</div></div><div><a class=\"sk-estimator-doc-link fitted\" rel=\"noreferrer\" target=\"_blank\" href=\"https://scikit-learn.org/1.6/modules/generated/sklearn.preprocessing.StandardScaler.html\">?<span>Documentation for StandardScaler</span></a></div></label><div class=\"sk-toggleable__content fitted\"><pre>StandardScaler()</pre></div> </div></div></div></div></div><div class=\"sk-parallel-item\"><div class=\"sk-item\"><div class=\"sk-label-container\"><div class=\"sk-label fitted sk-toggleable\"><input class=\"sk-toggleable__control sk-hidden--visually\" id=\"sk-estimator-id-11\" type=\"checkbox\" ><label for=\"sk-estimator-id-11\" class=\"sk-toggleable__label fitted sk-toggleable__label-arrow\"><div><div>remainder</div></div></label><div class=\"sk-toggleable__content fitted\"><pre>[&#x27; Afghani&#x27;, &#x27; African&#x27;, &#x27; American&#x27;, &#x27; Andhra&#x27;, &#x27; Arabian&#x27;, &#x27; Argentine&#x27;, &#x27; Armenian&#x27;, &#x27; Asian&#x27;, &#x27; Assamese&#x27;, &#x27; Australian&#x27;, &#x27; Awadhi&#x27;, &#x27; BBQ&#x27;, &#x27; Bakery&#x27;, &#x27; Bar Food&#x27;, &#x27; Belgian&#x27;, &#x27; Bengali&#x27;, &#x27; Beverages&#x27;, &#x27; Bihari&#x27;, &#x27; Biryani&#x27;, &#x27; Brazilian&#x27;, &#x27; Breakfast&#x27;, &#x27; British&#x27;, &#x27; Bubble Tea&#x27;, &#x27; Burger&#x27;, &#x27; Burmese&#x27;, &#x27; Börek&#x27;, &#x27; Cafe&#x27;, &#x27; Cajun&#x27;, &#x27; Canadian&#x27;, &#x27; Cantonese&#x27;, &#x27; Caribbean&#x27;, &#x27; Charcoal Grill&#x27;, &#x27; Chettinad&#x27;, &#x27; Chinese&#x27;, &#x27; Coffee and Tea&#x27;, &#x27; Contemporary&#x27;, &#x27; Continental&#x27;, &#x27; Cuban&#x27;, &#x27; Curry&#x27;, &#x27; Deli&#x27;, &#x27; Desserts&#x27;, &#x27; Dim Sum&#x27;, &#x27; Diner&#x27;, &#x27; Durban&#x27;, &#x27; Döner&#x27;, &#x27; European&#x27;, &#x27; Fast Food&#x27;, &#x27; Filipino&#x27;, &#x27; Finger Food&#x27;, &#x27; Fish and Chips&#x27;, &#x27; French&#x27;, &#x27; Fusion&#x27;, &#x27; German&#x27;, &#x27; Goan&#x27;, &#x27; Greek&#x27;, &#x27; Grill&#x27;, &#x27; Gujarati&#x27;, &#x27; Hawaiian&#x27;, &#x27; Healthy Food&#x27;, &#x27; Hyderabadi&#x27;, &#x27; Ice Cream&#x27;, &#x27; Indian&#x27;, &#x27; Indonesian&#x27;, &#x27; International&#x27;, &#x27; Iranian&#x27;, &#x27; Italian&#x27;, &#x27; Izgara&#x27;, &#x27; Japanese&#x27;, &#x27; Juices&#x27;, &#x27; Kashmiri&#x27;, &#x27; Kerala&#x27;, &#x27; Kiwi&#x27;, &#x27; Korean&#x27;, &#x27; Latin American&#x27;, &#x27; Lebanese&#x27;, &#x27; Lucknowi&#x27;, &#x27; Maharashtrian&#x27;, &#x27; Malay&#x27;, &#x27; Malaysian&#x27;, &#x27; Mangalorean&#x27;, &#x27; Mediterranean&#x27;, &#x27; Mexican&#x27;, &#x27; Middle Eastern&#x27;, &#x27; Mineira&#x27;, &#x27; Mithai&#x27;, &#x27; Modern Australian&#x27;, &#x27; Modern Indian&#x27;, &#x27; Moroccan&#x27;, &#x27; Mughlai&#x27;, &#x27; Naga&#x27;, &#x27; Nepalese&#x27;, &#x27; North Eastern&#x27;, &#x27; North Indian&#x27;, &#x27; Pakistani&#x27;, &#x27; Parsi&#x27;, &#x27; Patisserie&#x27;, &#x27; Persian&#x27;, &#x27; Pizza&#x27;, &#x27; Portuguese&#x27;, &#x27; Pub Food&#x27;, &#x27; Rajasthani&#x27;, &#x27; Ramen&#x27;, &#x27; Raw Meats&#x27;, &#x27; Salad&#x27;, &#x27; Sandwich&#x27;, &#x27; Scottish&#x27;, &#x27; Seafood&#x27;, &#x27; Singaporean&#x27;, &#x27; Soul Food&#x27;, &#x27; South African&#x27;, &#x27; South Indian&#x27;, &#x27; Southern&#x27;, &#x27; Southwestern&#x27;, &#x27; Spanish&#x27;, &#x27; Sri Lankan&#x27;, &#x27; Steak&#x27;, &#x27; Street Food&#x27;, &#x27; Sushi&#x27;, &#x27; Tapas&#x27;, &#x27; Tea&#x27;, &#x27; Teriyaki&#x27;, &#x27; Tex-Mex&#x27;, &#x27; Thai&#x27;, &#x27; Tibetan&#x27;, &#x27; Turkish&#x27;, &#x27; Turkish Pizza&#x27;, &#x27; Vegetarian&#x27;, &#x27; Vietnamese&#x27;, &#x27; Western&#x27;, &#x27; World Cuisine&#x27;, &#x27;Afghani&#x27;, &#x27;African&#x27;, &#x27;American&#x27;, &#x27;Andhra&#x27;, &#x27;Arabian&#x27;, &#x27;Argentine&#x27;, &#x27;Asian&#x27;, &#x27;Asian Fusion&#x27;, &#x27;Assamese&#x27;, &#x27;Australian&#x27;, &#x27;Awadhi&#x27;, &#x27;BBQ&#x27;, &#x27;Bakery&#x27;, &#x27;Bar Food&#x27;, &#x27;Bengali&#x27;, &#x27;Beverages&#x27;, &#x27;Bihari&#x27;, &#x27;Biryani&#x27;, &#x27;Brazilian&#x27;, &#x27;Breakfast&#x27;, &#x27;British&#x27;, &#x27;Burger&#x27;, &#x27;Burmese&#x27;, &#x27;Cafe&#x27;, &#x27;Cajun&#x27;, &#x27;Caribbean&#x27;, &#x27;Charcoal Grill&#x27;, &#x27;Chinese&#x27;, &#x27;Coffee and Tea&#x27;, &#x27;Contemporary&#x27;, &#x27;Continental&#x27;, &#x27;Cuban&#x27;, &#x27;Cuisine Varies&#x27;, &#x27;Desserts&#x27;, &#x27;Drinks Only&#x27;, &#x27;European&#x27;, &#x27;Fast Food&#x27;, &#x27;Filipino&#x27;, &#x27;Finger Food&#x27;, &#x27;French&#x27;, &#x27;German&#x27;, &#x27;Goan&#x27;, &#x27;Gourmet Fast Food&#x27;, &#x27;Greek&#x27;, &#x27;Grill&#x27;, &#x27;Gujarati&#x27;, &#x27;Hawaiian&#x27;, &#x27;Healthy Food&#x27;, &#x27;Hyderabadi&#x27;, &#x27;Ice Cream&#x27;, &#x27;Indian&#x27;, &#x27;Indonesian&#x27;, &#x27;International&#x27;, &#x27;Irish&#x27;, &#x27;Italian&#x27;, &#x27;Japanese&#x27;, &#x27;Juices&#x27;, &#x27;Kashmiri&#x27;, &#x27;Kebab&#x27;, &#x27;Kerala&#x27;, &#x27;Kiwi&#x27;, &#x27;Korean&#x27;, &#x27;Latin American&#x27;, &#x27;Lebanese&#x27;, &#x27;Lucknowi&#x27;, &#x27;Maharashtrian&#x27;, &#x27;Malaysian&#x27;, &#x27;Malwani&#x27;, &#x27;Mediterranean&#x27;, &#x27;Mexican&#x27;, &#x27;Middle Eastern&#x27;, &#x27;Mithai&#x27;, &#x27;Modern Australian&#x27;, &#x27;Modern Indian&#x27;, &#x27;Mughlai&#x27;, &#x27;Naga&#x27;, &#x27;Nepalese&#x27;, &#x27;New American&#x27;, &#x27;North Eastern&#x27;, &#x27;North Indian&#x27;, &#x27;Oriya&#x27;, &#x27;Pakistani&#x27;, &#x27;Parsi&#x27;, &#x27;Patisserie&#x27;, &#x27;Peranakan&#x27;, &#x27;Persian&#x27;, &#x27;Peruvian&#x27;, &#x27;Pizza&#x27;, &#x27;Portuguese&#x27;, &#x27;Pub Food&#x27;, &#x27;Rajasthani&#x27;, &#x27;Ramen&#x27;, &#x27;Raw Meats&#x27;, &#x27;Restaurant Cafe&#x27;, &#x27;Salad&#x27;, &#x27;Sandwich&#x27;, &#x27;Scottish&#x27;, &#x27;Seafood&#x27;, &#x27;Singaporean&#x27;, &#x27;South American&#x27;, &#x27;South Indian&#x27;, &#x27;Southern&#x27;, &#x27;Spanish&#x27;, &#x27;Sri Lankan&#x27;, &#x27;Steak&#x27;, &#x27;Street Food&#x27;, &#x27;Sunda&#x27;, &#x27;Sushi&#x27;, &#x27;Taiwanese&#x27;, &#x27;Tapas&#x27;, &#x27;Tea&#x27;, &#x27;Tex-Mex&#x27;, &#x27;Thai&#x27;, &#x27;Tibetan&#x27;, &#x27;Turkish&#x27;, &#x27;Turkish Pizza&#x27;, &#x27;Vietnamese&#x27;, &#x27;Western&#x27;, &#x27;World Cuisine&#x27;]</pre></div> </div></div><div class=\"sk-serial\"><div class=\"sk-item\"><div class=\"sk-estimator fitted sk-toggleable\"><input class=\"sk-toggleable__control sk-hidden--visually\" id=\"sk-estimator-id-12\" type=\"checkbox\" ><label for=\"sk-estimator-id-12\" class=\"sk-toggleable__label fitted sk-toggleable__label-arrow\"><div><div>passthrough</div></div></label><div class=\"sk-toggleable__content fitted\"><pre>passthrough</pre></div> </div></div></div></div></div></div></div><div class=\"sk-item\"><div class=\"sk-estimator fitted sk-toggleable\"><input class=\"sk-toggleable__control sk-hidden--visually\" id=\"sk-estimator-id-13\" type=\"checkbox\" ><label for=\"sk-estimator-id-13\" class=\"sk-toggleable__label fitted sk-toggleable__label-arrow\"><div><div>RandomForestRegressor</div></div><div><a class=\"sk-estimator-doc-link fitted\" rel=\"noreferrer\" target=\"_blank\" href=\"https://scikit-learn.org/1.6/modules/generated/sklearn.ensemble.RandomForestRegressor.html\">?<span>Documentation for RandomForestRegressor</span></a></div></label><div class=\"sk-toggleable__content fitted\"><pre>RandomForestRegressor(max_features=&#x27;sqrt&#x27;, max_samples=0.5)</pre></div> </div></div></div></div></div></div>"
      ],
      "text/plain": [
       "Pipeline(steps=[('preprocessor',\n",
       "                 ColumnTransformer(remainder='passthrough',\n",
       "                                   transformers=[('target_enc', TargetEncoder(),\n",
       "                                                  ['City', 'Country']),\n",
       "                                                 ('ordinal_enc',\n",
       "                                                  OrdinalEncoder(categories=[['Not '\n",
       "                                                                              'rated',\n",
       "                                                                              'Poor',\n",
       "                                                                              'Average',\n",
       "                                                                              'Good',\n",
       "                                                                              'Very '\n",
       "                                                                              'Good',\n",
       "                                                                              'Excellent']]),\n",
       "                                                  ['Rating_text']),\n",
       "                                                 ('one_hot_enc',\n",
       "                                                  OneHotEncoder(drop='first',\n",
       "                                                                handle_unknown='ignore'),\n",
       "                                                  ['Booking', 'Online_delivery',\n",
       "                                                   'Deliver_now']),\n",
       "                                                 ('scaler', StandardScaler(),\n",
       "                                                  ['Price range', 'Votes',\n",
       "                                                   'cost'])])),\n",
       "                ('regressor',\n",
       "                 RandomForestRegressor(max_features='sqrt', max_samples=0.5))])"
      ]
     },
     "execution_count": 31,
     "metadata": {},
     "output_type": "execute_result"
    }
   ],
   "source": [
    "# Reuse the existing preprocessor\n",
    "best_model = RandomForestRegressor(n_estimators=100, max_features='sqrt', max_samples=0.5)  # Use best hyperparameters\n",
    "\n",
    "# Define the final pipeline\n",
    "pipeline = Pipeline([\n",
    "    ('preprocessor', preprocessor),  # Reuse the same preprocessor\n",
    "    ('regressor', best_model)  # Apply best-tuned model\n",
    "])\n",
    "\n",
    "# Train the final model\n",
    "pipeline.fit(X, y)\n"
   ]
  },
  {
   "cell_type": "code",
   "execution_count": 32,
   "metadata": {
    "executionInfo": {
     "elapsed": 173,
     "status": "ok",
     "timestamp": 1741028705176,
     "user": {
      "displayName": "Aastha Rajput",
      "userId": "08267813752553560513"
     },
     "user_tz": -330
    },
    "id": "XbwWTUOXvTbF"
   },
   "outputs": [],
   "source": [
    "# Exporting the final trained pipeline\n",
    "pickle.dump(pipeline, open('restaurant_rating_pipeline.pkl', 'wb'))"
   ]
  },
  {
   "cell_type": "code",
   "execution_count": 33,
   "metadata": {
    "colab": {
     "base_uri": "https://localhost:8080/"
    },
    "executionInfo": {
     "elapsed": 131,
     "status": "ok",
     "timestamp": 1741029196328,
     "user": {
      "displayName": "Aastha Rajput",
      "userId": "08267813752553560513"
     },
     "user_tz": -330
    },
    "id": "cFyXgYcZqF33",
    "outputId": "f1b24328-69b5-4362-e9b8-e82332307e30"
   },
   "outputs": [
    {
     "name": "stdout",
     "output_type": "stream",
     "text": [
      "Predicted Ratings on Test Data: [3.05783333 0.         0.         ... 0.         3.085      2.87425   ]\n",
      "Test predictions saved successfully!\n"
     ]
    }
   ],
   "source": [
    "# loading the pipeline\n",
    "loaded_pipeline = pickle.load(open('restaurant_rating_pipeline.pkl', 'rb'))\n",
    "\n",
    "\n",
    "# Predict on test data WITHOUT manual preprocessing\n",
    "test_predictions = loaded_pipeline.predict(x_test)\n",
    "print(\"Predicted Ratings on Test Data:\", test_predictions)\n",
    "print(\"Test predictions saved successfully!\")"
   ]
  },
  {
   "cell_type": "code",
   "execution_count": 34,
   "metadata": {
    "colab": {
     "base_uri": "https://localhost:8080/"
    },
    "executionInfo": {
     "elapsed": 112,
     "status": "ok",
     "timestamp": 1741030057997,
     "user": {
      "displayName": "Aastha Rajput",
      "userId": "08267813752553560513"
     },
     "user_tz": -330
    },
    "id": "_V-jmCWCbW1Z",
    "outputId": "b9f02914-7ef6-4342-fc06-1ad8d6bbdd91"
   },
   "outputs": [],
   "source": [
    "def predict_rating(new_data, mlb_path='MultiLabelBinarizer.pkl', pipeline_path='restaurant_rating_pipeline.pkl'):\n",
    "    \"\"\"\n",
    "    Predict restaurant rating based on new input data.\n",
    "\n",
    "    Parameters:\n",
    "    - new_data (pd.DataFrame): DataFrame containing new restaurant data.\n",
    "    - mlb_path (str): Path to the saved MultiLabelBinarizer model.\n",
    "    - pipeline_path (str): Path to the saved preprocessing + model pipeline.\n",
    "\n",
    "    Returns:\n",
    "    - float: Predicted rating for the new restaurant.\n",
    "    \"\"\"\n",
    "\n",
    "    # Step 1: Load MultiLabelBinarizer & Apply Transformation\n",
    "    with open(mlb_path, 'rb') as f:\n",
    "        mlb = pickle.load(f)\n",
    "\n",
    "    new_data['Cuisines'] = new_data['Cuisines'].fillna('').apply(lambda x: x.split(',') if x != '' else [])\n",
    "\n",
    "    cuisine_encoded = mlb.transform(new_data['Cuisines'])\n",
    "    cuisine_df = pd.DataFrame(cuisine_encoded, columns=mlb.classes_).astype(int)\n",
    "\n",
    "    new_data = new_data.drop(columns=['Cuisines']).join(cuisine_df)\n",
    "\n",
    "    # Step 2: Load Preprocessing + Model Pipeline\n",
    "    with open(pipeline_path, 'rb') as f:\n",
    "        pipeline = pickle.load(f)\n",
    "\n",
    "    # Step 3: Predict Using the Pipeline\n",
    "    prediction = pipeline.predict(new_data)\n",
    "\n",
    "    return round(prediction[0], 2)  # Returning rounded prediction"
   ]
  },
  {
   "cell_type": "code",
   "execution_count": 35,
   "metadata": {
    "colab": {
     "base_uri": "https://localhost:8080/"
    },
    "executionInfo": {
     "elapsed": 67,
     "status": "ok",
     "timestamp": 1741030088086,
     "user": {
      "displayName": "Aastha Rajput",
      "userId": "08267813752553560513"
     },
     "user_tz": -330
    },
    "id": "OouAqHS8eVmj",
    "outputId": "73a54702-d6ca-4e64-93e9-7871838bc16d"
   },
   "outputs": [
    {
     "name": "stdout",
     "output_type": "stream",
     "text": [
      "Predicted rating: 3.87\n"
     ]
    }
   ],
   "source": [
    "# Example usage\n",
    "new_data = pd.DataFrame([{\n",
    "    'City': 'New York',\n",
    "    'Booking': 'Yes',\n",
    "    'Online_delivery': 'No',\n",
    "    'Deliver_now': 'Yes',\n",
    "    'Price range': 3,\n",
    "    'Rating_text':'Very Good',\n",
    "    'Votes': 250,\n",
    "    'Country': 'USA',\n",
    "    'cost': 15,\n",
    "    'Cuisines': 'Italian'\n",
    "}])\n",
    "\n",
    "predicted_rating = predict_rating(new_data)\n",
    "print(f\"Predicted rating: {predicted_rating}\")"
   ]
  },
  {
   "cell_type": "code",
   "execution_count": null,
   "metadata": {
    "id": "x7EV2Df6etwT"
   },
   "outputs": [],
   "source": []
  }
 ],
 "metadata": {
  "colab": {
   "authorship_tag": "ABX9TyP4dLyczN4s4/bp+wIaB11b",
   "provenance": []
  },
  "kernelspec": {
   "display_name": "base",
   "language": "python",
   "name": "python3"
  },
  "language_info": {
   "codemirror_mode": {
    "name": "ipython",
    "version": 3
   },
   "file_extension": ".py",
   "mimetype": "text/x-python",
   "name": "python",
   "nbconvert_exporter": "python",
   "pygments_lexer": "ipython3",
   "version": "3.12.3"
  }
 },
 "nbformat": 4,
 "nbformat_minor": 0
}
